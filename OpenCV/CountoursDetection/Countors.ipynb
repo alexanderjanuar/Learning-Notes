{
 "cells": [
  {
   "cell_type": "code",
   "execution_count": 1,
   "metadata": {},
   "outputs": [],
   "source": [
    "import cv2 as cv\n",
    "import numpy as np"
   ]
  },
  {
   "cell_type": "code",
   "execution_count": 2,
   "metadata": {},
   "outputs": [],
   "source": [
    "img = cv.imread('../assets/Cat.jpg')"
   ]
  },
  {
   "attachments": {},
   "cell_type": "markdown",
   "metadata": {},
   "source": [
    "**Original Image**\n",
    "\n",
    "<img src='../assets/Cat.jpg' width='300' height='300'>"
   ]
  },
  {
   "attachments": {},
   "cell_type": "markdown",
   "metadata": {},
   "source": [
    "### Countours with canny"
   ]
  },
  {
   "cell_type": "code",
   "execution_count": 19,
   "metadata": {},
   "outputs": [
    {
     "name": "stdout",
     "output_type": "stream",
     "text": [
      "Countours : 81\n"
     ]
    },
    {
     "data": {
      "text/plain": [
       "True"
      ]
     },
     "execution_count": 19,
     "metadata": {},
     "output_type": "execute_result"
    }
   ],
   "source": [
    "#Blur the image\n",
    "blur = cv.GaussianBlur(img,(5,5),cv.BORDER_DEFAULT)\n",
    "\n",
    "# Do edge canny\n",
    "canny = cv.Canny(blur,125,175)\n",
    "\n",
    "countours,hierarchy = cv.findContours(canny,cv.RETR_LIST,cv.CHAIN_APPROX_NONE)\n",
    "print(f\"Countours : {len(countours)}\")\n",
    "\n",
    "#Draw the countours\n",
    "blank = np.zeros(img.shape,dtype = \"uint8\")\n",
    "cv.drawContours(blank,countours,-1,(0,255,0),2)\n",
    "\n",
    "#Show image\n",
    "cv.imshow(\"countours with canny\",blank)\n",
    "cv.waitKey(0)\n",
    "\n",
    "#save the image\n",
    "cv.imwrite(\"Output/CountoursCanny.jpg\", blank)"
   ]
  },
  {
   "attachments": {},
   "cell_type": "markdown",
   "metadata": {},
   "source": [
    "**Output**\n",
    "\n",
    "<img src='Output/CountoursCanny.jpg' width='300' height='300'>"
   ]
  },
  {
   "attachments": {},
   "cell_type": "markdown",
   "metadata": {},
   "source": [
    "### Countours with thresholding"
   ]
  },
  {
   "cell_type": "code",
   "execution_count": 20,
   "metadata": {},
   "outputs": [
    {
     "name": "stdout",
     "output_type": "stream",
     "text": [
      "Countours : 1214\n"
     ]
    },
    {
     "data": {
      "text/plain": [
       "True"
      ]
     },
     "execution_count": 20,
     "metadata": {},
     "output_type": "execute_result"
    }
   ],
   "source": [
    "gray = cv.cvtColor(img,cv.COLOR_BGR2GRAY)\n",
    "\n",
    "ret,threshold = cv.threshold(gray,125,255,cv.THRESH_BINARY)\n",
    "\n",
    "countours,hierarchy = cv.findContours(threshold,cv.RETR_LIST,cv.CHAIN_APPROX_NONE)\n",
    "print(f\"Countours : {len(countours)}\")\n",
    "\n",
    "\n",
    "#Draw the countours\n",
    "blank = np.zeros(img.shape,dtype = \"uint8\")\n",
    "cv.drawContours(blank,countours,-1,(0,255,0),2)\n",
    "\n",
    "#Show image\n",
    "cv.imshow(\"countours with Binary\",blank)\n",
    "cv.waitKey(0)\n",
    "\n",
    "#save the image\n",
    "cv.imwrite(\"Output/CountoursBinary.jpg\", blank)"
   ]
  },
  {
   "attachments": {},
   "cell_type": "markdown",
   "metadata": {},
   "source": [
    "**Output**\n",
    "\n",
    "<img src='Output/CountoursBinary.jpg' width='300' height='300'>"
   ]
  },
  {
   "cell_type": "code",
   "execution_count": null,
   "metadata": {},
   "outputs": [],
   "source": []
  }
 ],
 "metadata": {
  "kernelspec": {
   "display_name": "Python 3",
   "language": "python",
   "name": "python3"
  },
  "language_info": {
   "codemirror_mode": {
    "name": "ipython",
    "version": 3
   },
   "file_extension": ".py",
   "mimetype": "text/x-python",
   "name": "python",
   "nbconvert_exporter": "python",
   "pygments_lexer": "ipython3",
   "version": "3.9.7"
  },
  "orig_nbformat": 4
 },
 "nbformat": 4,
 "nbformat_minor": 2
}
