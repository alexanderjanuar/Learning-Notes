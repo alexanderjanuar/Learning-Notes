{
 "cells": [
  {
   "cell_type": "code",
   "execution_count": 11,
   "metadata": {},
   "outputs": [],
   "source": [
    "import cv2 as cv\n",
    "import numpy as np"
   ]
  },
  {
   "cell_type": "code",
   "execution_count": 12,
   "metadata": {},
   "outputs": [],
   "source": [
    "img = cv.imread('../assets/Cat.jpg')"
   ]
  },
  {
   "cell_type": "markdown",
   "metadata": {},
   "source": [
    "**Original Image**\n",
    "\n",
    "<img src='../assets/Cat.jpg' width='300' height='300'>"
   ]
  },
  {
   "cell_type": "markdown",
   "metadata": {},
   "source": [
    "## Average Blur"
   ]
  },
  {
   "cell_type": "code",
   "execution_count": 13,
   "metadata": {},
   "outputs": [
    {
     "data": {
      "text/plain": [
       "True"
      ]
     },
     "execution_count": 13,
     "metadata": {},
     "output_type": "execute_result"
    }
   ],
   "source": [
    "average = cv.blur(img,(3,3)) #Higher kernel size = more blur\n",
    "\n",
    "cv.imshow(\"Average Blur\",average)\n",
    "\n",
    "cv.waitKey(0)\n",
    "\n",
    "#save the image\n",
    "cv.imwrite(\"Output/AverageBlur.jpg\", average)"
   ]
  },
  {
   "cell_type": "markdown",
   "metadata": {},
   "source": [
    "**Output**\n",
    "\n",
    "<img src='Output/AverageBlur.jpg' width='300' height='300'>"
   ]
  },
  {
   "cell_type": "markdown",
   "metadata": {},
   "source": [
    "## Gaussian Blur"
   ]
  },
  {
   "cell_type": "code",
   "execution_count": 14,
   "metadata": {},
   "outputs": [
    {
     "data": {
      "text/plain": [
       "True"
      ]
     },
     "execution_count": 14,
     "metadata": {},
     "output_type": "execute_result"
    }
   ],
   "source": [
    "gauss = cv.GaussianBlur(img, ksize = (3,3), sigmaX = 0) #Higher kernel size = more blur\n",
    "\n",
    "cv.imshow(\"Gaussian Blur\",gauss)\n",
    "\n",
    "cv.waitKey(0)\n",
    "\n",
    "#save the image\n",
    "cv.imwrite(\"Output/GaussianBlur.jpg\", gauss)"
   ]
  },
  {
   "cell_type": "markdown",
   "metadata": {},
   "source": [
    "**Output**\n",
    "\n",
    "<img src='Output/GaussianBlur.jpg' width='300' height='300'>"
   ]
  },
  {
   "cell_type": "markdown",
   "metadata": {},
   "source": [
    "## Median Blur"
   ]
  },
  {
   "cell_type": "code",
   "execution_count": 15,
   "metadata": {},
   "outputs": [
    {
     "data": {
      "text/plain": [
       "True"
      ]
     },
     "execution_count": 15,
     "metadata": {},
     "output_type": "execute_result"
    }
   ],
   "source": [
    "median = cv.medianBlur(img, ksize = 3)\n",
    "\n",
    "cv.imshow(\"Median Blur\",median)\n",
    "\n",
    "cv.waitKey(0)\n",
    "\n",
    "#save the image\n",
    "cv.imwrite(\"Output/MedianBlur.jpg\", median)"
   ]
  },
  {
   "cell_type": "markdown",
   "metadata": {},
   "source": [
    "**Output**\n",
    "\n",
    "<img src='Output/MedianBlur.jpg' width='300' height='300'>"
   ]
  },
  {
   "cell_type": "markdown",
   "metadata": {},
   "source": [
    "## Bilateral"
   ]
  },
  {
   "cell_type": "code",
   "execution_count": 18,
   "metadata": {},
   "outputs": [
    {
     "data": {
      "text/plain": [
       "True"
      ]
     },
     "execution_count": 18,
     "metadata": {},
     "output_type": "execute_result"
    }
   ],
   "source": [
    "bilateral = cv.bilateralFilter(img, d = 5, sigmaColor = 15, sigmaSpace = 15)\n",
    "\n",
    "cv.imshow(\"Bilateral Filter\",bilateral)\n",
    "\n",
    "cv.waitKey(0)\n",
    "\n",
    "#save the image\n",
    "cv.imwrite(\"Output/BilateralFilter.jpg\", bilateral)"
   ]
  },
  {
   "cell_type": "markdown",
   "metadata": {},
   "source": [
    "**Output**\n",
    "\n",
    "<img src='Output/BilateralFilter.jpg' width='300' height='300'>"
   ]
  }
 ],
 "metadata": {
  "kernelspec": {
   "display_name": "Python 3",
   "language": "python",
   "name": "python3"
  },
  "language_info": {
   "codemirror_mode": {
    "name": "ipython",
    "version": 3
   },
   "file_extension": ".py",
   "mimetype": "text/x-python",
   "name": "python",
   "nbconvert_exporter": "python",
   "pygments_lexer": "ipython3",
   "version": "3.10.11"
  },
  "orig_nbformat": 4
 },
 "nbformat": 4,
 "nbformat_minor": 2
}
