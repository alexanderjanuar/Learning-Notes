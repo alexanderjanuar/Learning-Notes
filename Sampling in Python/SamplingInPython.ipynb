{
 "cells": [
  {
   "attachments": {},
   "cell_type": "markdown",
   "metadata": {},
   "source": [
    "# Sampling in Python\n",
    "\n",
    "Pengambilan sampel dengan Python adalah landasan statistik inferensi dan pengujian hipotesis. Ini merupakan keterampilan yang digunakan dalam analisis survei dan desain eksperimental untuk menarik kesimpulan tanpa mensurvei seluruh populasi."
   ]
  },
  {
   "cell_type": "code",
   "execution_count": 1,
   "metadata": {},
   "outputs": [],
   "source": [
    "# Importing pandas\n",
    "import pandas as pd\n",
    "\n",
    "# Importing Data\n",
    "attrition = pd.read_feather(\"Data/attrition.feather\")\n",
    "spotify = pd.read_feather(\"Data/spotify_2000_2020.feather\")\n",
    "coffee = pd.read_feather(\"Data/coffee_ratings_full.feather\")"
   ]
  },
  {
   "attachments": {},
   "cell_type": "markdown",
   "metadata": {},
   "source": [
    "## Introduction to Sampling\n",
    "Pengenalan kepada sampling dan mempelajari permasalahan yang disebabkan oleh *convenience sampling* (Sampling Kebetulan) dan mempelajari perbedaan antara *true randomness* dan *pseudo-randomness*"
   ]
  },
  {
   "attachments": {},
   "cell_type": "markdown",
   "metadata": {},
   "source": [
    "### Sampling and point estimates\n",
    "\n",
    "- **Sampling** adalah proses di mana porsi dari suatu populasi diseleksi agar dapat mewakilkan populasi tersebut.\n",
    "- **Population** adalah seluruh bagian data yang lengkap\n",
    "  - Tidak harus mengacu kepada orang\n",
    "  - Biasanya, kita tidak tahu berapa jumlah pasti dari seluruh populasi\n",
    "- **Sample** merupakan bagian kecil dari populasi yang dianggap dapat mewakilkan seluruh populasi\n",
    "\n",
    "Sampling tidak disarankan dilakukan ketika populasi/data yang dimiliki berjumlah sedikit"
   ]
  },
  {
   "attachments": {},
   "cell_type": "markdown",
   "metadata": {},
   "source": [
    "#### Sampling sederhana dengan Pandas"
   ]
  },
  {
   "cell_type": "code",
   "execution_count": 2,
   "metadata": {},
   "outputs": [
    {
     "name": "stdout",
     "output_type": "stream",
     "text": [
      "Rata - rata durasi dari populasi : 3.8521519140900073\n",
      "Rata - rata durasi dari sample   : 3.9603390833333334\n"
     ]
    }
   ],
   "source": [
    "# Sample 1000 baris dari data spotify\n",
    "spotify_sample = spotify.sample(n=1000)\n",
    "\n",
    "# Hitung rata - rata dari kolom 'duration_minutes' dari data spotify\n",
    "mean_dur_pop = spotify[\"duration_minutes\"].mean()\n",
    "\n",
    "# Hitung rata - rata dari kolom 'duration_minutes' dari data spotify sample\n",
    "mean_dur_samp = spotify_sample[\"duration_minutes\"].mean()\n",
    "\n",
    "# Print the means\n",
    "print(f'Rata - rata durasi dari populasi : {mean_dur_pop}')\n",
    "print(f'Rata - rata durasi dari sample   : {mean_dur_samp}')"
   ]
  },
  {
   "attachments": {},
   "cell_type": "markdown",
   "metadata": {},
   "source": [
    "Dapat terlihat bahwa nilai rata rata dari **sample** dan **populasi** terlihat mendekati namun tidak sama persis"
   ]
  },
  {
   "attachments": {},
   "cell_type": "markdown",
   "metadata": {},
   "source": [
    "#### Sampling sederhana dengan Numpy"
   ]
  },
  {
   "cell_type": "code",
   "execution_count": 3,
   "metadata": {},
   "outputs": [
    {
     "name": "stdout",
     "output_type": "stream",
     "text": [
      "Rata - rata loudness dari populasi : -7.366856851353947\n",
      "Rata - rata loudness dari sample   : -7.37861\n"
     ]
    }
   ],
   "source": [
    "#Import numpy\n",
    "import numpy as np\n",
    "\n",
    "# Buat series pandas dari kolom 'loudness' dari data populasi\n",
    "loudness_pop = spotify['loudness']\n",
    "\n",
    "# Sample 100 nilai dari loudness_pop\n",
    "loudness_samp = loudness_pop.sample(n=100)\n",
    "\n",
    "# Hitung rata - rata loudness_pop\n",
    "mean_loudness_pop = np.mean(loudness_pop)\n",
    "\n",
    "# Hitung rata - rata loudness_samp\n",
    "mean_loudness_samp = np.mean(loudness_samp)\n",
    "\n",
    "# Print the means\n",
    "print(f'Rata - rata loudness dari populasi : {mean_loudness_pop}')\n",
    "print(f'Rata - rata loudness dari sample   : {mean_loudness_samp}')"
   ]
  },
  {
   "attachments": {},
   "cell_type": "markdown",
   "metadata": {},
   "source": [
    "Dapat terlihat lagi bahwa nilai rata rata dari **sample** dan **populasi** terlihat mendekati namun tidak sama persis"
   ]
  },
  {
   "attachments": {},
   "cell_type": "markdown",
   "metadata": {},
   "source": [
    "### Convenience Sampling\n",
    "\n",
    "- Convenience Sampling adalah pengambilan sampel secara bebas \n",
    "- Teknik pengambilan sampel yang paling umum digunakan karena sangat cepat, tidak rumit, dan ekonomis.\n",
    "- Namun teknik ini, rentan terhadap terjadinya *sample bias* atau sample tidak representatif terhadap populasi"
   ]
  },
  {
   "cell_type": "code",
   "execution_count": 4,
   "metadata": {},
   "outputs": [
    {
     "data": {
      "image/png": "[encoded data removed]",
      "text/plain": [
       "<Figure size 720x360 with 1 Axes>"
      ]
     },
     "metadata": {
      "needs_background": "light"
     },
     "output_type": "display_data"
    },
    {
     "data": {
      "image/png": "[encoded data removed]",
      "text/plain": [
       "<Figure size 720x360 with 1 Axes>"
      ]
     },
     "metadata": {
      "needs_background": "light"
     },
     "output_type": "display_data"
    }
   ],
   "source": [
    "#Import matplotlib\n",
    "import matplotlib.pyplot as plt\n",
    "\n",
    "plt.figure(figsize=(10,5))\n",
    "spotify['acousticness'].hist(bins=np.arange(0,1.01,0.01))\n",
    "plt.title(\"Population Distribution\")\n",
    "plt.show()\n",
    "\n",
    "\n",
    "plt.figure(figsize=(10,5))\n",
    "spotify_acousticness_sample = spotify.head(50)\n",
    "spotify_acousticness_sample['acousticness'].hist(bins=np.arange(0,1.01,0.01))\n",
    "plt.title(\"Convenience Sampling\")\n",
    "plt.show()"
   ]
  },
  {
   "attachments": {},
   "cell_type": "markdown",
   "metadata": {},
   "source": [
    "### Pseudo-random number generation"
   ]
  },
  {
   "cell_type": "code",
   "execution_count": 5,
   "metadata": {},
   "outputs": [
    {
     "data": {
      "image/png": "[encoded data removed]",
      "text/plain": [
       "<Figure size 720x360 with 1 Axes>"
      ]
     },
     "metadata": {
      "needs_background": "light"
     },
     "output_type": "display_data"
    }
   ],
   "source": [
    "# Buat bilangan acak dengan distribusi uniform dengan bilangan paling kecil -3 dan paling besar 3\n",
    "uniforms = np.random.uniform(low=-3, high=3, size=5000)\n",
    "\n",
    "# Buat histogram dari nilai uniforms\n",
    "plt.figure(figsize=(10,5))\n",
    "plt.hist(uniforms, bins=np.arange(-3, 3.25, 0.25))\n",
    "plt.title(\"Uniform Distribution\")\n",
    "plt.show()"
   ]
  },
  {
   "cell_type": "code",
   "execution_count": 6,
   "metadata": {},
   "outputs": [
    {
     "data": {
      "image/png": "[encoded data removed]",
      "text/plain": [
       "<Figure size 720x360 with 1 Axes>"
      ]
     },
     "metadata": {
      "needs_background": "light"
     },
     "output_type": "display_data"
    }
   ],
   "source": [
    "normals = np.random.normal(loc=5, scale=2, size=5000)\n",
    "\n",
    "plt.figure(figsize=(10,5))\n",
    "plt.hist(normals, bins=np.arange(-2, 13.5, 0.5))\n",
    "plt.title(\"Normal Distribution\")\n",
    "plt.show()"
   ]
  },
  {
   "attachments": {},
   "cell_type": "markdown",
   "metadata": {},
   "source": [
    "#### Memahami Random Seed\n",
    "\n",
    "Random seed berguna agar bilangan acak dapat dihasilkan kembali"
   ]
  },
  {
   "cell_type": "code",
   "execution_count": 7,
   "metadata": {},
   "outputs": [
    {
     "name": "stdout",
     "output_type": "stream",
     "text": [
      "X : [-1.0856306   0.99734545  0.2829785  -1.50629471 -0.57860025]\n",
      "Y : [-0.6681285  -0.49820952  0.61857582  0.56869225  1.35050948]\n"
     ]
    }
   ],
   "source": [
    "import numpy as np\n",
    "np.random.seed(123)\n",
    "x = np.random.normal(size=5)\n",
    "print(f'X : {x}')\n",
    "\n",
    "np.random.seed(456)\n",
    "y = np.random.normal(size=5)\n",
    "print(f'Y : {y}')"
   ]
  },
  {
   "attachments": {},
   "cell_type": "markdown",
   "metadata": {},
   "source": [
    "Seed yang berbeda akan menghasilkan bilangan acak yang berbeda juga"
   ]
  },
  {
   "cell_type": "code",
   "execution_count": 8,
   "metadata": {},
   "outputs": [
    {
     "name": "stdout",
     "output_type": "stream",
     "text": [
      "X : [-1.0856306   0.99734545  0.2829785  -1.50629471 -0.57860025]\n",
      "Y : [-1.0856306   0.99734545  0.2829785  -1.50629471 -0.57860025]\n"
     ]
    }
   ],
   "source": [
    "np.random.seed(123)\n",
    "x = np.random.normal(size=5)\n",
    "print(f'X : {x}')\n",
    "\n",
    "np.random.seed(123)\n",
    "y = np.random.normal(size=5)\n",
    "print(f'Y : {y}')"
   ]
  },
  {
   "attachments": {},
   "cell_type": "markdown",
   "metadata": {},
   "source": [
    "Ketika memakai nilai seed yang sama maka bilangan random akan sama"
   ]
  },
  {
   "attachments": {},
   "cell_type": "markdown",
   "metadata": {},
   "source": [
    "## Sampling Methods\n",
    "Menjelaskan dan mempraktikan 4 metode sampling menggunakan Python:\n",
    "- Simple Sampling\n",
    "- Systematic Sampling\n",
    "- Stratified Sampling\n",
    "- Cluster Sampling"
   ]
  },
  {
   "attachments": {},
   "cell_type": "markdown",
   "metadata": {},
   "source": [
    "### Simple random dan systematic sampling"
   ]
  },
  {
   "attachments": {},
   "cell_type": "markdown",
   "metadata": {},
   "source": [
    "#### **Simple Random Sampling**\n",
    "- Salah satu metode *sampling* yang paling sederhana\n",
    "- Bekerja dengan cara memilih *sample* secara acak dan setiap *sample* memiliki kemungkinan yang sama untuk dipilih"
   ]
  },
  {
   "cell_type": "code",
   "execution_count": 9,
   "metadata": {},
   "outputs": [
    {
     "data": {
      "text/html": [
       "<div>\n",
       "<style scoped>\n",
       "    .dataframe tbody tr th:only-of-type {\n",
       "        vertical-align: middle;\n",
       "    }\n",
       "\n",
       "    .dataframe tbody tr th {\n",
       "        vertical-align: top;\n",
       "    }\n",
       "\n",
       "    .dataframe thead th {\n",
       "        text-align: right;\n",
       "    }\n",
       "</style>\n",
       "<table border=\"1\" class=\"dataframe\">\n",
       "  <thead>\n",
       "    <tr style=\"text-align: right;\">\n",
       "      <th></th>\n",
       "      <th>Age</th>\n",
       "      <th>Attrition</th>\n",
       "      <th>BusinessTravel</th>\n",
       "      <th>DailyRate</th>\n",
       "      <th>Department</th>\n",
       "      <th>DistanceFromHome</th>\n",
       "      <th>Education</th>\n",
       "      <th>EducationField</th>\n",
       "      <th>EnvironmentSatisfaction</th>\n",
       "      <th>Gender</th>\n",
       "      <th>...</th>\n",
       "      <th>PerformanceRating</th>\n",
       "      <th>RelationshipSatisfaction</th>\n",
       "      <th>StockOptionLevel</th>\n",
       "      <th>TotalWorkingYears</th>\n",
       "      <th>TrainingTimesLastYear</th>\n",
       "      <th>WorkLifeBalance</th>\n",
       "      <th>YearsAtCompany</th>\n",
       "      <th>YearsInCurrentRole</th>\n",
       "      <th>YearsSinceLastPromotion</th>\n",
       "      <th>YearsWithCurrManager</th>\n",
       "    </tr>\n",
       "  </thead>\n",
       "  <tbody>\n",
       "    <tr>\n",
       "      <th>1134</th>\n",
       "      <td>35</td>\n",
       "      <td>0.0</td>\n",
       "      <td>Travel_Rarely</td>\n",
       "      <td>583</td>\n",
       "      <td>Research_Development</td>\n",
       "      <td>25</td>\n",
       "      <td>Master</td>\n",
       "      <td>Medical</td>\n",
       "      <td>High</td>\n",
       "      <td>Female</td>\n",
       "      <td>...</td>\n",
       "      <td>Excellent</td>\n",
       "      <td>High</td>\n",
       "      <td>1</td>\n",
       "      <td>16</td>\n",
       "      <td>3</td>\n",
       "      <td>Good</td>\n",
       "      <td>16</td>\n",
       "      <td>10</td>\n",
       "      <td>10</td>\n",
       "      <td>1</td>\n",
       "    </tr>\n",
       "    <tr>\n",
       "      <th>1150</th>\n",
       "      <td>52</td>\n",
       "      <td>0.0</td>\n",
       "      <td>Non-Travel</td>\n",
       "      <td>585</td>\n",
       "      <td>Sales</td>\n",
       "      <td>29</td>\n",
       "      <td>Master</td>\n",
       "      <td>Life_Sciences</td>\n",
       "      <td>Low</td>\n",
       "      <td>Male</td>\n",
       "      <td>...</td>\n",
       "      <td>Excellent</td>\n",
       "      <td>Medium</td>\n",
       "      <td>2</td>\n",
       "      <td>16</td>\n",
       "      <td>3</td>\n",
       "      <td>Good</td>\n",
       "      <td>9</td>\n",
       "      <td>8</td>\n",
       "      <td>0</td>\n",
       "      <td>0</td>\n",
       "    </tr>\n",
       "    <tr>\n",
       "      <th>531</th>\n",
       "      <td>33</td>\n",
       "      <td>0.0</td>\n",
       "      <td>Travel_Rarely</td>\n",
       "      <td>931</td>\n",
       "      <td>Research_Development</td>\n",
       "      <td>14</td>\n",
       "      <td>Bachelor</td>\n",
       "      <td>Medical</td>\n",
       "      <td>Very_High</td>\n",
       "      <td>Female</td>\n",
       "      <td>...</td>\n",
       "      <td>Excellent</td>\n",
       "      <td>Very_High</td>\n",
       "      <td>1</td>\n",
       "      <td>8</td>\n",
       "      <td>5</td>\n",
       "      <td>Better</td>\n",
       "      <td>8</td>\n",
       "      <td>7</td>\n",
       "      <td>1</td>\n",
       "      <td>6</td>\n",
       "    </tr>\n",
       "    <tr>\n",
       "      <th>395</th>\n",
       "      <td>31</td>\n",
       "      <td>0.0</td>\n",
       "      <td>Travel_Rarely</td>\n",
       "      <td>1332</td>\n",
       "      <td>Research_Development</td>\n",
       "      <td>11</td>\n",
       "      <td>College</td>\n",
       "      <td>Medical</td>\n",
       "      <td>High</td>\n",
       "      <td>Male</td>\n",
       "      <td>...</td>\n",
       "      <td>Excellent</td>\n",
       "      <td>Very_High</td>\n",
       "      <td>0</td>\n",
       "      <td>6</td>\n",
       "      <td>2</td>\n",
       "      <td>Good</td>\n",
       "      <td>6</td>\n",
       "      <td>5</td>\n",
       "      <td>0</td>\n",
       "      <td>1</td>\n",
       "    </tr>\n",
       "    <tr>\n",
       "      <th>392</th>\n",
       "      <td>29</td>\n",
       "      <td>0.0</td>\n",
       "      <td>Travel_Rarely</td>\n",
       "      <td>942</td>\n",
       "      <td>Research_Development</td>\n",
       "      <td>15</td>\n",
       "      <td>Below_College</td>\n",
       "      <td>Life_Sciences</td>\n",
       "      <td>Medium</td>\n",
       "      <td>Female</td>\n",
       "      <td>...</td>\n",
       "      <td>Excellent</td>\n",
       "      <td>Low</td>\n",
       "      <td>1</td>\n",
       "      <td>6</td>\n",
       "      <td>2</td>\n",
       "      <td>Good</td>\n",
       "      <td>5</td>\n",
       "      <td>4</td>\n",
       "      <td>1</td>\n",
       "      <td>3</td>\n",
       "    </tr>\n",
       "  </tbody>\n",
       "</table>\n",
       "<p>5 rows × 31 columns</p>\n",
       "</div>"
      ],
      "text/plain": [
       "      Age  Attrition BusinessTravel  DailyRate            Department  \\\n",
       "1134   35        0.0  Travel_Rarely        583  Research_Development   \n",
       "1150   52        0.0     Non-Travel        585                 Sales   \n",
       "531    33        0.0  Travel_Rarely        931  Research_Development   \n",
       "395    31        0.0  Travel_Rarely       1332  Research_Development   \n",
       "392    29        0.0  Travel_Rarely        942  Research_Development   \n",
       "\n",
       "      DistanceFromHome      Education EducationField EnvironmentSatisfaction  \\\n",
       "1134                25         Master        Medical                    High   \n",
       "1150                29         Master  Life_Sciences                     Low   \n",
       "531                 14       Bachelor        Medical               Very_High   \n",
       "395                 11        College        Medical                    High   \n",
       "392                 15  Below_College  Life_Sciences                  Medium   \n",
       "\n",
       "      Gender  ...  PerformanceRating RelationshipSatisfaction  \\\n",
       "1134  Female  ...          Excellent                     High   \n",
       "1150    Male  ...          Excellent                   Medium   \n",
       "531   Female  ...          Excellent                Very_High   \n",
       "395     Male  ...          Excellent                Very_High   \n",
       "392   Female  ...          Excellent                      Low   \n",
       "\n",
       "      StockOptionLevel TotalWorkingYears TrainingTimesLastYear  \\\n",
       "1134                 1                16                     3   \n",
       "1150                 2                16                     3   \n",
       "531                  1                 8                     5   \n",
       "395                  0                 6                     2   \n",
       "392                  1                 6                     2   \n",
       "\n",
       "     WorkLifeBalance  YearsAtCompany  YearsInCurrentRole  \\\n",
       "1134            Good              16                  10   \n",
       "1150            Good               9                   8   \n",
       "531           Better               8                   7   \n",
       "395             Good               6                   5   \n",
       "392             Good               5                   4   \n",
       "\n",
       "      YearsSinceLastPromotion YearsWithCurrManager  \n",
       "1134                       10                    1  \n",
       "1150                        0                    0  \n",
       "531                         1                    6  \n",
       "395                         0                    1  \n",
       "392                         1                    3  \n",
       "\n",
       "[5 rows x 31 columns]"
      ]
     },
     "execution_count": 9,
     "metadata": {},
     "output_type": "execute_result"
    }
   ],
   "source": [
    "# Sample 50 baris menggunakan Simple Random Sampling \n",
    "attrition_samp = attrition.sample(n=50,random_state=18900217)\n",
    "\n",
    "# Print the sample\n",
    "attrition_samp.head()"
   ]
  },
  {
   "attachments": {},
   "cell_type": "markdown",
   "metadata": {},
   "source": [
    "Terlihat bahwa index tiap baris yang terambil secara acak "
   ]
  },
  {
   "attachments": {},
   "cell_type": "markdown",
   "metadata": {},
   "source": [
    "#### **Systematic Sampling**\n",
    "- Suatu metode pengambilan sampel, dimana hanya unsur pertama saja dari sampel dipilih secara acak, sedangkan unsur-unsur selanjutnya dipilih secara sistematis menurut pola tertentu."
   ]
  },
  {
   "cell_type": "code",
   "execution_count": 10,
   "metadata": {},
   "outputs": [
    {
     "data": {
      "text/html": [
       "<div>\n",
       "<style scoped>\n",
       "    .dataframe tbody tr th:only-of-type {\n",
       "        vertical-align: middle;\n",
       "    }\n",
       "\n",
       "    .dataframe tbody tr th {\n",
       "        vertical-align: top;\n",
       "    }\n",
       "\n",
       "    .dataframe thead th {\n",
       "        text-align: right;\n",
       "    }\n",
       "</style>\n",
       "<table border=\"1\" class=\"dataframe\">\n",
       "  <thead>\n",
       "    <tr style=\"text-align: right;\">\n",
       "      <th></th>\n",
       "      <th>Age</th>\n",
       "      <th>Attrition</th>\n",
       "      <th>BusinessTravel</th>\n",
       "      <th>DailyRate</th>\n",
       "      <th>Department</th>\n",
       "      <th>DistanceFromHome</th>\n",
       "      <th>Education</th>\n",
       "      <th>EducationField</th>\n",
       "      <th>EnvironmentSatisfaction</th>\n",
       "      <th>Gender</th>\n",
       "      <th>...</th>\n",
       "      <th>PerformanceRating</th>\n",
       "      <th>RelationshipSatisfaction</th>\n",
       "      <th>StockOptionLevel</th>\n",
       "      <th>TotalWorkingYears</th>\n",
       "      <th>TrainingTimesLastYear</th>\n",
       "      <th>WorkLifeBalance</th>\n",
       "      <th>YearsAtCompany</th>\n",
       "      <th>YearsInCurrentRole</th>\n",
       "      <th>YearsSinceLastPromotion</th>\n",
       "      <th>YearsWithCurrManager</th>\n",
       "    </tr>\n",
       "  </thead>\n",
       "  <tbody>\n",
       "    <tr>\n",
       "      <th>0</th>\n",
       "      <td>21</td>\n",
       "      <td>0.0</td>\n",
       "      <td>Travel_Rarely</td>\n",
       "      <td>391</td>\n",
       "      <td>Research_Development</td>\n",
       "      <td>15</td>\n",
       "      <td>College</td>\n",
       "      <td>Life_Sciences</td>\n",
       "      <td>High</td>\n",
       "      <td>Male</td>\n",
       "      <td>...</td>\n",
       "      <td>Excellent</td>\n",
       "      <td>Very_High</td>\n",
       "      <td>0</td>\n",
       "      <td>0</td>\n",
       "      <td>6</td>\n",
       "      <td>Better</td>\n",
       "      <td>0</td>\n",
       "      <td>0</td>\n",
       "      <td>0</td>\n",
       "      <td>0</td>\n",
       "    </tr>\n",
       "    <tr>\n",
       "      <th>21</th>\n",
       "      <td>19</td>\n",
       "      <td>0.0</td>\n",
       "      <td>Travel_Rarely</td>\n",
       "      <td>1181</td>\n",
       "      <td>Research_Development</td>\n",
       "      <td>3</td>\n",
       "      <td>Below_College</td>\n",
       "      <td>Medical</td>\n",
       "      <td>Medium</td>\n",
       "      <td>Female</td>\n",
       "      <td>...</td>\n",
       "      <td>Excellent</td>\n",
       "      <td>Very_High</td>\n",
       "      <td>0</td>\n",
       "      <td>1</td>\n",
       "      <td>3</td>\n",
       "      <td>Better</td>\n",
       "      <td>1</td>\n",
       "      <td>0</td>\n",
       "      <td>0</td>\n",
       "      <td>0</td>\n",
       "    </tr>\n",
       "    <tr>\n",
       "      <th>42</th>\n",
       "      <td>45</td>\n",
       "      <td>0.0</td>\n",
       "      <td>Travel_Rarely</td>\n",
       "      <td>252</td>\n",
       "      <td>Research_Development</td>\n",
       "      <td>2</td>\n",
       "      <td>Bachelor</td>\n",
       "      <td>Life_Sciences</td>\n",
       "      <td>Medium</td>\n",
       "      <td>Female</td>\n",
       "      <td>...</td>\n",
       "      <td>Excellent</td>\n",
       "      <td>Very_High</td>\n",
       "      <td>0</td>\n",
       "      <td>1</td>\n",
       "      <td>3</td>\n",
       "      <td>Better</td>\n",
       "      <td>1</td>\n",
       "      <td>0</td>\n",
       "      <td>0</td>\n",
       "      <td>0</td>\n",
       "    </tr>\n",
       "    <tr>\n",
       "      <th>63</th>\n",
       "      <td>23</td>\n",
       "      <td>0.0</td>\n",
       "      <td>Travel_Rarely</td>\n",
       "      <td>373</td>\n",
       "      <td>Research_Development</td>\n",
       "      <td>1</td>\n",
       "      <td>College</td>\n",
       "      <td>Life_Sciences</td>\n",
       "      <td>Very_High</td>\n",
       "      <td>Male</td>\n",
       "      <td>...</td>\n",
       "      <td>Outstanding</td>\n",
       "      <td>Very_High</td>\n",
       "      <td>1</td>\n",
       "      <td>1</td>\n",
       "      <td>2</td>\n",
       "      <td>Better</td>\n",
       "      <td>1</td>\n",
       "      <td>0</td>\n",
       "      <td>0</td>\n",
       "      <td>1</td>\n",
       "    </tr>\n",
       "    <tr>\n",
       "      <th>84</th>\n",
       "      <td>30</td>\n",
       "      <td>1.0</td>\n",
       "      <td>Travel_Rarely</td>\n",
       "      <td>945</td>\n",
       "      <td>Sales</td>\n",
       "      <td>9</td>\n",
       "      <td>Bachelor</td>\n",
       "      <td>Medical</td>\n",
       "      <td>Medium</td>\n",
       "      <td>Male</td>\n",
       "      <td>...</td>\n",
       "      <td>Excellent</td>\n",
       "      <td>High</td>\n",
       "      <td>0</td>\n",
       "      <td>1</td>\n",
       "      <td>3</td>\n",
       "      <td>Good</td>\n",
       "      <td>1</td>\n",
       "      <td>0</td>\n",
       "      <td>0</td>\n",
       "      <td>0</td>\n",
       "    </tr>\n",
       "  </tbody>\n",
       "</table>\n",
       "<p>5 rows × 31 columns</p>\n",
       "</div>"
      ],
      "text/plain": [
       "    Age  Attrition BusinessTravel  DailyRate            Department  \\\n",
       "0    21        0.0  Travel_Rarely        391  Research_Development   \n",
       "21   19        0.0  Travel_Rarely       1181  Research_Development   \n",
       "42   45        0.0  Travel_Rarely        252  Research_Development   \n",
       "63   23        0.0  Travel_Rarely        373  Research_Development   \n",
       "84   30        1.0  Travel_Rarely        945                 Sales   \n",
       "\n",
       "    DistanceFromHome      Education EducationField EnvironmentSatisfaction  \\\n",
       "0                 15        College  Life_Sciences                    High   \n",
       "21                 3  Below_College        Medical                  Medium   \n",
       "42                 2       Bachelor  Life_Sciences                  Medium   \n",
       "63                 1        College  Life_Sciences               Very_High   \n",
       "84                 9       Bachelor        Medical                  Medium   \n",
       "\n",
       "    Gender  ...  PerformanceRating RelationshipSatisfaction  StockOptionLevel  \\\n",
       "0     Male  ...          Excellent                Very_High                 0   \n",
       "21  Female  ...          Excellent                Very_High                 0   \n",
       "42  Female  ...          Excellent                Very_High                 0   \n",
       "63    Male  ...        Outstanding                Very_High                 1   \n",
       "84    Male  ...          Excellent                     High                 0   \n",
       "\n",
       "   TotalWorkingYears TrainingTimesLastYear WorkLifeBalance  YearsAtCompany  \\\n",
       "0                  0                     6          Better               0   \n",
       "21                 1                     3          Better               1   \n",
       "42                 1                     3          Better               1   \n",
       "63                 1                     2          Better               1   \n",
       "84                 1                     3            Good               1   \n",
       "\n",
       "    YearsInCurrentRole  YearsSinceLastPromotion YearsWithCurrManager  \n",
       "0                    0                        0                    0  \n",
       "21                   0                        0                    0  \n",
       "42                   0                        0                    0  \n",
       "63                   0                        0                    1  \n",
       "84                   0                        0                    0  \n",
       "\n",
       "[5 rows x 31 columns]"
      ]
     },
     "execution_count": 10,
     "metadata": {},
     "output_type": "execute_result"
    }
   ],
   "source": [
    "# Buat ukuran sample sebesar 70\n",
    "sample_size = 70\n",
    "\n",
    "# Tampung ukuran populasi ke variabel pop_size\n",
    "pop_size = len(attrition)\n",
    "\n",
    "# Hitung interval\n",
    "interval = pop_size // sample_size\n",
    "\n",
    "# Sampel 70 baris secara sistematis\n",
    "attrition_sys_samp = attrition.loc[::interval]\n",
    "\n",
    "\n",
    "attrition_sys_samp.head()"
   ]
  },
  {
   "attachments": {},
   "cell_type": "markdown",
   "metadata": {},
   "source": [
    "*Systematic Sampling* memiliki masalah: jika data telah diurutkan, atau ada semacam pola atau makna di balik urutan baris, maka sampel yang dihasilkan mungkin tidak mewakili keseluruhan populasi. Masalahnya dapat diselesaikan dengan mengacak baris, tetapi *Systematic Sampling* akan menjadi setara dengan *Simple Random Sampling*."
   ]
  },
  {
   "cell_type": "code",
   "execution_count": 11,
   "metadata": {},
   "outputs": [
    {
     "data": {
      "image/png": "[encoded data removed]",
      "text/plain": [
       "<Figure size 720x360 with 1 Axes>"
      ]
     },
     "metadata": {
      "needs_background": "light"
     },
     "output_type": "display_data"
    }
   ],
   "source": [
    "# Tambah kolom index\n",
    "attrition_pop_id = attrition.reset_index()\n",
    "\n",
    "# Plot YearsAtCompany vs. index \n",
    "attrition_pop_id.plot(x='index',y='YearsAtCompany',kind='scatter',figsize=(10,5))\n",
    "plt.show()"
   ]
  },
  {
   "attachments": {},
   "cell_type": "markdown",
   "metadata": {},
   "source": [
    "Terlihat pada nilai di kolom 'YearsAtCompany' terurut secara ascending. Jika kita menggunakan *Systematic Sampling* menggunakan suatu interval tanpa mengacak nya telebih dahulu maka sample yang didapat tidak akan representatif terhadap populasi\n",
    "\n",
    "*Systematic Sampling* aman digunakan jika tidak terdapat suatu pola didalam scatterplot"
   ]
  },
  {
   "cell_type": "code",
   "execution_count": 12,
   "metadata": {},
   "outputs": [
    {
     "data": {
      "image/png": "[encoded data removed]",
      "text/plain": [
       "<Figure size 720x360 with 1 Axes>"
      ]
     },
     "metadata": {
      "needs_background": "light"
     },
     "output_type": "display_data"
    }
   ],
   "source": [
    "# Acak tiap baris\n",
    "attrition_shuffled = attrition.sample(frac=1)\n",
    "\n",
    "\n",
    "attrition_shuffled = attrition_shuffled.reset_index(drop=True).reset_index()\n",
    "\n",
    "\n",
    "attrition_shuffled.plot(x='index',y='YearsAtCompany',kind='scatter',figsize=(10,5))\n",
    "plt.show()"
   ]
  },
  {
   "attachments": {},
   "cell_type": "markdown",
   "metadata": {},
   "source": [
    "*Systematic Sampling* tidak akan menghasilkan sampel yang mirip dengan *Simple Random Sampling* jika data diurutkan dengan cara tertentu."
   ]
  },
  {
   "attachments": {},
   "cell_type": "markdown",
   "metadata": {},
   "source": [
    "### Stratified and weighted random sampling\n",
    "\n",
    "- *Stratified Sampling* adalah suatu teknik yang memungkinkan kita untuk mengambil sampel populasi yang berisi subkelompok.\n",
    "- *Stratified Sampling* dilakukan dengan cara membagi seluruh populasi menjadi kelompok-kelompok homogen yang disebut strata.\n",
    "- *Stratified sampling* berguna jika kita peduli tentang subkelompok"
   ]
  },
  {
   "attachments": {},
   "cell_type": "markdown",
   "metadata": {},
   "source": [
    "#### **Proportional stratified sampling**\n",
    "- *Proportional stratified sampling* menghasilkan ukuran subkelompok dalam sampel yang mewakili ukuran subkelompok dalam populasi. "
   ]
  },
  {
   "cell_type": "code",
   "execution_count": 13,
   "metadata": {},
   "outputs": [
    {
     "name": "stdout",
     "output_type": "stream",
     "text": [
      "Proporsi Tingkat Pendidikan Karyawan Pada Populasi\n",
      "Bachelor         0.389116\n",
      "Master           0.270748\n",
      "College          0.191837\n",
      "Below_College    0.115646\n",
      "Doctor           0.032653\n",
      "Name: Education, dtype: float64\n",
      "\n",
      "Proporsi Tingkat Pendidikan Karyawan Pada Sample\n",
      "Bachelor         0.414966\n",
      "Master           0.258503\n",
      "College          0.190476\n",
      "Below_College    0.122449\n",
      "Doctor           0.013605\n",
      "Name: Education, dtype: float64\n"
     ]
    }
   ],
   "source": [
    "# Proporsi karyawan berdasarkan tingkat Pendidikan\n",
    "education_counts_pop = attrition['Education'].value_counts(normalize=True)\n",
    "\n",
    "# Sample 10% dari data\n",
    "education_samp = attrition.sample(frac=0.1,random_state=2022)\n",
    "education_counts_samp = education_samp['Education'].value_counts(normalize=True)\n",
    "\n",
    "\n",
    "# Print education_counts_pop\n",
    "print(\"Proporsi Tingkat Pendidikan Karyawan Pada Populasi\")\n",
    "print(education_counts_pop)\n",
    "\n",
    "# Print education_counts_pop\n",
    "print(\"\\nProporsi Tingkat Pendidikan Karyawan Pada Sample\")\n",
    "print(education_counts_samp)"
   ]
  },
  {
   "attachments": {},
   "cell_type": "markdown",
   "metadata": {},
   "source": [
    "Dapat terlihat bahwa sampel tidak mempresentasikan subkelompok yang ada pada populasi dimana jumlah dari tiap subkelompok pada sampel terlihat berbeda dengan yang berada pada populasi"
   ]
  },
  {
   "cell_type": "code",
   "execution_count": 14,
   "metadata": {},
   "outputs": [
    {
     "name": "stdout",
     "output_type": "stream",
     "text": [
      "Proporsi Tingkat Pendidikan Karyawan Pada Populasi\n",
      "Bachelor         0.389116\n",
      "Master           0.270748\n",
      "College          0.191837\n",
      "Below_College    0.115646\n",
      "Doctor           0.032653\n",
      "Name: Education, dtype: float64\n",
      "\n",
      "Proporsi Tingkat Pendidikan Karyawan Pada Sampel\n",
      "Bachelor         0.389116\n",
      "Master           0.270748\n",
      "College          0.191837\n",
      "Below_College    0.115646\n",
      "Doctor           0.032653\n",
      "Name: Education, dtype: float64\n"
     ]
    }
   ],
   "source": [
    "# Proporsi karyawan berdasarkan tingkat Pendidikan\n",
    "education_counts_pop = attrition['Education'].value_counts(normalize=True)\n",
    "\n",
    "# Print education_counts_pop\n",
    "print(\"Proporsi Tingkat Pendidikan Karyawan Pada Populasi\")\n",
    "print(education_counts_pop)\n",
    "\n",
    "# Proportional stratified sampling untuk 40% dari setiap kelompok Pendidikan\n",
    "attrition_strat = attrition.groupby('Education')\\\n",
    "\t.sample(frac=0.4, random_state=2022)\n",
    "\n",
    "# Hitung proporsi tingkat Pendidikan dari attrition_strat\n",
    "education_counts_strat = attrition['Education'].value_counts(normalize=True)\n",
    "\n",
    "# Print education_counts_strat\n",
    "print(\"\\nProporsi Tingkat Pendidikan Karyawan Pada Sampel\")\n",
    "print(education_counts_strat)"
   ]
  },
  {
   "attachments": {},
   "cell_type": "markdown",
   "metadata": {},
   "source": [
    "Dengan Proportional stratified sampling maka proporsi dari tiap subkelas pada populasi dan sampel akan sama"
   ]
  },
  {
   "attachments": {},
   "cell_type": "markdown",
   "metadata": {},
   "source": [
    "#### **Equal counts stratified sampling**\n",
    "\n",
    "Jika satu subkelompok lebih besar dari subkelompok lain dalam populasi, tetapi kita tidak ingin mencerminkan perbedaan itu dalam analisis kita, maka kita dapat menggunakan **equal counts stratified sampling** untuk menghasilkan sampel di mana setiap subkelompok memiliki jumlah data yang sama. \n",
    "\n",
    "Misalnya, jika kita menganalisis golongan darah, O adalah golongan darah yang paling umum di seluruh dunia, tetapi kita mungkin ingin memiliki jumlah O, A, B, dan AB yang sama dalam sampel kita."
   ]
  },
  {
   "cell_type": "code",
   "execution_count": 15,
   "metadata": {},
   "outputs": [
    {
     "name": "stdout",
     "output_type": "stream",
     "text": [
      "Below_College    0.2\n",
      "College          0.2\n",
      "Bachelor         0.2\n",
      "Master           0.2\n",
      "Doctor           0.2\n",
      "Name: Education, dtype: float64\n"
     ]
    }
   ],
   "source": [
    "# Dapatkan 30 karyawan dari setiap grup Pendidikan\n",
    "attrition_eq = attrition.groupby('Education')\\\n",
    "\t.sample(n=30, random_state=2022)      \n",
    "\n",
    "# Dapatkan proporsi dari attrition_eq\n",
    "education_counts_eq = attrition_eq['Education'].value_counts(normalize=True)\n",
    "\n",
    "# Print Hasil\n",
    "print(education_counts_eq)"
   ]
  },
  {
   "attachments": {},
   "cell_type": "markdown",
   "metadata": {},
   "source": [
    "Jika kita ingin setiap subkelompok memiliki bobot yang sama dalam analisis kita, maka **equal counts stratified sampling** adalah teknik yang tepat."
   ]
  },
  {
   "attachments": {},
   "cell_type": "markdown",
   "metadata": {},
   "source": [
    "#### **Weighted sampling**\n",
    "\n",
    "*Stratified sampling* menyediakan aturan tentang probabilitas suatu baris dari dataset kita di tingkat subkelompok. Generalisasi dari hal ini adalah **Weighted sampling**, yang memungkinkan kita menentukan aturan tentang probabilitas pemilihan suatu baris. Probabilitas memilih baris tertentu sebanding dengan nilai bobot untuk baris tersebut."
   ]
  },
  {
   "cell_type": "code",
   "execution_count": 16,
   "metadata": {},
   "outputs": [
    {
     "data": {
      "image/png": "[encoded data removed]",
      "text/plain": [
       "<Figure size 720x360 with 1 Axes>"
      ]
     },
     "metadata": {
      "needs_background": "light"
     },
     "output_type": "display_data"
    }
   ],
   "source": [
    "# Sample 400 karyawan yang dibobotkan dengan YearsAtCompany\n",
    "attrition_weight = attrition.sample(n=400, weights=\"YearsAtCompany\")\n",
    "\n",
    "# Plot YearsAtCompany dari attrition_weight sebagai histogram\n",
    "attrition['YearsAtCompany'].hist(bins=np.arange(0, 41, 1),label='Populasi')\n",
    "attrition_weight['YearsAtCompany'].hist(bins=np.arange(0, 41, 1),figsize=(10,5),label='Weighted Sample')\n",
    "plt.grid(False)\n",
    "plt.legend()\n",
    "plt.show()"
   ]
  },
  {
   "cell_type": "code",
   "execution_count": 17,
   "metadata": {},
   "outputs": [
    {
     "name": "stdout",
     "output_type": "stream",
     "text": [
      "Rata - rata kolom YearsAtCompany pada populasi : 7.0081632653061225\n",
      "Rata - rata kolom YearsAtCompany pada sampel   : 10.875\n"
     ]
    }
   ],
   "source": [
    "print(f'Rata - rata kolom YearsAtCompany pada populasi : {attrition[\"YearsAtCompany\"].mean()}')\n",
    "print(f'Rata - rata kolom YearsAtCompany pada sampel   : {attrition_weight[\"YearsAtCompany\"].mean()}')"
   ]
  },
  {
   "attachments": {},
   "cell_type": "markdown",
   "metadata": {},
   "source": [
    "Rata-rata *Weighted sampling* adalah sekitar 11, yang lebih tinggi dari rata-rata populasi sekitar 7. Fakta bahwa kedua angka tersebut berbeda berarti bahwa *Weighted sampling* itu bias."
   ]
  },
  {
   "attachments": {},
   "cell_type": "markdown",
   "metadata": {},
   "source": [
    "### Cluster Sampling\n",
    "\n",
    "Satu masalah dengan *stratified sampling* adalah bahwa kita perlu mengumpulkan data dari setiap subkelompok. Dalam kasus-kasus di mana pengumpulan data itu mahal, misalnya, ketika kita harus melakukan perjalanan secara fisik ke suatu lokasi untuk mengumpulkannya, hal itu dapat membuat analisis kita menjadi sangat mahal. Ada alternatif yang lebih murah yang disebut **cluster sampling**.\n",
    "\n",
    "**Stratified Sampling**:\n",
    "- Membagi populasi menjadi subkelompok\n",
    "- Menggunakan *simple random sampling* pada masing-masing subkelompok\n",
    "\n",
    "**Cluster Sampling**:\n",
    "- Menggunakan *simple random sampling* untuk pemilihan subkelompok\n",
    "- Menggunakan *simple random sampling* pada masing-masing subkelompok tersebut\n",
    "\n",
    "\n",
    "**Cluster Sampling Stage**:\n",
    "- 1. *Sampling* untuk subkelompok : Tahap pertama **cluster sampling** adalah mengurangi jumlah varietas secara acak, dan kita melakukan ini dengan memilihnya secara acak.\n",
    "- 2. *Sampling* setiap kelompok : Tahap kedua dari **cluster sampling** adalah melakukan *simple random sampling* pada masing-masing varietas yang kita pilih secara acak."
   ]
  },
  {
   "attachments": {},
   "cell_type": "markdown",
   "metadata": {},
   "source": [
    "#### **Performing cluster sampling**\n",
    "\n",
    "Stage 1: Sampling untuk subkelompok"
   ]
  },
  {
   "cell_type": "code",
   "execution_count": 18,
   "metadata": {},
   "outputs": [
    {
     "name": "stdout",
     "output_type": "stream",
     "text": [
      "Semua subkelompok      : ['Research_Scientist', 'Sales_Representative', 'Laboratory_Technician', 'Human_Resources', 'Sales_Executive', 'Manufacturing_Director', 'Healthcare_Representative', 'Research_Director', 'Manager']\n",
      "\n",
      "Sampling 4 subkelompok : ['Manager', 'Human_Resources', 'Sales_Representative', 'Healthcare_Representative']\n"
     ]
    }
   ],
   "source": [
    "import random\n",
    "job_roles_pop = list(attrition['JobRole'].unique())\n",
    "\n",
    "\n",
    "job_roles_samp = random.sample(job_roles_pop,k=4)\n",
    "\n",
    "print(f'Semua subkelompok      : {job_roles_pop}')\n",
    "print(f'\\nSampling 4 subkelompok : {job_roles_samp}')"
   ]
  },
  {
   "attachments": {},
   "cell_type": "markdown",
   "metadata": {},
   "source": [
    "Stage 2: Sampling setiap kelompok"
   ]
  },
  {
   "cell_type": "code",
   "execution_count": 19,
   "metadata": {},
   "outputs": [
    {
     "name": "stderr",
     "output_type": "stream",
     "text": [
      "C:\\Users\\USER\\AppData\\Local\\Temp/ipykernel_11132/247177218.py:6: SettingWithCopyWarning: \n",
      "A value is trying to be set on a copy of a slice from a DataFrame.\n",
      "Try using .loc[row_indexer,col_indexer] = value instead\n",
      "\n",
      "See the caveats in the documentation: https://pandas.pydata.org/pandas-docs/stable/user_guide/indexing.html#returning-a-view-versus-a-copy\n",
      "  attrition_filtered['JobRole'] = attrition_filtered['JobRole'].cat.remove_unused_categories()\n"
     ]
    },
    {
     "data": {
      "text/html": [
       "<div>\n",
       "<style scoped>\n",
       "    .dataframe tbody tr th:only-of-type {\n",
       "        vertical-align: middle;\n",
       "    }\n",
       "\n",
       "    .dataframe tbody tr th {\n",
       "        vertical-align: top;\n",
       "    }\n",
       "\n",
       "    .dataframe thead th {\n",
       "        text-align: right;\n",
       "    }\n",
       "</style>\n",
       "<table border=\"1\" class=\"dataframe\">\n",
       "  <thead>\n",
       "    <tr style=\"text-align: right;\">\n",
       "      <th></th>\n",
       "      <th>Age</th>\n",
       "      <th>Attrition</th>\n",
       "      <th>BusinessTravel</th>\n",
       "      <th>DailyRate</th>\n",
       "      <th>Department</th>\n",
       "      <th>DistanceFromHome</th>\n",
       "      <th>Education</th>\n",
       "      <th>EducationField</th>\n",
       "      <th>EnvironmentSatisfaction</th>\n",
       "      <th>Gender</th>\n",
       "      <th>...</th>\n",
       "      <th>PerformanceRating</th>\n",
       "      <th>RelationshipSatisfaction</th>\n",
       "      <th>StockOptionLevel</th>\n",
       "      <th>TotalWorkingYears</th>\n",
       "      <th>TrainingTimesLastYear</th>\n",
       "      <th>WorkLifeBalance</th>\n",
       "      <th>YearsAtCompany</th>\n",
       "      <th>YearsInCurrentRole</th>\n",
       "      <th>YearsSinceLastPromotion</th>\n",
       "      <th>YearsWithCurrManager</th>\n",
       "    </tr>\n",
       "  </thead>\n",
       "  <tbody>\n",
       "    <tr>\n",
       "      <th>812</th>\n",
       "      <td>31</td>\n",
       "      <td>0.0</td>\n",
       "      <td>Travel_Rarely</td>\n",
       "      <td>616</td>\n",
       "      <td>Research_Development</td>\n",
       "      <td>12</td>\n",
       "      <td>Bachelor</td>\n",
       "      <td>Medical</td>\n",
       "      <td>Very_High</td>\n",
       "      <td>Female</td>\n",
       "      <td>...</td>\n",
       "      <td>Excellent</td>\n",
       "      <td>High</td>\n",
       "      <td>2</td>\n",
       "      <td>10</td>\n",
       "      <td>2</td>\n",
       "      <td>Bad</td>\n",
       "      <td>9</td>\n",
       "      <td>7</td>\n",
       "      <td>8</td>\n",
       "      <td>5</td>\n",
       "    </tr>\n",
       "    <tr>\n",
       "      <th>1190</th>\n",
       "      <td>38</td>\n",
       "      <td>0.0</td>\n",
       "      <td>Travel_Rarely</td>\n",
       "      <td>1495</td>\n",
       "      <td>Research_Development</td>\n",
       "      <td>10</td>\n",
       "      <td>Bachelor</td>\n",
       "      <td>Medical</td>\n",
       "      <td>High</td>\n",
       "      <td>Female</td>\n",
       "      <td>...</td>\n",
       "      <td>Excellent</td>\n",
       "      <td>High</td>\n",
       "      <td>1</td>\n",
       "      <td>18</td>\n",
       "      <td>4</td>\n",
       "      <td>Better</td>\n",
       "      <td>1</td>\n",
       "      <td>0</td>\n",
       "      <td>0</td>\n",
       "      <td>0</td>\n",
       "    </tr>\n",
       "    <tr>\n",
       "      <th>378</th>\n",
       "      <td>33</td>\n",
       "      <td>0.0</td>\n",
       "      <td>Travel_Rarely</td>\n",
       "      <td>1069</td>\n",
       "      <td>Research_Development</td>\n",
       "      <td>1</td>\n",
       "      <td>Bachelor</td>\n",
       "      <td>Life_Sciences</td>\n",
       "      <td>Medium</td>\n",
       "      <td>Female</td>\n",
       "      <td>...</td>\n",
       "      <td>Excellent</td>\n",
       "      <td>Low</td>\n",
       "      <td>0</td>\n",
       "      <td>6</td>\n",
       "      <td>3</td>\n",
       "      <td>Better</td>\n",
       "      <td>5</td>\n",
       "      <td>0</td>\n",
       "      <td>1</td>\n",
       "      <td>4</td>\n",
       "    </tr>\n",
       "    <tr>\n",
       "      <th>920</th>\n",
       "      <td>35</td>\n",
       "      <td>0.0</td>\n",
       "      <td>Travel_Frequently</td>\n",
       "      <td>1199</td>\n",
       "      <td>Research_Development</td>\n",
       "      <td>18</td>\n",
       "      <td>Master</td>\n",
       "      <td>Life_Sciences</td>\n",
       "      <td>High</td>\n",
       "      <td>Male</td>\n",
       "      <td>...</td>\n",
       "      <td>Excellent</td>\n",
       "      <td>Very_High</td>\n",
       "      <td>2</td>\n",
       "      <td>10</td>\n",
       "      <td>2</td>\n",
       "      <td>Best</td>\n",
       "      <td>10</td>\n",
       "      <td>2</td>\n",
       "      <td>0</td>\n",
       "      <td>2</td>\n",
       "    </tr>\n",
       "    <tr>\n",
       "      <th>917</th>\n",
       "      <td>33</td>\n",
       "      <td>0.0</td>\n",
       "      <td>Travel_Rarely</td>\n",
       "      <td>501</td>\n",
       "      <td>Research_Development</td>\n",
       "      <td>15</td>\n",
       "      <td>College</td>\n",
       "      <td>Medical</td>\n",
       "      <td>Medium</td>\n",
       "      <td>Female</td>\n",
       "      <td>...</td>\n",
       "      <td>Excellent</td>\n",
       "      <td>Low</td>\n",
       "      <td>1</td>\n",
       "      <td>10</td>\n",
       "      <td>6</td>\n",
       "      <td>Better</td>\n",
       "      <td>9</td>\n",
       "      <td>7</td>\n",
       "      <td>8</td>\n",
       "      <td>1</td>\n",
       "    </tr>\n",
       "  </tbody>\n",
       "</table>\n",
       "<p>5 rows × 31 columns</p>\n",
       "</div>"
      ],
      "text/plain": [
       "      Age  Attrition     BusinessTravel  DailyRate            Department  \\\n",
       "812    31        0.0      Travel_Rarely        616  Research_Development   \n",
       "1190   38        0.0      Travel_Rarely       1495  Research_Development   \n",
       "378    33        0.0      Travel_Rarely       1069  Research_Development   \n",
       "920    35        0.0  Travel_Frequently       1199  Research_Development   \n",
       "917    33        0.0      Travel_Rarely        501  Research_Development   \n",
       "\n",
       "      DistanceFromHome Education EducationField EnvironmentSatisfaction  \\\n",
       "812                 12  Bachelor        Medical               Very_High   \n",
       "1190                10  Bachelor        Medical                    High   \n",
       "378                  1  Bachelor  Life_Sciences                  Medium   \n",
       "920                 18    Master  Life_Sciences                    High   \n",
       "917                 15   College        Medical                  Medium   \n",
       "\n",
       "      Gender  ...  PerformanceRating RelationshipSatisfaction  \\\n",
       "812   Female  ...          Excellent                     High   \n",
       "1190  Female  ...          Excellent                     High   \n",
       "378   Female  ...          Excellent                      Low   \n",
       "920     Male  ...          Excellent                Very_High   \n",
       "917   Female  ...          Excellent                      Low   \n",
       "\n",
       "      StockOptionLevel TotalWorkingYears TrainingTimesLastYear  \\\n",
       "812                  2                10                     2   \n",
       "1190                 1                18                     4   \n",
       "378                  0                 6                     3   \n",
       "920                  2                10                     2   \n",
       "917                  1                10                     6   \n",
       "\n",
       "     WorkLifeBalance  YearsAtCompany  YearsInCurrentRole  \\\n",
       "812              Bad               9                   7   \n",
       "1190          Better               1                   0   \n",
       "378           Better               5                   0   \n",
       "920             Best              10                   2   \n",
       "917           Better               9                   7   \n",
       "\n",
       "      YearsSinceLastPromotion YearsWithCurrManager  \n",
       "812                         8                    5  \n",
       "1190                        0                    0  \n",
       "378                         1                    4  \n",
       "920                         0                    2  \n",
       "917                         8                    1  \n",
       "\n",
       "[5 rows x 31 columns]"
      ]
     },
     "execution_count": 19,
     "metadata": {},
     "output_type": "execute_result"
    }
   ],
   "source": [
    "# Filter untuk baris tempat JobRole ada di job_roles_samp\n",
    "jobrole_condition = attrition['JobRole'].isin(job_roles_samp)\n",
    "attrition_filtered = attrition[jobrole_condition]\n",
    "\n",
    "# Hapus kategori yang tidak memiliki baris\n",
    "attrition_filtered['JobRole'] = attrition_filtered['JobRole'].cat.remove_unused_categories()\n",
    "\n",
    "#Sampel secara acak 10 karyawan dari setiap peran\n",
    "attrition_clust = attrition_filtered.groupby(\"JobRole\")\\\n",
    "    .sample(n=10, random_state=2022)\n",
    "\n",
    "attrition_clust.head()"
   ]
  },
  {
   "attachments": {},
   "cell_type": "markdown",
   "metadata": {},
   "source": [
    "Multistage sampling\n",
    "\n",
    "- *Cluster Sampling* adalah jenis pengambilan sampel bertingkat\n",
    "- Dapat memiliki > 2 Stage\n",
    "- Misalnya, survei di seluruh negeri dapat mengambil sampel provinsi, kabupaten, kota, dan lingkungan sekitar\n",
    "\n",
    "**Jangan gunakan** cluster sampling jika fokusnya adalah membandingkan subkelompok tertentu dalam populasi."
   ]
  },
  {
   "attachments": {},
   "cell_type": "markdown",
   "metadata": {},
   "source": [
    "### Sampling Distributions\n",
    "\n",
    "Bagaimana mengukur keakuratan statistik sampel dengan menggunakan *relative error*, dan mengukur variasi dalam estimasi kita dengan menghasilkan distribusi dari sampling."
   ]
  },
  {
   "attachments": {},
   "cell_type": "markdown",
   "metadata": {},
   "source": [
    "#### **Calculating relative errors**\n",
    "\n",
    "Ukuran sampel yang kita ambil mempengaruhi seberapa akurat titik estimasi mencerminkan parameter populasi yang sesuai. Misalnya, ketika kita menghitung rata-rata sampel, kita ingin agar mendekati rata-rata populasi. Namun, jika sampel kita terlalu kecil, ini mungkin tidak terjadi.\n",
    "\n",
    "Metrik yang paling umum untuk menilai akurasi adalah *relative errors*. Ini adalah perbedaan absolut antara parameter populasi dan titik estimasi, semuanya dibagi dengan parameter populasi. Kadang-kadang dinyatakan sebagai persentase."
   ]
  },
  {
   "cell_type": "code",
   "execution_count": 20,
   "metadata": {},
   "outputs": [
    {
     "name": "stdout",
     "output_type": "stream",
     "text": [
      "Persentase error sample 50  : 62.78\n",
      "Persentase error sample 100 : 6.96\n"
     ]
    }
   ],
   "source": [
    "#Rata-rata kolom attrition pada populasi\n",
    "mean_attrition_pop = attrition['Attrition'].mean()\n",
    "\n",
    "def attrSamp(sample):\n",
    "    # Hasilkan sampel acak \n",
    "    attrition_srs50 = attrition.sample(n=sample,random_state=2022)\n",
    "\n",
    "    # Hitung rata rata pada sample\n",
    "    mean_attrition_srs50 = attrition_srs50['Attrition'].mean()\n",
    "\n",
    "    # Hitung persentase kesalahan relatif\n",
    "    rel_error_pct= round(100 * abs(mean_attrition_pop-mean_attrition_srs50) / mean_attrition_pop,2)\n",
    "\n",
    "    return rel_error_pct\n",
    "\n",
    "\n",
    "print(f'Persentase error sample 50  : {attrSamp(50)}')\n",
    "print(f'Persentase error sample 100 : {attrSamp(100)}')"
   ]
  },
  {
   "attachments": {},
   "cell_type": "markdown",
   "metadata": {},
   "source": [
    "Ketika kita meningkatkan ukuran sampel, rata-rata sampel umumnya akan semakin dekat dengan rata-rata populasi, dan kesalahan akan relatif menurun."
   ]
  },
  {
   "cell_type": "code",
   "execution_count": 21,
   "metadata": {},
   "outputs": [
    {
     "data": {
      "image/png": "[encoded data removed]",
      "text/plain": [
       "<Figure size 720x360 with 1 Axes>"
      ]
     },
     "metadata": {
      "needs_background": "light"
     },
     "output_type": "display_data"
    }
   ],
   "source": [
    "nSamp = []\n",
    "error = []\n",
    "\n",
    "for i in np.arange(1,1500,50):\n",
    "    nSamp.append(i)\n",
    "    error.append(attrSamp(i))\n",
    "\n",
    "\n",
    "plt.figure(figsize=(10,5))\n",
    "plt.plot(nSamp, error)\n",
    "plt.xlabel('Ukuran Sample')\n",
    "plt.ylabel('Relative Error (%)')\n",
    "plt.title('Relative Error vs. Sample Size')\n",
    "plt.grid(True)\n",
    "plt.show()"
   ]
  },
  {
   "attachments": {},
   "cell_type": "markdown",
   "metadata": {},
   "source": [
    "### **Replicating samples**"
   ]
  },
  {
   "cell_type": "code",
   "execution_count": 22,
   "metadata": {},
   "outputs": [
    {
     "data": {
      "image/png": "[encoded data removed]",
      "text/plain": [
       "<Figure size 1440x720 with 4 Axes>"
      ]
     },
     "metadata": {
      "needs_background": "light"
     },
     "output_type": "display_data"
    }
   ],
   "source": [
    "def replicate(n_replicas):\n",
    "    #Buat list kosong\n",
    "    mean_attritions = []\n",
    "    # Loop sebanyak jumlah replica\n",
    "    for i in range(n_replicas):\n",
    "        mean_attritions.append(\n",
    "            attrition.sample(n=60)['Attrition'].mean()\n",
    "        )\n",
    "    return mean_attritions\n",
    "    \n",
    "\n",
    "n50 = replicate(50) #Jumlah replica 50\n",
    "n200 = replicate(200) #Jumlah replica 200\n",
    "n500 = replicate(500) #Jumlah replica 500\n",
    "n1000 = replicate(1000) #Jumlah replica 1000\n",
    "\n",
    "\n",
    "plt.figure(figsize=(20,10))\n",
    "\n",
    "plt.subplot(2,2,1)\n",
    "plt.title('N_Sample = 50')\n",
    "plt.ylabel('Jumlah')\n",
    "plt.hist(n50,bins=16)\n",
    "\n",
    "\n",
    "plt.subplot(2,2,2)\n",
    "plt.hist(n200,bins=16)\n",
    "plt.title('N_Sample = 200')\n",
    "\n",
    "plt.subplot(2,2,3)\n",
    "plt.hist(n500,bins=16)\n",
    "plt.ylabel('Jumlah')\n",
    "plt.xlabel(\"Rata-rata sample\")\n",
    "plt.title('N_Sample = 500')\n",
    "\n",
    "plt.subplot(2,2,4)\n",
    "plt.hist(n1000,bins=16)\n",
    "plt.xlabel(\"Rata-rata sample\")\n",
    "plt.title('N_Sample = 1000')\n",
    "\n",
    "\n",
    "plt.show()"
   ]
  },
  {
   "attachments": {},
   "cell_type": "markdown",
   "metadata": {},
   "source": [
    "Seiring dengan bertambahnya ukuran sampel, rata-rata setiap rata-rata sampel memiliki *relative error* yang lebih rendah dibandingkan dengan rata-rata populasi, sehingga mengurangi kisaran distribusi."
   ]
  },
  {
   "attachments": {},
   "cell_type": "markdown",
   "metadata": {},
   "source": [
    "### Standard errors and the Central Limit Theorem\n",
    "\n",
    "Prinsip statistik bahwa jumlah nilai independen dari distribusi apapun akan mendekati distribusi normal seperti jumlah nilai dalam distribusi meningkat. Dengan kata lain, Ukuran sampel lebih besar, semakin dekat distribusi sampling mendekati distribusi normal\n",
    "\n",
    "*Rata-rata dari sampel independen akan memiliki distribusi normal*\n",
    "\n",
    "Dengan bertambahnya ukuran sampel:\n",
    "- Distribusi dari rata-rata sample semakin mendekati distribusi normal\n",
    "- Lebar dari distribusi sampling semakin sempit\n",
    "\n",
    "Standard error\n",
    "- Standar deviasi dari distribusi sampling\n",
    "- Alat penting dalam memahami variabilitas sampling"
   ]
  },
  {
   "cell_type": "code",
   "execution_count": 23,
   "metadata": {},
   "outputs": [
    {
     "data": {
      "image/png": "[encoded data removed]",
      "text/plain": [
       "<Figure size 1440x720 with 4 Axes>"
      ]
     },
     "metadata": {
      "needs_background": "light"
     },
     "output_type": "display_data"
    }
   ],
   "source": [
    "def mean_of_means(n_sample):\n",
    "    #Buat list kosong\n",
    "    mean_attritions = []\n",
    "    # Loop sebanyak jumlah replica\n",
    "    for i in range(1000):\n",
    "        mean_attritions.append(\n",
    "            attrition.sample(n=n_sample)['Attrition'].mean()\n",
    "        )\n",
    "    return mean_attritions\n",
    "\n",
    "mean_of_means_5 = mean_of_means(5)\n",
    "mean_of_means_50 = mean_of_means(50)\n",
    "mean_of_means_500 = mean_of_means(500)\n",
    "mean_of_means_1000 = mean_of_means(1000)\n",
    "\n",
    "\n",
    "plt.figure(figsize=(20,10))\n",
    "\n",
    "plt.subplot(2,2,1)\n",
    "plt.title('N_Sample = 5')\n",
    "plt.ylabel('Jumlah')\n",
    "plt.hist(mean_of_means_5)\n",
    "\n",
    "\n",
    "plt.subplot(2,2,2)\n",
    "plt.hist(mean_of_means_50)\n",
    "plt.title('N_Sample = 50')\n",
    "\n",
    "plt.subplot(2,2,3)\n",
    "plt.hist(mean_of_means_500)\n",
    "plt.ylabel('Jumlah')\n",
    "plt.xlabel(\"Rata-rata sample\")\n",
    "plt.title('N_Sample = 500')\n",
    "\n",
    "plt.subplot(2,2,4)\n",
    "plt.hist(mean_of_means_1000)\n",
    "plt.xlabel(\"Rata-rata sample\")\n",
    "plt.title('N_Sample = 1000')\n",
    "\n",
    "plt.show()"
   ]
  },
  {
   "cell_type": "code",
   "execution_count": 24,
   "metadata": {},
   "outputs": [
    {
     "name": "stdout",
     "output_type": "stream",
     "text": [
      "0.1668\n",
      "0.1592\n",
      "0.160716\n",
      "0.161195\n"
     ]
    }
   ],
   "source": [
    "print(np.mean(mean_of_means_5))\n",
    "print(np.mean(mean_of_means_50))\n",
    "print(np.mean(mean_of_means_500))\n",
    "print(np.mean(mean_of_means_1000))"
   ]
  }
 ],
 "metadata": {
  "kernelspec": {
   "display_name": "Python 3",
   "language": "python",
   "name": "python3"
  },
  "language_info": {
   "codemirror_mode": {
    "name": "ipython",
    "version": 3
   },
   "file_extension": ".py",
   "mimetype": "text/x-python",
   "name": "python",
   "nbconvert_exporter": "python",
   "pygments_lexer": "ipython3",
   "version": "3.9.7 (tags/v3.9.7:1016ef3, Aug 30 2021, 20:19:38) [MSC v.1929 64 bit (AMD64)]"
  },
  "orig_nbformat": 4,
  "vscode": {
   "interpreter": {
    "hash": "1d5c1156327dacead463cc502c55ebae8ce9c8c01979cf154173ff808e75bf55"
   }
  }
 },
 "nbformat": 4,
 "nbformat_minor": 2
}
