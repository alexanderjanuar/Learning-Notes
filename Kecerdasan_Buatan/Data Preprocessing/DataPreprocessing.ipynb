{
 "cells": [
  {
   "cell_type": "code",
   "execution_count": 1,
   "id": "92dea4e7-9289-46b1-b4f2-25159d1e398c",
   "metadata": {},
   "outputs": [],
   "source": [
    "from sklearn.model_selection import train_test_split\n",
    "import pandas as pd"
   ]
  },
  {
   "cell_type": "code",
   "execution_count": 2,
   "id": "2fe725bc-755d-4a87-be40-e77811eabc86",
   "metadata": {},
   "outputs": [],
   "source": [
    "df = pd.read_csv('https://raw.githubusercontent.com/mwaskom/seaborn-data/master/iris.csv')"
   ]
  },
  {
   "cell_type": "markdown",
   "id": "08f50bf2",
   "metadata": {},
   "source": [
    "# Data Preprocessing"
   ]
  },
  {
   "cell_type": "markdown",
   "id": "90bb8829",
   "metadata": {},
   "source": [
    "## Data Splitting"
   ]
  },
  {
   "cell_type": "code",
   "execution_count": 3,
   "id": "3a75860e-9c9f-4040-bd8c-2cb6a17725d1",
   "metadata": {},
   "outputs": [],
   "source": [
    "X = df.iloc[:,:-1]\n",
    "y = df.iloc[:,-1]"
   ]
  },
  {
   "cell_type": "code",
   "execution_count": 4,
   "id": "c0d5f55a-0344-49ab-91da-c460a5e4b0dd",
   "metadata": {},
   "outputs": [],
   "source": [
    "X_train, X_test, y_train, y_test = train_test_split(X, y, test_size=0.2)"
   ]
  },
  {
   "cell_type": "code",
   "execution_count": 5,
   "id": "0689ae3a-2b8a-443f-8945-9a271a48cf90",
   "metadata": {},
   "outputs": [
    {
     "name": "stdout",
     "output_type": "stream",
     "text": [
      "Dimensi X_train :  (120, 4)\n",
      "Dimensi X_train :  (30, 4)\n",
      "Dimensi y_train :  (120,)\n",
      "Dimensi y_test :  (30,)\n"
     ]
    }
   ],
   "source": [
    "print(\"Dimensi X_train : \", X_train.shape)\n",
    "print(\"Dimensi X_train : \", X_test.shape)\n",
    "print(\"Dimensi y_train : \", y_train.shape)\n",
    "print(\"Dimensi y_test : \", y_test.shape)"
   ]
  },
  {
   "cell_type": "markdown",
   "id": "92ca31b9",
   "metadata": {},
   "source": [
    "## Data Transformation - Standarisasi"
   ]
  },
  {
   "cell_type": "code",
   "execution_count": 6,
   "id": "141068e0-996f-4014-884d-7158859dd25c",
   "metadata": {},
   "outputs": [],
   "source": [
    "from sklearn.preprocessing import StandardScaler\n",
    "import numpy as np"
   ]
  },
  {
   "cell_type": "code",
   "execution_count": 7,
   "id": "dcb2b184",
   "metadata": {},
   "outputs": [],
   "source": [
    "data = np.asarray([[100, 0.001],\n",
    "\t\t\t\t[8, 0.05],\n",
    "\t\t\t\t[50, 0.005],\n",
    "\t\t\t\t[88, 0.07],])"
   ]
  },
  {
   "cell_type": "code",
   "execution_count": 8,
   "id": "49aa708e",
   "metadata": {},
   "outputs": [],
   "source": [
    "ss = StandardScaler()\n",
    "Scaled_data = ss.fit_transform(data)"
   ]
  },
  {
   "cell_type": "code",
   "execution_count": 9,
   "id": "0a50f2c1",
   "metadata": {},
   "outputs": [
    {
     "name": "stdout",
     "output_type": "stream",
     "text": [
      "Nilai Data Sebelum scaling : \n",
      "[[1.0e+02 1.0e-03]\n",
      " [8.0e+00 5.0e-02]\n",
      " [5.0e+01 5.0e-03]\n",
      " [8.8e+01 7.0e-02]]\n",
      "Nilai standar deviasi:  39.89949316955668\n",
      "\n",
      "Nilai Data setelah scaling : \n",
      "[[ 1.06996056 -1.03748098]\n",
      " [-1.48682831  0.62929174]\n",
      " [-0.31959861 -0.9014179 ]\n",
      " [ 0.73646636  1.30960714]]\n",
      "Nilai standar deviasi:  1.0\n"
     ]
    }
   ],
   "source": [
    "print(\"Nilai Data Sebelum scaling : \")\n",
    "print(data)\n",
    "print(\"Nilai standar deviasi: \", np.std(data))\n",
    "\n",
    "print(\"\\nNilai Data setelah scaling : \")\n",
    "print(Scaled_data)\n",
    "print(\"Nilai standar deviasi: \", np.std(Scaled_data))"
   ]
  },
  {
   "cell_type": "markdown",
   "id": "4a4dbe47",
   "metadata": {},
   "source": [
    "## Data Cleaning - Null Handling"
   ]
  },
  {
   "cell_type": "markdown",
   "id": "78b3bb82",
   "metadata": {},
   "source": [
    "### Simple Imputer"
   ]
  },
  {
   "cell_type": "code",
   "execution_count": 10,
   "id": "14059ce6",
   "metadata": {},
   "outputs": [
    {
     "name": "stdout",
     "output_type": "stream",
     "text": [
      "Jumlah record yang memiliki nilai null: \n",
      "Nama       0\n",
      "Jurusan    0\n",
      "IPK        2\n",
      "dtype: int64\n",
      "\n",
      "Jumlah null setelah menggunakan SimpleImputer: \n",
      "Nama       0\n",
      "Jurusan    0\n",
      "IPK        0\n",
      "dtype: int64\n"
     ]
    }
   ],
   "source": [
    "import numpy as np\n",
    "import pandas as pd\n",
    "from sklearn.impute import SimpleImputer\n",
    "\n",
    "Nama = [\"Lusi\",\"Aisyah\",\"Rizky\",\"Dendi\",\"Bagus\",\"Ajeng\",\"Putri\",\"Yusuf\",\"Kulus\",\"Lusi\"]\n",
    "Jurusan = [\"Informatika\",\"Kimia\",\"Sipil\",\"Kimia\",\"Informatika\",\"Elektro\",\"Industri\",\"Sipil\",\"Kimia\",\"Informatika\"]\n",
    "IPK = [2.5,3.2,np.nan,2.5,3.1,3.8,3.1,np.nan,3.8,2.5]\n",
    "\n",
    "df = pd.DataFrame(\n",
    "   {\n",
    "       \"Nama\":Nama,\n",
    "       \"Jurusan\" : Jurusan,\n",
    "       \"IPK\" : IPK\n",
    "   } \n",
    ")\n",
    "\n",
    "\n",
    "print(\"Jumlah record yang memiliki nilai null: \")\n",
    "print(df.isna().sum())\n",
    "\n",
    "imputer = SimpleImputer(strategy='mean')\n",
    "df[\"IPK\"] = imputer.fit_transform(df[[\"IPK\"]])\n",
    "\n",
    "print(\"\\nJumlah null setelah menggunakan SimpleImputer: \")\n",
    "print(df.isna().sum())"
   ]
  },
  {
   "cell_type": "code",
   "execution_count": 11,
   "id": "b8884173",
   "metadata": {},
   "outputs": [
    {
     "data": {
      "text/plain": [
       "Nama       0\n",
       "Jurusan    0\n",
       "IPK        0\n",
       "dtype: int64"
      ]
     },
     "execution_count": 11,
     "metadata": {},
     "output_type": "execute_result"
    }
   ],
   "source": [
    "df.isna().sum()"
   ]
  },
  {
   "cell_type": "markdown",
   "id": "c2b634a8",
   "metadata": {},
   "source": [
    "### fillna"
   ]
  },
  {
   "cell_type": "code",
   "execution_count": 18,
   "id": "355f9131",
   "metadata": {},
   "outputs": [
    {
     "name": "stdout",
     "output_type": "stream",
     "text": [
      "Jumlah record yang memiliki nilai null: \n",
      "Nama       0\n",
      "Jurusan    0\n",
      "IPK        2\n",
      "dtype: int64\n",
      "\n",
      "Jumlah null setelah menggunakan fungsi fillna(): \n",
      "Nama       0\n",
      "Jurusan    0\n",
      "IPK        0\n",
      "dtype: int64\n"
     ]
    }
   ],
   "source": [
    "import pandas as pd\n",
    "import numpy as np\n",
    "\n",
    "# Buat item untuk dataframe\n",
    "Nama = [\"Lusi\",\"Aisyah\",\"Rizky\",\"Dendi\",\"Bagus\",\"Ajeng\",\"Putri\",\"Yusuf\",\"Kulus\",\"Lusi\"]\n",
    "Jurusan = [\"Informatika\",\"Kimia\",\"Sipil\",\"Kimia\",\"Informatika\",\"Elektro\",\"Industri\",\"Sipil\",\"Kimia\",\"Informatika\"]\n",
    "IPK = [2.5,3.2,np.nan,2.5,3.1,3.8,3.1,np.nan,3.8,2.5]\n",
    "\n",
    "# Buat dataframe\n",
    "df = pd.DataFrame(\n",
    "   {\n",
    "       \"Nama\":Nama,\n",
    "       \"Jurusan\" : Jurusan,\n",
    "       \"IPK\" : IPK\n",
    "   } \n",
    ")\n",
    "\n",
    "print(\"Jumlah record yang memiliki nilai null: \")\n",
    "print(df.isna().sum())\n",
    "\n",
    "#Gunakan fungsi fillna pada kolom yang memiliki nilai null\n",
    "df[\"IPK\"].fillna(df[\"IPK\"].mean(),inplace=True)\n",
    "\n",
    "print(\"\\nJumlah null setelah menggunakan fungsi fillna(): \")\n",
    "print(df.isna().sum())"
   ]
  },
  {
   "cell_type": "markdown",
   "id": "488cbc02",
   "metadata": {},
   "source": [
    "### Dropna"
   ]
  },
  {
   "cell_type": "code",
   "execution_count": 19,
   "id": "1cec50a8",
   "metadata": {},
   "outputs": [
    {
     "name": "stdout",
     "output_type": "stream",
     "text": [
      "Sebelum : \n",
      "      Nama  IPK\n",
      "0    Lusi  2.5\n",
      "1  Aisyah  3.2\n",
      "2   Rizky  NaN\n",
      "3   Dendi  NaN\n",
      "4   Bagus  3.1\n",
      "5   Ajeng  3.8\n",
      "6   Putri  NaN\n",
      "7   Yusuf  NaN\n",
      "Sesudah : \n",
      "      Nama\n",
      "0    Lusi\n",
      "1  Aisyah\n",
      "2   Rizky\n",
      "3   Dendi\n",
      "4   Bagus\n",
      "5   Ajeng\n",
      "6   Putri\n",
      "7   Yusuf\n"
     ]
    }
   ],
   "source": [
    "import pandas as pd\n",
    "import numpy as np\n",
    "\n",
    "# Buat item untuk dataframe\n",
    "Nama = [\"Lusi\",\"Aisyah\",\"Rizky\",\"Dendi\",\"Bagus\",\"Ajeng\",\"Putri\",\"Yusuf\"]\n",
    "IPK = [2.5,3.2,np.nan,np.nan,3.1,3.8,np.nan,np.nan]\n",
    "\n",
    "# Buat dataframe\n",
    "df = pd.DataFrame(\n",
    "   {\n",
    "       \"Nama\":Nama,\n",
    "       \"IPK\" : IPK\n",
    "   } \n",
    ")\n",
    "\n",
    "print(\"Sebelum : \\n\",df)\n",
    "\n",
    "df.dropna(axis=1,inplace = True)\n",
    "\n",
    "\n",
    "print(\"Sesudah : \\n\",df)"
   ]
  },
  {
   "cell_type": "markdown",
   "id": "7dcc00e8",
   "metadata": {},
   "source": [
    "## Data Cleaning - Drop Duplicates"
   ]
  },
  {
   "cell_type": "code",
   "execution_count": 17,
   "id": "d0f85428",
   "metadata": {},
   "outputs": [
    {
     "name": "stdout",
     "output_type": "stream",
     "text": [
      "Nilai Duplikat: \n",
      "   Nama  IPK\n",
      "9  Lusi  2.5\n",
      "Jumlah Nilai Duplikat: 1\n",
      "\n",
      "Setelah menggunakan fungsi drop_duplicates()\n",
      "Jumlah Nilai Duplikat: 0\n"
     ]
    }
   ],
   "source": [
    "import pandas as pd\n",
    "\n",
    "# Buat item untuk dataframe\n",
    "Nama = [\"Lusi\",\"Aisyah\",\"Rizky\",\"Dendi\",\"Bagus\",\"Ajeng\",\"Putri\",\"Yusuf\",\"Kulus\",\"Lusi\"]\n",
    "IPK = [2.5,3.2,2.5,2.5,3.1,3.8,3.1,2.4,3.8,2.5]\n",
    "\n",
    "# Buat dataframe\n",
    "df = pd.DataFrame(\n",
    "   {\n",
    "       \"Nama\":Nama,\n",
    "       \"IPK\" : IPK\n",
    "   } \n",
    ")\n",
    "\n",
    "print(\"Nilai Duplikat: \")\n",
    "print(df[df.duplicated()])\n",
    "print(\"Jumlah Nilai Duplikat:\",df.duplicated().sum())\n",
    "\n",
    "df.drop_duplicates(inplace=True)\n",
    "\n",
    "print(\"\\nSetelah menggunakan fungsi drop_duplicates()\")\n",
    "print(\"Jumlah Nilai Duplikat:\",df.duplicated().sum())\n"
   ]
  },
  {
   "cell_type": "markdown",
   "id": "7f97df85",
   "metadata": {},
   "source": [
    "## Data Encoding"
   ]
  },
  {
   "cell_type": "markdown",
   "id": "c7b4121c",
   "metadata": {},
   "source": [
    "### Ordinal Encoder"
   ]
  },
  {
   "cell_type": "code",
   "execution_count": 14,
   "id": "c6c90a2a",
   "metadata": {},
   "outputs": [
    {
     "name": "stdout",
     "output_type": "stream",
     "text": [
      "     Nama      Jurusan  JurusanEnc\n",
      "0    Lusi  Informatika         2.0\n",
      "1  Aisyah        Kimia         3.0\n",
      "2   Rizky        Sipil         4.0\n",
      "3   Dendi        Kimia         3.0\n",
      "4   Bagus  Informatika         2.0\n"
     ]
    }
   ],
   "source": [
    "import pandas as pd\n",
    "from sklearn.preprocessing import OrdinalEncoder\n",
    "\n",
    "# Buat item untuk dataframe\n",
    "Nama = [\"Lusi\",\"Aisyah\",\"Rizky\",\"Dendi\",\"Bagus\",\"Ajeng\",\"Putri\",\"Yusuf\",\"Kulus\",\"Lusi\"]\n",
    "Jurusan = [\"Informatika\",\"Kimia\",\"Sipil\",\"Kimia\",\"Informatika\",\"Elektro\",\"Industri\",\"Sipil\",\"Kimia\",\"Informatika\"]\n",
    "\n",
    "# Buat dataframe\n",
    "df = pd.DataFrame(\n",
    "   {\n",
    "       \"Nama\":Nama,\n",
    "       \"Jurusan\" : Jurusan,\n",
    "   } \n",
    ")\n",
    "\n",
    "encoder = OrdinalEncoder()\n",
    "\n",
    "df[\"JurusanEnc\"] = encoder.fit_transform(df[[\"Jurusan\"]])\n",
    "\n",
    "print(df.head())"
   ]
  },
  {
   "cell_type": "markdown",
   "id": "8abd8106",
   "metadata": {},
   "source": [
    "### OneHotEncoder"
   ]
  },
  {
   "cell_type": "code",
   "execution_count": 15,
   "id": "53b13dce",
   "metadata": {},
   "outputs": [
    {
     "name": "stdout",
     "output_type": "stream",
     "text": [
      "     Nama      Jurusan    0    1    2    3    4\n",
      "0    Lusi  Informatika  0.0  0.0  1.0  0.0  0.0\n",
      "1  Aisyah        Kimia  0.0  0.0  0.0  1.0  0.0\n",
      "2   Rizky        Sipil  0.0  0.0  0.0  0.0  1.0\n",
      "3   Dendi        Kimia  0.0  0.0  0.0  1.0  0.0\n",
      "4   Bagus  Informatika  0.0  0.0  1.0  0.0  0.0\n",
      "5   Ajeng      Elektro  1.0  0.0  0.0  0.0  0.0\n",
      "6   Putri     Industri  0.0  1.0  0.0  0.0  0.0\n",
      "7   Yusuf        Sipil  0.0  0.0  0.0  0.0  1.0\n",
      "8   Kulus        Kimia  0.0  0.0  0.0  1.0  0.0\n",
      "9    Lusi  Informatika  0.0  0.0  1.0  0.0  0.0\n"
     ]
    }
   ],
   "source": [
    "import pandas as pd\n",
    "from sklearn.preprocessing import OneHotEncoder\n",
    "\n",
    "# Buat item untuk dataframe\n",
    "Nama = [\"Lusi\",\"Aisyah\",\"Rizky\",\"Dendi\",\"Bagus\",\"Ajeng\",\"Putri\",\"Yusuf\",\"Kulus\",\"Lusi\"]\n",
    "Jurusan = [\"Informatika\",\"Kimia\",\"Sipil\",\"Kimia\",\"Informatika\",\"Elektro\",\"Industri\",\"Sipil\",\"Kimia\",\"Informatika\"]\n",
    "\n",
    "# Buat dataframe\n",
    "df = pd.DataFrame(\n",
    "   {\n",
    "       \"Nama\":Nama,\n",
    "       \"Jurusan\" : Jurusan,\n",
    "   } \n",
    ")\n",
    "\n",
    "encoder = OneHotEncoder(sparse=False)\n",
    "\n",
    "jurusanEnc = encoder.fit_transform(df[[\"Jurusan\"]])\n",
    "\n",
    "jurusanEnc = pd.DataFrame(jurusanEnc)\n",
    "\n",
    "df = df.join(jurusanEnc)\n",
    "\n",
    "print(df)"
   ]
  },
  {
   "cell_type": "markdown",
   "id": "a33351bb",
   "metadata": {},
   "source": [
    "### get_dummies"
   ]
  },
  {
   "cell_type": "code",
   "execution_count": 16,
   "id": "d919a7c1",
   "metadata": {},
   "outputs": [
    {
     "data": {
      "text/html": [
       "<div>\n",
       "<style scoped>\n",
       "    .dataframe tbody tr th:only-of-type {\n",
       "        vertical-align: middle;\n",
       "    }\n",
       "\n",
       "    .dataframe tbody tr th {\n",
       "        vertical-align: top;\n",
       "    }\n",
       "\n",
       "    .dataframe thead th {\n",
       "        text-align: right;\n",
       "    }\n",
       "</style>\n",
       "<table border=\"1\" class=\"dataframe\">\n",
       "  <thead>\n",
       "    <tr style=\"text-align: right;\">\n",
       "      <th></th>\n",
       "      <th>Nama</th>\n",
       "      <th>Jurusan</th>\n",
       "      <th>Jurusan_Elektro</th>\n",
       "      <th>Jurusan_Industri</th>\n",
       "      <th>Jurusan_Informatika</th>\n",
       "      <th>Jurusan_Kimia</th>\n",
       "      <th>Jurusan_Sipil</th>\n",
       "    </tr>\n",
       "  </thead>\n",
       "  <tbody>\n",
       "    <tr>\n",
       "      <th>0</th>\n",
       "      <td>Lusi</td>\n",
       "      <td>Informatika</td>\n",
       "      <td>0</td>\n",
       "      <td>0</td>\n",
       "      <td>1</td>\n",
       "      <td>0</td>\n",
       "      <td>0</td>\n",
       "    </tr>\n",
       "    <tr>\n",
       "      <th>1</th>\n",
       "      <td>Aisyah</td>\n",
       "      <td>Kimia</td>\n",
       "      <td>0</td>\n",
       "      <td>0</td>\n",
       "      <td>0</td>\n",
       "      <td>1</td>\n",
       "      <td>0</td>\n",
       "    </tr>\n",
       "    <tr>\n",
       "      <th>2</th>\n",
       "      <td>Rizky</td>\n",
       "      <td>Sipil</td>\n",
       "      <td>0</td>\n",
       "      <td>0</td>\n",
       "      <td>0</td>\n",
       "      <td>0</td>\n",
       "      <td>1</td>\n",
       "    </tr>\n",
       "    <tr>\n",
       "      <th>3</th>\n",
       "      <td>Dendi</td>\n",
       "      <td>Kimia</td>\n",
       "      <td>0</td>\n",
       "      <td>0</td>\n",
       "      <td>0</td>\n",
       "      <td>1</td>\n",
       "      <td>0</td>\n",
       "    </tr>\n",
       "    <tr>\n",
       "      <th>4</th>\n",
       "      <td>Bagus</td>\n",
       "      <td>Informatika</td>\n",
       "      <td>0</td>\n",
       "      <td>0</td>\n",
       "      <td>1</td>\n",
       "      <td>0</td>\n",
       "      <td>0</td>\n",
       "    </tr>\n",
       "  </tbody>\n",
       "</table>\n",
       "</div>"
      ],
      "text/plain": [
       "     Nama      Jurusan  Jurusan_Elektro  Jurusan_Industri  \\\n",
       "0    Lusi  Informatika                0                 0   \n",
       "1  Aisyah        Kimia                0                 0   \n",
       "2   Rizky        Sipil                0                 0   \n",
       "3   Dendi        Kimia                0                 0   \n",
       "4   Bagus  Informatika                0                 0   \n",
       "\n",
       "   Jurusan_Informatika  Jurusan_Kimia  Jurusan_Sipil  \n",
       "0                    1              0              0  \n",
       "1                    0              1              0  \n",
       "2                    0              0              1  \n",
       "3                    0              1              0  \n",
       "4                    1              0              0  "
      ]
     },
     "execution_count": 16,
     "metadata": {},
     "output_type": "execute_result"
    }
   ],
   "source": [
    "import pandas as pd\n",
    "from sklearn.preprocessing import OneHotEncoder\n",
    "\n",
    "# Buat item untuk dataframe\n",
    "IPK = [2.5,3.2,2.5,2.5,3.1,3.8,3.1,2.4,3.8,2.5]\n",
    "Jurusan = [\"Informatika\",\"Kimia\",\"Sipil\",\"Kimia\",\"Informatika\",\"Elektro\",\"Industri\",\"Sipil\",\"Kimia\",\"Informatika\"]\n",
    "\n",
    "# Buat dataframe\n",
    "df = pd.DataFrame(\n",
    "   {\n",
    "       \"Nama\":Nama,\n",
    "       \"Jurusan\" : Jurusan,\n",
    "   } \n",
    ")\n",
    "\n",
    "enc = pd.get_dummies(df[[\"Jurusan\"]])\n",
    "\n",
    "jurusanEnc = pd.DataFrame(enc)\n",
    "\n",
    "df = df.join(jurusanEnc)\n",
    "\n",
    "df.head()"
   ]
  }
 ],
 "metadata": {
  "kernelspec": {
   "display_name": "Python 3.9.7 64-bit",
   "language": "python",
   "name": "python3"
  },
  "language_info": {
   "codemirror_mode": {
    "name": "ipython",
    "version": 3
   },
   "file_extension": ".py",
   "mimetype": "text/x-python",
   "name": "python",
   "nbconvert_exporter": "python",
   "pygments_lexer": "ipython3",
   "version": "3.9.7"
  },
  "vscode": {
   "interpreter": {
    "hash": "1d5c1156327dacead463cc502c55ebae8ce9c8c01979cf154173ff808e75bf55"
   }
  }
 },
 "nbformat": 4,
 "nbformat_minor": 5
}
