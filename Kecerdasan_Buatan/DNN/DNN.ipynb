{
  "nbformat": 4,
  "nbformat_minor": 0,
  "metadata": {
    "colab": {
      "provenance": [],
      "collapsed_sections": []
    },
    "kernelspec": {
      "name": "python3",
      "display_name": "Python 3"
    },
    "language_info": {
      "name": "python"
    }
  },
  "cells": [
    {
      "cell_type": "markdown",
      "source": [
        "#### Import Library"
      ],
      "metadata": {
        "id": "BOsdzegBWebW"
      }
    },
    {
      "cell_type": "code",
      "source": [
        "import numpy as np\n",
        "from tensorflow.keras import Sequential\n",
        "from tensorflow.keras.layers import Dense"
      ],
      "metadata": {
        "id": "k63uIgi_WjUn"
      },
      "execution_count": 1,
      "outputs": []
    },
    {
      "cell_type": "markdown",
      "source": [
        "## Regresi Sederhana dengan DNN"
      ],
      "metadata": {
        "id": "PMWCssOBWVrY"
      }
    },
    {
      "cell_type": "markdown",
      "source": [
        "#### Buat Data"
      ],
      "metadata": {
        "id": "tvWMfBNQXcW9"
      }
    },
    {
      "cell_type": "code",
      "execution_count": 2,
      "metadata": {
        "id": "N0h7Zbt9WE9W"
      },
      "outputs": [],
      "source": [
        "x = np.array([1,2,3,4,5,6],dtype = float)\n",
        "y = np.array([2,3,4,8,10,12],dtype= float)"
      ]
    },
    {
      "cell_type": "markdown",
      "source": [
        "#### Buat Sequential Model"
      ],
      "metadata": {
        "id": "GJR7sTWmX60N"
      }
    },
    {
      "cell_type": "code",
      "source": [
        "model = Sequential()"
      ],
      "metadata": {
        "id": "nYEUlYqWXxEF"
      },
      "execution_count": 3,
      "outputs": []
    },
    {
      "cell_type": "markdown",
      "source": [
        "#### Tambah Layer dan Compile"
      ],
      "metadata": {
        "id": "nQy75sVtYG4c"
      }
    },
    {
      "cell_type": "code",
      "source": [
        "#Input Layer\n",
        "model.add(Dense(1,input_shape=[1]))\n",
        "\n",
        "#Compile Model\n",
        "model.compile(optimizer='sgd',loss='mse')"
      ],
      "metadata": {
        "id": "dCPQ74NuYFpU"
      },
      "execution_count": 4,
      "outputs": []
    },
    {
      "cell_type": "markdown",
      "source": [
        "#### Latih Model"
      ],
      "metadata": {
        "id": "2MkOcujqZD6f"
      }
    },
    {
      "cell_type": "code",
      "source": [
        "model.fit(x,y,epochs=50)"
      ],
      "metadata": {
        "colab": {
          "base_uri": "https://localhost:8080/"
        },
        "id": "LT7GNPlBZBse",
        "outputId": "100ef2a7-6d5a-431d-b614-c67a063ba42c"
      },
      "execution_count": 5,
      "outputs": [
        {
          "output_type": "stream",
          "name": "stdout",
          "text": [
            "Epoch 1/50\n",
            "1/1 [==============================] - 1s 762ms/step - loss: 47.6023\n",
            "Epoch 2/50\n",
            "1/1 [==============================] - 0s 19ms/step - loss: 22.5098\n",
            "Epoch 3/50\n",
            "1/1 [==============================] - 0s 11ms/step - loss: 10.8948\n",
            "Epoch 4/50\n",
            "1/1 [==============================] - 0s 10ms/step - loss: 5.5177\n",
            "Epoch 5/50\n",
            "1/1 [==============================] - 0s 16ms/step - loss: 3.0275\n",
            "Epoch 6/50\n",
            "1/1 [==============================] - 0s 9ms/step - loss: 1.8736\n",
            "Epoch 7/50\n",
            "1/1 [==============================] - 0s 7ms/step - loss: 1.3381\n",
            "Epoch 8/50\n",
            "1/1 [==============================] - 0s 8ms/step - loss: 1.0889\n",
            "Epoch 9/50\n",
            "1/1 [==============================] - 0s 12ms/step - loss: 0.9722\n",
            "Epoch 10/50\n",
            "1/1 [==============================] - 0s 14ms/step - loss: 0.9168\n",
            "Epoch 11/50\n",
            "1/1 [==============================] - 0s 9ms/step - loss: 0.8899\n",
            "Epoch 12/50\n",
            "1/1 [==============================] - 0s 17ms/step - loss: 0.8760\n",
            "Epoch 13/50\n",
            "1/1 [==============================] - 0s 20ms/step - loss: 0.8683\n",
            "Epoch 14/50\n",
            "1/1 [==============================] - 0s 10ms/step - loss: 0.8634\n",
            "Epoch 15/50\n",
            "1/1 [==============================] - 0s 9ms/step - loss: 0.8598\n",
            "Epoch 16/50\n",
            "1/1 [==============================] - 0s 33ms/step - loss: 0.8569\n",
            "Epoch 17/50\n",
            "1/1 [==============================] - 0s 17ms/step - loss: 0.8542\n",
            "Epoch 18/50\n",
            "1/1 [==============================] - 0s 15ms/step - loss: 0.8517\n",
            "Epoch 19/50\n",
            "1/1 [==============================] - 0s 16ms/step - loss: 0.8492\n",
            "Epoch 20/50\n",
            "1/1 [==============================] - 0s 16ms/step - loss: 0.8468\n",
            "Epoch 21/50\n",
            "1/1 [==============================] - 0s 16ms/step - loss: 0.8445\n",
            "Epoch 22/50\n",
            "1/1 [==============================] - 0s 17ms/step - loss: 0.8421\n",
            "Epoch 23/50\n",
            "1/1 [==============================] - 0s 12ms/step - loss: 0.8398\n",
            "Epoch 24/50\n",
            "1/1 [==============================] - 0s 15ms/step - loss: 0.8375\n",
            "Epoch 25/50\n",
            "1/1 [==============================] - 0s 15ms/step - loss: 0.8352\n",
            "Epoch 26/50\n",
            "1/1 [==============================] - 0s 26ms/step - loss: 0.8330\n",
            "Epoch 27/50\n",
            "1/1 [==============================] - 0s 17ms/step - loss: 0.8307\n",
            "Epoch 28/50\n",
            "1/1 [==============================] - 0s 15ms/step - loss: 0.8285\n",
            "Epoch 29/50\n",
            "1/1 [==============================] - 0s 14ms/step - loss: 0.8262\n",
            "Epoch 30/50\n",
            "1/1 [==============================] - 0s 12ms/step - loss: 0.8240\n",
            "Epoch 31/50\n",
            "1/1 [==============================] - 0s 12ms/step - loss: 0.8219\n",
            "Epoch 32/50\n",
            "1/1 [==============================] - 0s 15ms/step - loss: 0.8197\n",
            "Epoch 33/50\n",
            "1/1 [==============================] - 0s 17ms/step - loss: 0.8175\n",
            "Epoch 34/50\n",
            "1/1 [==============================] - 0s 18ms/step - loss: 0.8154\n",
            "Epoch 35/50\n",
            "1/1 [==============================] - 0s 15ms/step - loss: 0.8133\n",
            "Epoch 36/50\n",
            "1/1 [==============================] - 0s 13ms/step - loss: 0.8112\n",
            "Epoch 37/50\n",
            "1/1 [==============================] - 0s 15ms/step - loss: 0.8091\n",
            "Epoch 38/50\n",
            "1/1 [==============================] - 0s 13ms/step - loss: 0.8070\n",
            "Epoch 39/50\n",
            "1/1 [==============================] - 0s 13ms/step - loss: 0.8049\n",
            "Epoch 40/50\n",
            "1/1 [==============================] - 0s 14ms/step - loss: 0.8029\n",
            "Epoch 41/50\n",
            "1/1 [==============================] - 0s 26ms/step - loss: 0.8008\n",
            "Epoch 42/50\n",
            "1/1 [==============================] - 0s 30ms/step - loss: 0.7988\n",
            "Epoch 43/50\n",
            "1/1 [==============================] - 0s 13ms/step - loss: 0.7968\n",
            "Epoch 44/50\n",
            "1/1 [==============================] - 0s 18ms/step - loss: 0.7948\n",
            "Epoch 45/50\n",
            "1/1 [==============================] - 0s 15ms/step - loss: 0.7929\n",
            "Epoch 46/50\n",
            "1/1 [==============================] - 0s 40ms/step - loss: 0.7909\n",
            "Epoch 47/50\n",
            "1/1 [==============================] - 0s 15ms/step - loss: 0.7890\n",
            "Epoch 48/50\n",
            "1/1 [==============================] - 0s 16ms/step - loss: 0.7870\n",
            "Epoch 49/50\n",
            "1/1 [==============================] - 0s 19ms/step - loss: 0.7851\n",
            "Epoch 50/50\n",
            "1/1 [==============================] - 0s 14ms/step - loss: 0.7832\n"
          ]
        },
        {
          "output_type": "execute_result",
          "data": {
            "text/plain": [
              "<keras.callbacks.History at 0x7f10b2590d10>"
            ]
          },
          "metadata": {},
          "execution_count": 5
        }
      ]
    },
    {
      "cell_type": "markdown",
      "source": [
        "#### Prediksi Data Baru"
      ],
      "metadata": {
        "id": "rCb5N7mXbEpu"
      }
    },
    {
      "cell_type": "code",
      "source": [
        "new_data = np.array([6.0,7.0,8.0])\n",
        "\n",
        "y_pred = model.predict(new_data)\n",
        "print(y_pred)"
      ],
      "metadata": {
        "colab": {
          "base_uri": "https://localhost:8080/"
        },
        "id": "Eq2oW_TEZRAk",
        "outputId": "d70b0b8f-8750-422e-af7f-98d002649820"
      },
      "execution_count": 6,
      "outputs": [
        {
          "output_type": "stream",
          "name": "stdout",
          "text": [
            "1/1 [==============================] - 0s 154ms/step\n",
            "[[11.392719]\n",
            " [13.265374]\n",
            " [15.138029]]\n"
          ]
        }
      ]
    },
    {
      "cell_type": "markdown",
      "source": [
        "### Klasifikasi dengan Dataset MNIST"
      ],
      "metadata": {
        "id": "JmI1z64Zboav"
      }
    },
    {
      "cell_type": "markdown",
      "source": [
        "#### Import Library"
      ],
      "metadata": {
        "id": "A3YbYlDObvsW"
      }
    },
    {
      "cell_type": "code",
      "source": [
        "import os\n",
        "import tensorflow as tf\n",
        "from tensorflow import keras\n",
        "from tensorflow.keras import layers,optimizers,datasets\n",
        "import matplotlib.pyplot as plt"
      ],
      "metadata": {
        "id": "D_ZX8aIobvNg"
      },
      "execution_count": 7,
      "outputs": []
    },
    {
      "cell_type": "markdown",
      "source": [
        "#### Load Dataset"
      ],
      "metadata": {
        "id": "HsxpseepcIj4"
      }
    },
    {
      "cell_type": "code",
      "source": [
        "(x_train_raw,y_train_raw) , (x_test_raw,y_test_raw) = datasets.mnist.load_data()"
      ],
      "metadata": {
        "id": "1_zHDEiHbR62",
        "colab": {
          "base_uri": "https://localhost:8080/"
        },
        "outputId": "4b9f6547-bf56-43de-9dec-9f43f499a9f4"
      },
      "execution_count": 8,
      "outputs": [
        {
          "output_type": "stream",
          "name": "stdout",
          "text": [
            "Downloading data from https://storage.googleapis.com/tensorflow/tf-keras-datasets/mnist.npz\n",
            "11490434/11490434 [==============================] - 0s 0us/step\n"
          ]
        }
      ]
    },
    {
      "cell_type": "markdown",
      "source": [
        "#### Encoding label"
      ],
      "metadata": {
        "id": "r0kCRJ9McqCH"
      }
    },
    {
      "cell_type": "code",
      "source": [
        "num_class = 10\n",
        "\n",
        "#One Hot Encoding\n",
        "y_train = keras.utils.to_categorical(y_train_raw,num_class)\n",
        "y_test = keras.utils.to_categorical(y_test_raw,num_class)"
      ],
      "metadata": {
        "id": "jKRjvspqcrf2"
      },
      "execution_count": 9,
      "outputs": []
    },
    {
      "cell_type": "code",
      "source": [
        "y_train"
      ],
      "metadata": {
        "id": "SbHUXqZ08JNS",
        "colab": {
          "base_uri": "https://localhost:8080/"
        },
        "outputId": "527b32e1-95c7-4961-8530-9d16ddbc292b"
      },
      "execution_count": 10,
      "outputs": [
        {
          "output_type": "execute_result",
          "data": {
            "text/plain": [
              "array([[0., 0., 0., ..., 0., 0., 0.],\n",
              "       [1., 0., 0., ..., 0., 0., 0.],\n",
              "       [0., 0., 0., ..., 0., 0., 0.],\n",
              "       ...,\n",
              "       [0., 0., 0., ..., 0., 0., 0.],\n",
              "       [0., 0., 0., ..., 0., 0., 0.],\n",
              "       [0., 0., 0., ..., 0., 1., 0.]], dtype=float32)"
            ]
          },
          "metadata": {},
          "execution_count": 10
        }
      ]
    },
    {
      "cell_type": "markdown",
      "source": [
        "#### Preview Gambar"
      ],
      "metadata": {
        "id": "uRlfOAr6dYR1"
      }
    },
    {
      "cell_type": "code",
      "source": [
        "plt.figure\n",
        "for i in range(9):\n",
        "  plt.subplot(3,3,i+1)\n",
        "  plt.imshow(x_train_raw[i],cmap='gray')\n",
        "  plt.axis('off')\n",
        "\n",
        "plt.show()"
      ],
      "metadata": {
        "colab": {
          "base_uri": "https://localhost:8080/",
          "height": 248
        },
        "id": "AZK92zWidRHo",
        "outputId": "65860ded-5b23-496c-f638-a5b6a1a89fcf"
      },
      "execution_count": 11,
      "outputs": [
        {
          "output_type": "display_data",
          "data": {
            "text/plain": [
              "<Figure size 432x288 with 9 Axes>"
            ],
            "image/png": "[encoded data removed]"
          },
          "metadata": {
            "needs_background": "light"
          }
        }
      ]
    },
    {
      "cell_type": "markdown",
      "source": [
        "#### Reshape Gambar"
      ],
      "metadata": {
        "id": "AbvfK5rDeGrr"
      }
    },
    {
      "cell_type": "code",
      "source": [
        "x_train = x_train_raw.reshape(60000,784)\n",
        "x_test = x_test_raw.reshape(10000,784)"
      ],
      "metadata": {
        "id": "zCyE9XDdd1sn"
      },
      "execution_count": 12,
      "outputs": []
    },
    {
      "cell_type": "markdown",
      "source": [
        "#### Normalisasi"
      ],
      "metadata": {
        "id": "6yLg6gW6ef4R"
      }
    },
    {
      "cell_type": "code",
      "source": [
        "#Normalize image pixel values.\n",
        "x_train = x_train.astype('float32')/255\n",
        "x_test = x_test.astype('float32')/255"
      ],
      "metadata": {
        "id": "-9rQbL2v2Bd0"
      },
      "execution_count": 13,
      "outputs": []
    },
    {
      "cell_type": "markdown",
      "source": [
        "#### Buat Model"
      ],
      "metadata": {
        "id": "Zu69xzX0fQwY"
      }
    },
    {
      "cell_type": "code",
      "source": [
        "model_mnist = keras.Sequential()"
      ],
      "metadata": {
        "id": "_nKl8okgfSTP"
      },
      "execution_count": 14,
      "outputs": []
    },
    {
      "cell_type": "code",
      "source": [
        "#Input Layer\n",
        "model_mnist.add(layers.Dense(512,activation='relu',input_dim=784))\n",
        "\n",
        "#Hidden Layer\n",
        "model_mnist.add(layers.Dense(256,activation='relu'))\n",
        "model_mnist.add(layers.Dense(128,activation='relu'))\n",
        "\n",
        "#Output Layer\n",
        "model_mnist.add(layers.Dense(10,activation='softmax'))"
      ],
      "metadata": {
        "id": "EOeFS_90fWn4"
      },
      "execution_count": 15,
      "outputs": []
    },
    {
      "cell_type": "markdown",
      "source": [
        "**Activation**\n",
        "- Regresi = relu,tanh\n",
        "- Klasifikasi - Binary = sigmoid\n",
        "- Klasifikasi - Multiclass = softmax"
      ],
      "metadata": {
        "id": "Jlg3ObRmgYIp"
      }
    },
    {
      "cell_type": "code",
      "source": [
        "model_mnist.summary()"
      ],
      "metadata": {
        "colab": {
          "base_uri": "https://localhost:8080/"
        },
        "id": "BAvwWsXgfqJX",
        "outputId": "3eefd30d-05f4-4089-a6b5-03ca0d9e7610"
      },
      "execution_count": 16,
      "outputs": [
        {
          "output_type": "stream",
          "name": "stdout",
          "text": [
            "Model: \"sequential_1\"\n",
            "_________________________________________________________________\n",
            " Layer (type)                Output Shape              Param #   \n",
            "=================================================================\n",
            " dense_1 (Dense)             (None, 512)               401920    \n",
            "                                                                 \n",
            " dense_2 (Dense)             (None, 256)               131328    \n",
            "                                                                 \n",
            " dense_3 (Dense)             (None, 128)               32896     \n",
            "                                                                 \n",
            " dense_4 (Dense)             (None, 10)                1290      \n",
            "                                                                 \n",
            "=================================================================\n",
            "Total params: 567,434\n",
            "Trainable params: 567,434\n",
            "Non-trainable params: 0\n",
            "_________________________________________________________________\n"
          ]
        }
      ]
    },
    {
      "cell_type": "markdown",
      "source": [
        "#### Compile Model"
      ],
      "metadata": {
        "id": "QnZyKJkxhGPI"
      }
    },
    {
      "cell_type": "code",
      "source": [
        "Optimizer = optimizers.Adam(learning_rate=0.0001)\n",
        "\n",
        "model_mnist.compile(loss=keras.losses.categorical_crossentropy,optimizer=Optimizer,\n",
        "                    metrics=['accuracy'])"
      ],
      "metadata": {
        "id": "h30LY1emgvSo"
      },
      "execution_count": 17,
      "outputs": []
    },
    {
      "cell_type": "markdown",
      "source": [
        "**Losses**\n",
        "- Regresi = mse,mae\n",
        "- Klasifikasi - Binary = binary_crossentropy\n",
        "- Klasifikasi - Multiclass = categorical_crossentropy\n",
        "\n",
        "**Metrics**\n",
        "- Accuracy\n",
        "- Recall\n",
        "- Precision"
      ],
      "metadata": {
        "id": "OdhV_ZqeiWjK"
      }
    },
    {
      "cell_type": "markdown",
      "source": [
        "#### Training Model"
      ],
      "metadata": {
        "id": "b1tqlKGCjCsR"
      }
    },
    {
      "cell_type": "code",
      "source": [
        "history = model_mnist.fit(x_train,y_train,epochs=10,batch_size=128,verbose=1,validation_data=(x_test,y_test))"
      ],
      "metadata": {
        "colab": {
          "base_uri": "https://localhost:8080/"
        },
        "id": "4FKAjnIVjIKK",
        "outputId": "d0896e7b-1fff-4dc4-aa43-ff5e797f4559"
      },
      "execution_count": 18,
      "outputs": [
        {
          "output_type": "stream",
          "name": "stdout",
          "text": [
            "Epoch 1/10\n",
            "469/469 [==============================] - 18s 34ms/step - loss: 0.5507 - accuracy: 0.8605 - val_loss: 0.2308 - val_accuracy: 0.9322\n",
            "Epoch 2/10\n",
            "469/469 [==============================] - 7s 15ms/step - loss: 0.1955 - accuracy: 0.9443 - val_loss: 0.1656 - val_accuracy: 0.9506\n",
            "Epoch 3/10\n",
            "469/469 [==============================] - 7s 15ms/step - loss: 0.1447 - accuracy: 0.9583 - val_loss: 0.1334 - val_accuracy: 0.9601\n",
            "Epoch 4/10\n",
            "469/469 [==============================] - 7s 15ms/step - loss: 0.1151 - accuracy: 0.9670 - val_loss: 0.1157 - val_accuracy: 0.9669\n",
            "Epoch 5/10\n",
            "469/469 [==============================] - 7s 15ms/step - loss: 0.0939 - accuracy: 0.9731 - val_loss: 0.1013 - val_accuracy: 0.9683\n",
            "Epoch 6/10\n",
            "469/469 [==============================] - 7s 15ms/step - loss: 0.0784 - accuracy: 0.9775 - val_loss: 0.0880 - val_accuracy: 0.9722\n",
            "Epoch 7/10\n",
            "469/469 [==============================] - 7s 15ms/step - loss: 0.0655 - accuracy: 0.9815 - val_loss: 0.0834 - val_accuracy: 0.9743\n",
            "Epoch 8/10\n",
            "469/469 [==============================] - 7s 15ms/step - loss: 0.0559 - accuracy: 0.9841 - val_loss: 0.0796 - val_accuracy: 0.9752\n",
            "Epoch 9/10\n",
            "469/469 [==============================] - 7s 15ms/step - loss: 0.0474 - accuracy: 0.9868 - val_loss: 0.0756 - val_accuracy: 0.9767\n",
            "Epoch 10/10\n",
            "469/469 [==============================] - 7s 15ms/step - loss: 0.0401 - accuracy: 0.9893 - val_loss: 0.0711 - val_accuracy: 0.9791\n"
          ]
        }
      ]
    },
    {
      "cell_type": "markdown",
      "source": [
        "#### History tiap Epoch"
      ],
      "metadata": {
        "id": "OTiKtVKP39OQ"
      }
    },
    {
      "cell_type": "code",
      "source": [
        "history.history.keys()"
      ],
      "metadata": {
        "colab": {
          "base_uri": "https://localhost:8080/"
        },
        "id": "g18oBt-a3VXn",
        "outputId": "f51b8c78-4fa8-4929-e7a4-12937598c32b"
      },
      "execution_count": 19,
      "outputs": [
        {
          "output_type": "execute_result",
          "data": {
            "text/plain": [
              "dict_keys(['loss', 'accuracy', 'val_loss', 'val_accuracy'])"
            ]
          },
          "metadata": {},
          "execution_count": 19
        }
      ]
    },
    {
      "cell_type": "markdown",
      "source": [
        "History training loss"
      ],
      "metadata": {
        "id": "EcjXexDf4DeT"
      }
    },
    {
      "cell_type": "code",
      "source": [
        "plt.figure(figsize=(15,7))\n",
        "epoch = [i+1 for i in range(10)]\n",
        "\n",
        "plt.subplot(1,2,1)\n",
        "plt.plot(epoch,history.history[\"accuracy\"],label='Training')\n",
        "plt.plot(epoch,history.history[\"val_accuracy\"],label='Testing')\n",
        "plt.title(\"Akurasi\")\n",
        "plt.legend()\n",
        "\n",
        "plt.subplot(1,2,2)\n",
        "plt.plot(epoch,history.history[\"loss\"],label='Training')\n",
        "plt.plot(epoch,history.history[\"val_loss\"],label='Testing')\n",
        "plt.title(\"Loss\")\n",
        "plt.legend()\n",
        "plt.show()\n"
      ],
      "metadata": {
        "colab": {
          "base_uri": "https://localhost:8080/",
          "height": 444
        },
        "id": "Pa3NkIMy4HA2",
        "outputId": "79507042-806a-4768-ee57-66f4b5516761"
      },
      "execution_count": 20,
      "outputs": [
        {
          "output_type": "display_data",
          "data": {
            "text/plain": [
              "<Figure size 1080x504 with 2 Axes>"
            ],
            "image/png": "[encoded data removed]"
          },
          "metadata": {
            "needs_background": "light"
          }
        }
      ]
    },
    {
      "cell_type": "markdown",
      "source": [
        "#### Evaluate Model"
      ],
      "metadata": {
        "id": "suHz9BHNkUKU"
      }
    },
    {
      "cell_type": "code",
      "source": [
        "score = model_mnist.evaluate(x_test,y_test,verbose=1)\n",
        "print(f'Test Loss    : {score[0]}')\n",
        "print(f'Test Akurasi : {round(score[1] * 100,2)} %')"
      ],
      "metadata": {
        "colab": {
          "base_uri": "https://localhost:8080/"
        },
        "id": "33_dKqQTjsER",
        "outputId": "0c43021e-3c13-4765-fced-998406b3b425"
      },
      "execution_count": 21,
      "outputs": [
        {
          "output_type": "stream",
          "name": "stdout",
          "text": [
            "313/313 [==============================] - 1s 5ms/step - loss: 0.0711 - accuracy: 0.9791\n",
            "Test Loss    : 0.07113602012395859\n",
            "Test Akurasi : 97.91 %\n"
          ]
        }
      ]
    },
    {
      "cell_type": "markdown",
      "source": [
        "#### Save Model"
      ],
      "metadata": {
        "id": "Nbgd3HiVo6DV"
      }
    },
    {
      "cell_type": "code",
      "source": [
        "model_mnist.save('Model_mnist.h5')"
      ],
      "metadata": {
        "id": "w6Qi29Oho7j8"
      },
      "execution_count": 22,
      "outputs": []
    },
    {
      "cell_type": "markdown",
      "source": [
        "#### Load Model"
      ],
      "metadata": {
        "id": "MuDYGXvepLLO"
      }
    },
    {
      "cell_type": "code",
      "source": [
        "modelleeee = tf.keras.models.load_model('Model_mnist.h5')"
      ],
      "metadata": {
        "id": "w2N2s2eTpIBN"
      },
      "execution_count": 23,
      "outputs": []
    },
    {
      "cell_type": "code",
      "source": [
        "modelleeee.summary()"
      ],
      "metadata": {
        "id": "awFMobaOpVp9",
        "outputId": "50b2cb87-d852-48d3-e13f-0c23e803d0fa",
        "colab": {
          "base_uri": "https://localhost:8080/"
        }
      },
      "execution_count": 24,
      "outputs": [
        {
          "output_type": "stream",
          "name": "stdout",
          "text": [
            "Model: \"sequential_1\"\n",
            "_________________________________________________________________\n",
            " Layer (type)                Output Shape              Param #   \n",
            "=================================================================\n",
            " dense_1 (Dense)             (None, 512)               401920    \n",
            "                                                                 \n",
            " dense_2 (Dense)             (None, 256)               131328    \n",
            "                                                                 \n",
            " dense_3 (Dense)             (None, 128)               32896     \n",
            "                                                                 \n",
            " dense_4 (Dense)             (None, 10)                1290      \n",
            "                                                                 \n",
            "=================================================================\n",
            "Total params: 567,434\n",
            "Trainable params: 567,434\n",
            "Non-trainable params: 0\n",
            "_________________________________________________________________\n"
          ]
        }
      ]
    },
    {
      "cell_type": "markdown",
      "source": [
        "#### Prediksi Model\n"
      ],
      "metadata": {
        "id": "74xYYOkX-l1X"
      }
    },
    {
      "cell_type": "code",
      "source": [
        "predictions = model_mnist.predict(x_test)\n"
      ],
      "metadata": {
        "colab": {
          "base_uri": "https://localhost:8080/"
        },
        "id": "CSI3olJ740Lr",
        "outputId": "fb1c9722-b1c7-4da6-ad36-84eac51215a0"
      },
      "execution_count": 25,
      "outputs": [
        {
          "output_type": "stream",
          "name": "stdout",
          "text": [
            "313/313 [==============================] - 1s 4ms/step\n"
          ]
        }
      ]
    },
    {
      "cell_type": "code",
      "source": [
        "label = np.argmax(predictions,axis=1)\n",
        "ActualLabel = np.argmax(y_test[4])\n",
        "\n",
        "\n",
        "\n",
        "img = x_test[4].reshape(28, 28)\n",
        "\n",
        "plt.title(f\"Aktual Label : {ActualLabel}, Predicted Label : {label[4]}\")\n",
        "\n",
        "plt.imshow(img)\n",
        "plt.show()"
      ],
      "metadata": {
        "colab": {
          "base_uri": "https://localhost:8080/",
          "height": 281
        },
        "id": "bjcJqQTX9n9j",
        "outputId": "e3d3779c-ad2f-422d-9609-13c7a1151222"
      },
      "execution_count": 26,
      "outputs": [
        {
          "output_type": "display_data",
          "data": {
            "text/plain": [
              "<Figure size 432x288 with 1 Axes>"
            ],
            "image/png": "[encoded data removed]"
          },
          "metadata": {
            "needs_background": "light"
          }
        }
      ]
    },
    {
      "cell_type": "code",
      "source": [
        "plt.figure(figsize=(15,15))\n",
        "for i in range(9):\n",
        "  plt.subplot(3,3,i+1)\n",
        "\n",
        "\n",
        "  ActualLabel = np.argmax(y_test[i])\n",
        "  plt.title(f\"Aktual Label : {ActualLabel}, Predicted Label : {label[i]}\")\n",
        "  plt.imshow(x_test[i].reshape(28, 28))\n",
        "  plt.axis('off')\n",
        "\n",
        "plt.show()"
      ],
      "metadata": {
        "colab": {
          "base_uri": "https://localhost:8080/",
          "height": 862
        },
        "id": "PR2oPIV591Qc",
        "outputId": "5e2358e4-58e6-4456-d42c-27394b5c89c1"
      },
      "execution_count": 27,
      "outputs": [
        {
          "output_type": "display_data",
          "data": {
            "text/plain": [
              "<Figure size 1080x1080 with 9 Axes>"
            ],
            "image/png": "[encoded data removed]"
          },
          "metadata": {
            "needs_background": "light"
          }
        }
      ]
    },
    {
      "cell_type": "code",
      "source": [],
      "metadata": {
        "id": "2IVK9FGIE7JG"
      },
      "execution_count": 27,
      "outputs": []
    }
  ]
}