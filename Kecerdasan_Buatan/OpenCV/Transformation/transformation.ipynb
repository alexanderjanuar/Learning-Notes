{
 "cells": [
  {
   "cell_type": "code",
   "execution_count": 1,
   "metadata": {},
   "outputs": [],
   "source": [
    "import cv2 as cv\n",
    "import numpy as np"
   ]
  },
  {
   "cell_type": "code",
   "execution_count": 2,
   "metadata": {},
   "outputs": [],
   "source": [
    "img = cv.imread('../assets/Cat.jpg')"
   ]
  },
  {
   "attachments": {},
   "cell_type": "markdown",
   "metadata": {},
   "source": [
    "**Original Image**\n",
    "\n",
    "<img src='../assets/Cat.jpg' width='300' height='300'>"
   ]
  },
  {
   "attachments": {},
   "cell_type": "markdown",
   "metadata": {},
   "source": [
    "## 1. Translation"
   ]
  },
  {
   "cell_type": "code",
   "execution_count": 6,
   "metadata": {},
   "outputs": [
    {
     "data": {
      "text/plain": [
       "True"
      ]
     },
     "execution_count": 6,
     "metadata": {},
     "output_type": "execute_result"
    }
   ],
   "source": [
    "def translate(img,x,y):\n",
    "    transMat = np.float32([[1,0,x],[0,1,y]])\n",
    "    dimensions = (img.shape[1],img.shape[0])\n",
    "    return cv.warpAffine(img,transMat,dimensions)\n",
    "\n",
    "# -x --> Left\n",
    "# x --> Up\n",
    "# -y --> Right\n",
    "# y --> Down\n",
    "\n",
    "translated = translate(img,100,100)\n",
    "cv.imshow('Translated Image',translated)\n",
    "\n",
    "cv.waitKey(0)\n",
    "\n",
    "#save the image\n",
    "cv.imwrite(\"Output/TranslatedCat.jpg\", translated)"
   ]
  },
  {
   "attachments": {},
   "cell_type": "markdown",
   "metadata": {},
   "source": [
    "**Output**\n",
    "\n",
    "<img src='Output/TranslatedCat.jpg' width='300' height='300'>"
   ]
  },
  {
   "attachments": {},
   "cell_type": "markdown",
   "metadata": {},
   "source": [
    "## 2. Rotation"
   ]
  },
  {
   "cell_type": "code",
   "execution_count": 8,
   "metadata": {},
   "outputs": [
    {
     "data": {
      "text/plain": [
       "True"
      ]
     },
     "execution_count": 8,
     "metadata": {},
     "output_type": "execute_result"
    }
   ],
   "source": [
    "def Rotate(img, angle, rotPoint = None):\n",
    "    (height, width) = img.shape[:2]\n",
    "\n",
    "    if rotPoint is None:\n",
    "        rotPoint = (width//2,height//2) #Get the center of the image\n",
    "    rotMat = cv.getRotationMatrix2D(rotPoint,angle,1.0)\n",
    "    dimensions = (img.shape[1],img.shape[0])\n",
    "\n",
    "    return cv.warpAffine(img,rotMat,dimensions)\n",
    "\n",
    "rotated = Rotate(img,-45)\n",
    "\n",
    "cv.imshow('Rotated Image',rotated)\n",
    "\n",
    "cv.waitKey(0)\n",
    "\n",
    "#save the image\n",
    "cv.imwrite(\"Output/RotatedCat.jpg\", rotated)"
   ]
  },
  {
   "attachments": {},
   "cell_type": "markdown",
   "metadata": {},
   "source": [
    "**Output**\n",
    "\n",
    "<img src='Output/RotatedCat.jpg' width='300' height='300'>"
   ]
  },
  {
   "attachments": {},
   "cell_type": "markdown",
   "metadata": {},
   "source": [
    "## 3. Flipping"
   ]
  },
  {
   "cell_type": "code",
   "execution_count": 11,
   "metadata": {},
   "outputs": [
    {
     "data": {
      "text/plain": [
       "True"
      ]
     },
     "execution_count": 11,
     "metadata": {},
     "output_type": "execute_result"
    }
   ],
   "source": [
    "flip = cv.flip(img,0) # 0 = Flip image horizontal, 1 = Flip image vertically (mirror), -1 = Flip image vertically & horizontally\n",
    "\n",
    "cv.imshow('Fliped Image',flip)\n",
    "\n",
    "cv.waitKey(0)\n",
    "\n",
    "#save the image\n",
    "cv.imwrite(\"Output/FlipedCat.jpg\", flip)"
   ]
  },
  {
   "attachments": {},
   "cell_type": "markdown",
   "metadata": {},
   "source": [
    "**Output**\n",
    "\n",
    "<img src='Output/FlipedCat.jpg' width='300' height='300'>"
   ]
  }
 ],
 "metadata": {
  "kernelspec": {
   "display_name": "Python 3",
   "language": "python",
   "name": "python3"
  },
  "language_info": {
   "codemirror_mode": {
    "name": "ipython",
    "version": 3
   },
   "file_extension": ".py",
   "mimetype": "text/x-python",
   "name": "python",
   "nbconvert_exporter": "python",
   "pygments_lexer": "ipython3",
   "version": "3.9.7"
  },
  "orig_nbformat": 4
 },
 "nbformat": 4,
 "nbformat_minor": 2
}
