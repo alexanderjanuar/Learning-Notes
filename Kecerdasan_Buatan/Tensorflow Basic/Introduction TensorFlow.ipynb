{
 "cells": [
  {
   "cell_type": "markdown",
   "id": "0409a88e",
   "metadata": {},
   "source": [
    "# Import Library"
   ]
  },
  {
   "cell_type": "code",
   "execution_count": 1,
   "id": "b54955b2",
   "metadata": {},
   "outputs": [],
   "source": [
    "import tensorflow as tf"
   ]
  },
  {
   "cell_type": "markdown",
   "id": "a00dd6d3",
   "metadata": {},
   "source": [
    "# How to Create a Tensor"
   ]
  },
  {
   "cell_type": "markdown",
   "id": "51211b68",
   "metadata": {},
   "source": [
    "## 1. Constant Tensor"
   ]
  },
  {
   "cell_type": "markdown",
   "id": "b799c67d",
   "metadata": {},
   "source": [
    "### A. tf.constant()"
   ]
  },
  {
   "cell_type": "code",
   "execution_count": 2,
   "id": "9cc956fa",
   "metadata": {},
   "outputs": [
    {
     "data": {
      "text/plain": [
       "<tf.Tensor: shape=(2, 2), dtype=float32, numpy=\n",
       "array([[1., 2.],\n",
       "       [3., 4.]], dtype=float32)>"
      ]
     },
     "execution_count": 2,
     "metadata": {},
     "output_type": "execute_result"
    }
   ],
   "source": [
    "#membuat nilai konstanta menggunakan TensorFlow\n",
    "const_a = tf.constant([1,2,3,4], shape=[2,2], dtype=tf.float32)\n",
    "\n",
    "#Print Nilai konstanta TensorFlow\n",
    "const_a"
   ]
  },
  {
   "cell_type": "markdown",
   "id": "8815bf3e",
   "metadata": {},
   "source": [
    "### B. tf.zeros()"
   ]
  },
  {
   "cell_type": "code",
   "execution_count": 3,
   "id": "fed411a6",
   "metadata": {},
   "outputs": [
    {
     "data": {
      "text/plain": [
       "<tf.Tensor: shape=(2, 3), dtype=int32, numpy=\n",
       "array([[0, 0, 0],\n",
       "       [0, 0, 0]])>"
      ]
     },
     "execution_count": 3,
     "metadata": {},
     "output_type": "execute_result"
    }
   ],
   "source": [
    "#Penggunaan tf.zeros\n",
    "zeros_b = tf.zeros(shape=[2, 3], dtype=tf.int32)\n",
    "\n",
    "#Pengecekan nilai constant\n",
    "zeros_b"
   ]
  },
  {
   "cell_type": "markdown",
   "id": "63c830d7",
   "metadata": {},
   "source": [
    "### C. tf.fill()"
   ]
  },
  {
   "cell_type": "code",
   "execution_count": 4,
   "id": "7bb6fc3f",
   "metadata": {},
   "outputs": [
    {
     "data": {
      "text/plain": [
       "<tf.Tensor: shape=(3, 3), dtype=int32, numpy=\n",
       "array([[8, 8, 8],\n",
       "       [8, 8, 8],\n",
       "       [8, 8, 8]])>"
      ]
     },
     "execution_count": 4,
     "metadata": {},
     "output_type": "execute_result"
    }
   ],
   "source": [
    "#penggunaan tf.fill()\n",
    "fill_d = tf.fill([3,3], 8)\n",
    "\n",
    "#Pengecekan nilai constant\n",
    "fill_d"
   ]
  },
  {
   "cell_type": "markdown",
   "id": "c5e724f0",
   "metadata": {},
   "source": [
    "### D. tf.random()\n",
    "\n",
    "###### shape: A 1-D integer Tensor or Python array. The shape of the output tensor.\n",
    "###### mean: A Tensor or Python value of type dtype, broadcastable with stddev. The mean of the normal distribution.\n",
    "###### stddev: A Tensor or Python value of type dtype, broadcastable with mean. The standard deviation of the normal distribution.\n",
    "###### dtype: The type of the output.\n",
    "###### seed: \tA Python integer. Used to create a random seed for the distribution. See tf.random.set_seed for behavior.\n",
    "###### name: A name for the operation (optional).\n"
   ]
  },
  {
   "cell_type": "code",
   "execution_count": 5,
   "id": "c64107bf",
   "metadata": {},
   "outputs": [
    {
     "data": {
      "text/plain": [
       "<tf.Tensor: shape=(3, 3), dtype=float32, numpy=\n",
       "array([[-0.6125074 ,  0.37102   , -0.5417572 ],\n",
       "       [ 0.34943956, -0.81537443,  0.7473872 ],\n",
       "       [-0.72815347, -0.3221687 , -0.41766325]], dtype=float32)>"
      ]
     },
     "execution_count": 5,
     "metadata": {},
     "output_type": "execute_result"
    }
   ],
   "source": [
    "#penggunaan tf.random.normal()\n",
    "random_e = tf.random.normal([3,3],mean=0.0,stddev=1.0)\n",
    "\n",
    "#Pengecekan nilai constant\n",
    "random_e"
   ]
  },
  {
   "cell_type": "markdown",
   "id": "3eb73687",
   "metadata": {},
   "source": [
    "### E. tf.convert_to_tensor\n",
    "\n",
    "###### value: An object whose type has a registered Tensor conversion function.\n",
    "###### dtype: Optional element type for the returned tensor. If missing, the type is inferred from the type of value.\n",
    "###### dtype_hint: Optional element type for the returned tensor, used when dtype is None. In some cases, a caller may not have a dtype in mind when converting to a tensor, so dtype_hint can be used as a soft preference. If the conversion to dtype_hint is not possible, this argument has no effect.\n",
    "###### Name:\tOptional name to use if a new Tensor is created."
   ]
  },
  {
   "cell_type": "code",
   "execution_count": 6,
   "id": "d4ad3a22",
   "metadata": {},
   "outputs": [
    {
     "data": {
      "text/plain": [
       "<tf.Tensor: shape=(2, 6), dtype=float32, numpy=\n",
       "array([[1., 2., 3., 4., 5., 6.],\n",
       "       [1., 2., 3., 4., 5., 6.]], dtype=float32)>"
      ]
     },
     "execution_count": 6,
     "metadata": {},
     "output_type": "execute_result"
    }
   ],
   "source": [
    "#Pembuatan list untuk dimasukkan kedalam Tensor\n",
    "list_f = [[1,2,3,4,5,6],[1,2,3,4,5,6]]\n",
    "\n",
    "#Penggunaan tf.convert_to_tensor\n",
    "tensor_f = tf.convert_to_tensor(list_f, dtype=tf.float32)\n",
    "\n",
    "#Pengecekan nilai constant\n",
    "tensor_f"
   ]
  },
  {
   "cell_type": "markdown",
   "id": "9fcbb175",
   "metadata": {},
   "source": [
    "## 2. Variable Tensor"
   ]
  },
  {
   "cell_type": "code",
   "execution_count": 7,
   "id": "30af75e9",
   "metadata": {},
   "outputs": [
    {
     "data": {
      "text/plain": [
       "<tf.Variable 'Variable:0' shape=(2, 3) dtype=float32, numpy=\n",
       "array([[1., 1., 1.],\n",
       "       [1., 1., 1.]], dtype=float32)>"
      ]
     },
     "execution_count": 7,
     "metadata": {},
     "output_type": "execute_result"
    }
   ],
   "source": [
    "#Penggunaan tf.Variable\n",
    "var_1 = tf.Variable(tf.ones([2,3]))\n",
    "\n",
    "#Output dari tf.Variable\n",
    "var_1"
   ]
  },
  {
   "cell_type": "code",
   "execution_count": 8,
   "id": "8de4260a",
   "metadata": {},
   "outputs": [
    {
     "name": "stdout",
     "output_type": "stream",
     "text": [
      "Nilai dari var_1: tf.Tensor(\n",
      "[[1. 1. 1.]\n",
      " [1. 1. 1.]], shape=(2, 3), dtype=float32)\n"
     ]
    }
   ],
   "source": [
    "#nilai dari var_1 Sebelum diubah\n",
    "print(\"Nilai dari var_1:\",var_1.read_value())"
   ]
  },
  {
   "cell_type": "code",
   "execution_count": 9,
   "id": "cd318080",
   "metadata": {},
   "outputs": [
    {
     "name": "stdout",
     "output_type": "stream",
     "text": [
      "Nilai dari var_1 Setelah di assign: tf.Tensor(\n",
      "[[1. 2. 3.]\n",
      " [4. 5. 6.]], shape=(2, 3), dtype=float32)\n"
     ]
    }
   ],
   "source": [
    "#nilai dari var_1 setelah di assign\n",
    "var_value_1=[[1,2,3],[4,5,6]]\n",
    "var_1.assign(var_value_1)\n",
    "print(\"Nilai dari var_1 Setelah di assign:\",var_1.read_value())\n",
    "\n"
   ]
  },
  {
   "cell_type": "code",
   "execution_count": 10,
   "id": "4558eb9c",
   "metadata": {},
   "outputs": [
    {
     "data": {
      "text/plain": [
       "<tf.Variable 'Variable:0' shape=(2, 3) dtype=float32, numpy=\n",
       "array([[2., 3., 4.],\n",
       "       [5., 6., 7.]], dtype=float32)>"
      ]
     },
     "execution_count": 10,
     "metadata": {},
     "output_type": "execute_result"
    }
   ],
   "source": [
    "#nilia var_1 setelah di beri addition_add(ditambah dengan nilai yg ada)\n",
    "var_1.assign_add(tf.ones([2,3]))\n",
    "var_1"
   ]
  },
  {
   "cell_type": "markdown",
   "id": "12f4b520",
   "metadata": {},
   "source": [
    "# Tensor Slicing and Indexing"
   ]
  },
  {
   "cell_type": "markdown",
   "id": "f15e81e4",
   "metadata": {},
   "source": [
    "## 1. Slicing"
   ]
  },
  {
   "cell_type": "code",
   "execution_count": 11,
   "id": "d483dbff",
   "metadata": {},
   "outputs": [
    {
     "name": "stdout",
     "output_type": "stream",
     "text": [
      "Create a 4-dimensional tensor. The tensor contains four images. The size of each image is 100 x 100 x 3.\n",
      "tf.Tensor(\n",
      "[[[[ 1.438941   -0.17424072  0.59617704]\n",
      "   [ 1.9346902   0.6565615   0.51382565]\n",
      "   [-1.0799036   0.44955078 -1.2944201 ]]\n",
      "\n",
      "  [[ 1.4980272   1.5019722  -1.4375433 ]\n",
      "   [-0.90228975 -0.7398286  -2.0936804 ]\n",
      "   [ 0.40381917  0.46162608 -0.25871414]]\n",
      "\n",
      "  [[ 0.23625602  0.6787285  -1.1236634 ]\n",
      "   [ 0.7499328   0.9769986  -1.0005585 ]\n",
      "   [-1.2149957   1.3606836   0.7401364 ]]]\n",
      "\n",
      "\n",
      " [[[ 0.0950603   0.39142984  0.9417177 ]\n",
      "   [ 1.1713841  -0.02317994 -0.3687623 ]\n",
      "   [ 1.1355289   1.0794542   0.836794  ]]\n",
      "\n",
      "  [[ 1.7100188   0.4510735  -0.45733297]\n",
      "   [ 0.20744129 -1.5694747   0.45661512]\n",
      "   [ 0.729952    0.8785766   0.58579844]]\n",
      "\n",
      "  [[ 0.25949076 -1.0386597  -0.9335034 ]\n",
      "   [-0.13827485 -0.6608404   0.8550529 ]\n",
      "   [-0.5208846  -0.10865517  0.7554524 ]]]], shape=(2, 3, 3, 3), dtype=float32)\n"
     ]
    }
   ],
   "source": [
    "print(\"Create a 4-dimensional tensor. The tensor contains four images. The size of each image is 100 x 100 x 3.\")\n",
    "tensor_i = tf.random.normal([2,3,3,3])\n",
    "print(tensor_i)"
   ]
  },
  {
   "cell_type": "code",
   "execution_count": 12,
   "id": "7f26d860",
   "metadata": {},
   "outputs": [
    {
     "name": "stdout",
     "output_type": "stream",
     "text": [
      "\n",
      " Extract the first image.\n",
      "tf.Tensor(\n",
      "[[[ 1.438941   -0.17424072  0.59617704]\n",
      "  [ 1.9346902   0.6565615   0.51382565]\n",
      "  [-1.0799036   0.44955078 -1.2944201 ]]\n",
      "\n",
      " [[ 1.4980272   1.5019722  -1.4375433 ]\n",
      "  [-0.90228975 -0.7398286  -2.0936804 ]\n",
      "  [ 0.40381917  0.46162608 -0.25871414]]\n",
      "\n",
      " [[ 0.23625602  0.6787285  -1.1236634 ]\n",
      "  [ 0.7499328   0.9769986  -1.0005585 ]\n",
      "  [-1.2149957   1.3606836   0.7401364 ]]], shape=(3, 3, 3), dtype=float32)\n"
     ]
    }
   ],
   "source": [
    "#Ngambil data menggunakan index seperti biasa\n",
    "print(\"\\n Extract the first image.\")\n",
    "print(tensor_i[0,...])"
   ]
  },
  {
   "cell_type": "code",
   "execution_count": 13,
   "id": "084ee732",
   "metadata": {},
   "outputs": [
    {
     "name": "stdout",
     "output_type": "stream",
     "text": [
      "\n",
      " Extract one slice at an interval of two images.\n",
      "tf.Tensor(\n",
      "[[[[ 1.438941   -0.17424072  0.59617704]\n",
      "   [ 1.9346902   0.6565615   0.51382565]\n",
      "   [-1.0799036   0.44955078 -1.2944201 ]]\n",
      "\n",
      "  [[ 1.4980272   1.5019722  -1.4375433 ]\n",
      "   [-0.90228975 -0.7398286  -2.0936804 ]\n",
      "   [ 0.40381917  0.46162608 -0.25871414]]\n",
      "\n",
      "  [[ 0.23625602  0.6787285  -1.1236634 ]\n",
      "   [ 0.7499328   0.9769986  -1.0005585 ]\n",
      "   [-1.2149957   1.3606836   0.7401364 ]]]\n",
      "\n",
      "\n",
      " [[[ 0.0950603   0.39142984  0.9417177 ]\n",
      "   [ 1.1713841  -0.02317994 -0.3687623 ]\n",
      "   [ 1.1355289   1.0794542   0.836794  ]]\n",
      "\n",
      "  [[ 1.7100188   0.4510735  -0.45733297]\n",
      "   [ 0.20744129 -1.5694747   0.45661512]\n",
      "   [ 0.729952    0.8785766   0.58579844]]\n",
      "\n",
      "  [[ 0.25949076 -1.0386597  -0.9335034 ]\n",
      "   [-0.13827485 -0.6608404   0.8550529 ]\n",
      "   [-0.5208846  -0.10865517  0.7554524 ]]]], shape=(2, 3, 3, 3), dtype=float32)\n"
     ]
    }
   ],
   "source": [
    "#Ngambil data menggunakan sistem interval(dimulai dari) dan mencontohkan penggunaan '...'\n",
    "print(\"\\n Extract one slice at an interval of two images.\")\n",
    "print(tensor_i[::1,...])"
   ]
  },
  {
   "cell_type": "code",
   "execution_count": 14,
   "id": "ab0735c4",
   "metadata": {},
   "outputs": [
    {
     "name": "stdout",
     "output_type": "stream",
     "text": [
      "\n",
      " Slice data from the last element.\n",
      "tf.Tensor(\n",
      "[[[[ 0.0950603   0.39142984  0.9417177 ]\n",
      "   [ 1.1713841  -0.02317994 -0.3687623 ]\n",
      "   [ 1.1355289   1.0794542   0.836794  ]]\n",
      "\n",
      "  [[ 1.7100188   0.4510735  -0.45733297]\n",
      "   [ 0.20744129 -1.5694747   0.45661512]\n",
      "   [ 0.729952    0.8785766   0.58579844]]\n",
      "\n",
      "  [[ 0.25949076 -1.0386597  -0.9335034 ]\n",
      "   [-0.13827485 -0.6608404   0.8550529 ]\n",
      "   [-0.5208846  -0.10865517  0.7554524 ]]]\n",
      "\n",
      "\n",
      " [[[ 1.438941   -0.17424072  0.59617704]\n",
      "   [ 1.9346902   0.6565615   0.51382565]\n",
      "   [-1.0799036   0.44955078 -1.2944201 ]]\n",
      "\n",
      "  [[ 1.4980272   1.5019722  -1.4375433 ]\n",
      "   [-0.90228975 -0.7398286  -2.0936804 ]\n",
      "   [ 0.40381917  0.46162608 -0.25871414]]\n",
      "\n",
      "  [[ 0.23625602  0.6787285  -1.1236634 ]\n",
      "   [ 0.7499328   0.9769986  -1.0005585 ]\n",
      "   [-1.2149957   1.3606836   0.7401364 ]]]], shape=(2, 3, 3, 3), dtype=float32)\n"
     ]
    }
   ],
   "source": [
    "#Mengambil Data Dari belakang\n",
    "print(\"\\n Slice data from the last element.\")\n",
    "print(tensor_i[::-1])"
   ]
  },
  {
   "cell_type": "markdown",
   "id": "bb902117",
   "metadata": {},
   "source": [
    "## 2. Indexing"
   ]
  },
  {
   "cell_type": "markdown",
   "id": "73765ab0",
   "metadata": {},
   "source": [
    "### A. tf.gather()"
   ]
  },
  {
   "cell_type": "code",
   "execution_count": 17,
   "id": "e0a33a05",
   "metadata": {},
   "outputs": [
    {
     "data": {
      "text/plain": [
       "<tf.Tensor: shape=(3, 3, 3, 3), dtype=float32, numpy=\n",
       "array([[[[ 1.438941  , -0.17424072,  0.59617704],\n",
       "         [ 1.9346902 ,  0.6565615 ,  0.51382565],\n",
       "         [-1.0799036 ,  0.44955078, -1.2944201 ]],\n",
       "\n",
       "        [[ 1.4980272 ,  1.5019722 , -1.4375433 ],\n",
       "         [-0.90228975, -0.7398286 , -2.0936804 ],\n",
       "         [ 0.40381917,  0.46162608, -0.25871414]],\n",
       "\n",
       "        [[ 0.23625602,  0.6787285 , -1.1236634 ],\n",
       "         [ 0.7499328 ,  0.9769986 , -1.0005585 ],\n",
       "         [-1.2149957 ,  1.3606836 ,  0.7401364 ]]],\n",
       "\n",
       "\n",
       "       [[[ 0.0950603 ,  0.39142984,  0.9417177 ],\n",
       "         [ 1.1713841 , -0.02317994, -0.3687623 ],\n",
       "         [ 1.1355289 ,  1.0794542 ,  0.836794  ]],\n",
       "\n",
       "        [[ 1.7100188 ,  0.4510735 , -0.45733297],\n",
       "         [ 0.20744129, -1.5694747 ,  0.45661512],\n",
       "         [ 0.729952  ,  0.8785766 ,  0.58579844]],\n",
       "\n",
       "        [[ 0.25949076, -1.0386597 , -0.9335034 ],\n",
       "         [-0.13827485, -0.6608404 ,  0.8550529 ],\n",
       "         [-0.5208846 , -0.10865517,  0.7554524 ]]],\n",
       "\n",
       "\n",
       "       [[[ 1.438941  , -0.17424072,  0.59617704],\n",
       "         [ 1.9346902 ,  0.6565615 ,  0.51382565],\n",
       "         [-1.0799036 ,  0.44955078, -1.2944201 ]],\n",
       "\n",
       "        [[ 1.4980272 ,  1.5019722 , -1.4375433 ],\n",
       "         [-0.90228975, -0.7398286 , -2.0936804 ],\n",
       "         [ 0.40381917,  0.46162608, -0.25871414]],\n",
       "\n",
       "        [[ 0.23625602,  0.6787285 , -1.1236634 ],\n",
       "         [ 0.7499328 ,  0.9769986 , -1.0005585 ],\n",
       "         [-1.2149957 ,  1.3606836 ,  0.7401364 ]]]], dtype=float32)>"
      ]
     },
     "execution_count": 17,
     "metadata": {},
     "output_type": "execute_result"
    }
   ],
   "source": [
    "#Extract the first, second, and fourth images from tensor_i ([2,2,2,3]).\n",
    "indices = [0,1,0]\n",
    "tf.gather(tensor_i,axis=0,indices=indices)"
   ]
  },
  {
   "cell_type": "markdown",
   "id": "6081f46b",
   "metadata": {},
   "source": [
    "### B. tf.gather_nd"
   ]
  },
  {
   "cell_type": "code",
   "execution_count": 19,
   "id": "6a31b96f",
   "metadata": {},
   "outputs": [
    {
     "data": {
      "text/plain": [
       "<tf.Tensor: shape=(2,), dtype=float32, numpy=array([-0.90228975, -0.5208846 ], dtype=float32)>"
      ]
     },
     "execution_count": 19,
     "metadata": {},
     "output_type": "execute_result"
    }
   ],
   "source": [
    "# Mengambil nilai piksel [,] dari dimensi pertama gamabr pertama dan piksek [,] dari dimensi pertama dan gamabr kedua pada tensor_i\n",
    "indices = [[0,1,1,0],[1,2,2,0]]\n",
    "tf.gather_nd(tensor_i,indices=indices)"
   ]
  },
  {
   "cell_type": "markdown",
   "id": "0555cf37",
   "metadata": {},
   "source": [
    "# Tensor Dimension Modification"
   ]
  },
  {
   "cell_type": "markdown",
   "id": "17c3ed49",
   "metadata": {},
   "source": [
    "## 1. Dimension Display"
   ]
  },
  {
   "cell_type": "code",
   "execution_count": 20,
   "id": "6af3ee44",
   "metadata": {},
   "outputs": [],
   "source": [
    "# Pembuatan Tensor\n",
    "const_d_1 = tf.constant([[1, 2, 3, 4]],shape=[2,2], dtype=tf.float32)\n"
   ]
  },
  {
   "cell_type": "code",
   "execution_count": 21,
   "id": "ae0e0fa3",
   "metadata": {},
   "outputs": [
    {
     "data": {
      "text/plain": [
       "TensorShape([2, 2])"
      ]
     },
     "execution_count": 21,
     "metadata": {},
     "output_type": "execute_result"
    }
   ],
   "source": [
    "#Common display dimension\n",
    "const_d_1.shape"
   ]
  },
  {
   "cell_type": "code",
   "execution_count": 22,
   "id": "066ed1c0",
   "metadata": {},
   "outputs": [
    {
     "data": {
      "text/plain": [
       "TensorShape([2, 2])"
      ]
     },
     "execution_count": 22,
     "metadata": {},
     "output_type": "execute_result"
    }
   ],
   "source": [
    "#Common display dimension\n",
    "const_d_1.get_shape()"
   ]
  },
  {
   "cell_type": "code",
   "execution_count": 23,
   "id": "8f451d36",
   "metadata": {},
   "outputs": [
    {
     "data": {
      "text/plain": [
       "<tf.Tensor: shape=(2,), dtype=int32, numpy=array([2, 2])>"
      ]
     },
     "execution_count": 23,
     "metadata": {},
     "output_type": "execute_result"
    }
   ],
   "source": [
    "#Common display dimension\n",
    "tf.shape(const_d_1)"
   ]
  },
  {
   "cell_type": "markdown",
   "id": "af6ac79a",
   "metadata": {},
   "source": [
    "## 2. Dimension Reshaping"
   ]
  },
  {
   "cell_type": "code",
   "execution_count": 24,
   "id": "07835fab",
   "metadata": {},
   "outputs": [
    {
     "data": {
      "text/plain": [
       "<tf.Tensor: shape=(2, 3), dtype=int32, numpy=\n",
       "array([[1, 2, 3],\n",
       "       [4, 5, 6]])>"
      ]
     },
     "execution_count": 24,
     "metadata": {},
     "output_type": "execute_result"
    }
   ],
   "source": [
    "#Before Reshaping\n",
    "reshape_1 = tf.constant([[1,2,3],[4,5,6]])\n",
    "reshape_1"
   ]
  },
  {
   "cell_type": "code",
   "execution_count": 25,
   "id": "628ea979",
   "metadata": {},
   "outputs": [
    {
     "data": {
      "text/plain": [
       "<tf.Tensor: shape=(3, 2), dtype=int32, numpy=\n",
       "array([[1, 2],\n",
       "       [3, 4],\n",
       "       [5, 6]])>"
      ]
     },
     "execution_count": 25,
     "metadata": {},
     "output_type": "execute_result"
    }
   ],
   "source": [
    "#After Reshaping\n",
    "tf.reshape(reshape_1, (3,2))"
   ]
  },
  {
   "cell_type": "markdown",
   "id": "42478bfa",
   "metadata": {},
   "source": [
    "## 3. Dimension Expansion"
   ]
  },
  {
   "cell_type": "code",
   "execution_count": 26,
   "id": "5112e069",
   "metadata": {},
   "outputs": [
    {
     "name": "stdout",
     "output_type": "stream",
     "text": [
      "size of the original data: (100, 100, 3)\n"
     ]
    }
   ],
   "source": [
    "#Generate a 100 x 100 x 3 tensor to represent a 100 x 100 three-channel color image.\n",
    "expand_sample_1 = tf.random.normal([100,100,3], seed=1)\n",
    "\n",
    "print(\"size of the original data:\",expand_sample_1.shape)"
   ]
  },
  {
   "cell_type": "code",
   "execution_count": 27,
   "id": "2e8ece2e",
   "metadata": {},
   "outputs": [
    {
     "name": "stdout",
     "output_type": "stream",
     "text": [
      "add a dimension before the first dimension (axis = 0):  (1, 100, 100, 3)\n"
     ]
    }
   ],
   "source": [
    "print(\"add a dimension before the first dimension (axis = 0): \",tf.expand_dims(expand_sample_1, axis=0).shape)"
   ]
  },
  {
   "cell_type": "code",
   "execution_count": 28,
   "id": "1f158f52",
   "metadata": {},
   "outputs": [
    {
     "name": "stdout",
     "output_type": "stream",
     "text": [
      "add a dimension before the second dimension (axis = 1):  (100, 1, 100, 3)\n"
     ]
    }
   ],
   "source": [
    "print(\"add a dimension before the second dimension (axis = 1): \",tf.expand_dims(expand_sample_1, axis=1).shape)"
   ]
  },
  {
   "cell_type": "code",
   "execution_count": 29,
   "id": "666db0f1",
   "metadata": {},
   "outputs": [
    {
     "name": "stdout",
     "output_type": "stream",
     "text": [
      "add a dimension after the last dimension (axis = –1):  (100, 100, 3, 1)\n"
     ]
    }
   ],
   "source": [
    "print(\"add a dimension after the last dimension (axis = –1): \",tf.expand_dims(expand_sample_1, axis=-1).shape)"
   ]
  },
  {
   "cell_type": "markdown",
   "id": "8596fe99",
   "metadata": {},
   "source": [
    "## 4. Dimension Squeezing"
   ]
  },
  {
   "cell_type": "code",
   "execution_count": 30,
   "id": "dbfb56db",
   "metadata": {},
   "outputs": [
    {
     "name": "stdout",
     "output_type": "stream",
     "text": [
      "size of the original data: (1, 100, 100, 3)\n"
     ]
    }
   ],
   "source": [
    "#Generate a 100 x 100 x 3 tensor to represent a 100 x 100 three-channel color image.\n",
    "squeeze_sample_1 = tf.random.normal([1,100,100,3])\n",
    "\n",
    "print(\"size of the original data:\",squeeze_sample_1.shape)"
   ]
  },
  {
   "cell_type": "code",
   "execution_count": 31,
   "id": "2f231580",
   "metadata": {},
   "outputs": [
    {
     "name": "stdout",
     "output_type": "stream",
     "text": [
      "data size after dimension squeezing: (100, 100, 3)\n"
     ]
    }
   ],
   "source": [
    "squeezed_sample_1 = tf.squeeze(squeeze_sample_1)\n",
    "\n",
    "print(\"data size after dimension squeezing:\",squeezed_sample_1.shape)"
   ]
  },
  {
   "cell_type": "markdown",
   "id": "c729da61",
   "metadata": {},
   "source": [
    "## 5. Transpose"
   ]
  },
  {
   "cell_type": "code",
   "execution_count": 32,
   "id": "a4939fae",
   "metadata": {},
   "outputs": [
    {
     "name": "stdout",
     "output_type": "stream",
     "text": [
      "size of the original data: (2, 3)\n"
     ]
    }
   ],
   "source": [
    "#Input the tensor to be transposed, and call tf.transpose.\n",
    "trans_sample_1 = tf.constant([1,2,3,4,5,6],shape=[2,3])\n",
    "\n",
    "print(\"size of the original data:\",trans_sample_1.shape)"
   ]
  },
  {
   "cell_type": "code",
   "execution_count": 33,
   "id": "cb09f72a",
   "metadata": {},
   "outputs": [
    {
     "name": "stdout",
     "output_type": "stream",
     "text": [
      "size of transposed data: (3, 2)\n"
     ]
    }
   ],
   "source": [
    "transposed_sample_1 = tf.transpose(trans_sample_1)\n",
    "\n",
    "print(\"size of transposed data:\",transposed_sample_1.shape)"
   ]
  },
  {
   "cell_type": "markdown",
   "id": "2c387807",
   "metadata": {},
   "source": [
    "## 6. Broadcast"
   ]
  },
  {
   "cell_type": "code",
   "execution_count": 34,
   "id": "5a6e6dc9",
   "metadata": {},
   "outputs": [
    {
     "name": "stdout",
     "output_type": "stream",
     "text": [
      "original data: tf.Tensor([1 2 3 4 5 6], shape=(6,), dtype=int32)\n"
     ]
    }
   ],
   "source": [
    "broadcast_sample_1 = tf.constant([1,2,3,4,5,6])\n",
    "\n",
    "print(\"original data:\",broadcast_sample_1)"
   ]
  },
  {
   "cell_type": "code",
   "execution_count": 35,
   "id": "6a3d8106",
   "metadata": {},
   "outputs": [
    {
     "name": "stdout",
     "output_type": "stream",
     "text": [
      "broadcasted data: tf.Tensor(\n",
      "[[1 2 3 4 5 6]\n",
      " [1 2 3 4 5 6]\n",
      " [1 2 3 4 5 6]\n",
      " [1 2 3 4 5 6]], shape=(4, 6), dtype=int32)\n"
     ]
    }
   ],
   "source": [
    "broadcasted_sample_1 = tf.broadcast_to(broadcast_sample_1,shape=[4,6])\n",
    "\n",
    "print(\"broadcasted data:\",broadcasted_sample_1)"
   ]
  },
  {
   "cell_type": "markdown",
   "id": "a7682773",
   "metadata": {},
   "source": [
    "# Arithmetic Operations on Tensors"
   ]
  },
  {
   "cell_type": "markdown",
   "id": "8ede1361",
   "metadata": {},
   "source": [
    "## 1. Arithmetic Operator"
   ]
  },
  {
   "cell_type": "code",
   "execution_count": 36,
   "id": "571459b7",
   "metadata": {},
   "outputs": [
    {
     "name": "stdout",
     "output_type": "stream",
     "text": [
      "Hasil dari Penjumlahan adalah:\n",
      " tf.Tensor(\n",
      "[[ 4 11]\n",
      " [ 6 17]], shape=(2, 2), dtype=int32)\n"
     ]
    }
   ],
   "source": [
    "a = tf.constant([[3, 5], [4, 8]])\n",
    "b = tf.constant([[1, 6], [2, 9]])\n",
    "\n",
    "print(\"Hasil dari Penjumlahan adalah:\\n\",tf.add(a, b))"
   ]
  },
  {
   "cell_type": "markdown",
   "id": "f6859dc6",
   "metadata": {},
   "source": [
    "## 2. Matrix Multiplication"
   ]
  },
  {
   "cell_type": "code",
   "execution_count": 37,
   "id": "4a0ca31c",
   "metadata": {},
   "outputs": [
    {
     "data": {
      "text/plain": [
       "<tf.Tensor: shape=(2, 2), dtype=int32, numpy=\n",
       "array([[13, 63],\n",
       "       [20, 96]])>"
      ]
     },
     "execution_count": 37,
     "metadata": {},
     "output_type": "execute_result"
    }
   ],
   "source": [
    "tf.matmul(a,b)"
   ]
  },
  {
   "cell_type": "markdown",
   "id": "f79e141b",
   "metadata": {},
   "source": [
    "## 3. Tensor Statistics Collection"
   ]
  },
  {
   "cell_type": "code",
   "execution_count": 38,
   "id": "b8a05a89",
   "metadata": {},
   "outputs": [
    {
     "name": "stdout",
     "output_type": "stream",
     "text": [
      "input tensor: [[1 3 2]\n",
      " [2 5 8]\n",
      " [7 5 9]]\n"
     ]
    }
   ],
   "source": [
    "argmax_sample_1 = tf.constant([[1,3,2],[2,5,8],[7,5,9]])\n",
    "print(\"input tensor:\",argmax_sample_1.numpy())"
   ]
  },
  {
   "cell_type": "code",
   "execution_count": 39,
   "id": "cd6b90c2",
   "metadata": {},
   "outputs": [
    {
     "name": "stdout",
     "output_type": "stream",
     "text": [
      "locate the maximum value by column: [2 1 2]\n"
     ]
    }
   ],
   "source": [
    "max_sample_1 = tf.argmax(argmax_sample_1, axis=0)\n",
    "print(\"locate the maximum value by column:\",max_sample_1.numpy())"
   ]
  },
  {
   "cell_type": "code",
   "execution_count": 40,
   "id": "95b9203e",
   "metadata": {},
   "outputs": [
    {
     "name": "stdout",
     "output_type": "stream",
     "text": [
      "locate the maximum value by row: [1 2 2]\n"
     ]
    }
   ],
   "source": [
    "max_sample_2 = tf.argmax(argmax_sample_1, axis=1)\n",
    "print(\"locate the maximum value by row:\",max_sample_2.numpy())"
   ]
  },
  {
   "cell_type": "markdown",
   "id": "c97a2969",
   "metadata": {},
   "source": [
    "# Dimension-based Arithmetic Operations\n",
    "\n",
    "##### input_tensor: Tensor yang akan dikurangi. Harus memiliki tipe numeric \n",
    "##### axis: Dimensi yang akan dikurangi\n",
    "##### keepdims: jika bernilai True, mempertahankan dimensi yang dikurangi dengan panjang 1"
   ]
  },
  {
   "cell_type": "code",
   "execution_count": 41,
   "id": "7abccb28",
   "metadata": {},
   "outputs": [
    {
     "name": "stdout",
     "output_type": "stream",
     "text": [
      "original data [[1 2 3]\n",
      " [4 5 6]]\n"
     ]
    }
   ],
   "source": [
    "reduce_sample_1 = tf.constant([1,2,3,4,5,6],shape=[2,3])\n",
    "print(\"original data\",reduce_sample_1.numpy())"
   ]
  },
  {
   "cell_type": "code",
   "execution_count": 42,
   "id": "0e99ef74",
   "metadata": {},
   "outputs": [
    {
     "name": "stdout",
     "output_type": "stream",
     "text": [
      "calculate the sum of all elements in the tensor (axis = None):  21\n"
     ]
    }
   ],
   "source": [
    "print(\"calculate the sum of all elements in the tensor (axis = None): \",tf.reduce_sum(reduce_sample_1,axis=None).numpy())"
   ]
  },
  {
   "cell_type": "code",
   "execution_count": 43,
   "id": "83d65280",
   "metadata": {},
   "outputs": [
    {
     "name": "stdout",
     "output_type": "stream",
     "text": [
      "calculate the sum of elements in each column by column (axis = 0):  [5 7 9]\n"
     ]
    }
   ],
   "source": [
    "print(\"calculate the sum of elements in each column by column (axis = 0): \",tf.reduce_sum(reduce_sample_1,axis=0).numpy())"
   ]
  },
  {
   "cell_type": "code",
   "execution_count": 44,
   "id": "c58d774e",
   "metadata": {},
   "outputs": [
    {
     "name": "stdout",
     "output_type": "stream",
     "text": [
      "calculate the sum of elements in each column by row (axis = 1):  [ 6 15]\n"
     ]
    }
   ],
   "source": [
    "print(\"calculate the sum of elements in each column by row (axis = 1): \",tf.reduce_sum(reduce_sample_1,axis=1).numpy())"
   ]
  },
  {
   "cell_type": "markdown",
   "id": "968066c8",
   "metadata": {},
   "source": [
    "# Tensor Concatenation and SPlitting"
   ]
  },
  {
   "cell_type": "markdown",
   "id": "3445b6b9",
   "metadata": {},
   "source": [
    "## 1. Tensor Concatenation"
   ]
  },
  {
   "cell_type": "markdown",
   "id": "196f0cf2",
   "metadata": {},
   "source": [
    "### A. tf.contact()"
   ]
  },
  {
   "cell_type": "code",
   "execution_count": 45,
   "id": "124765f6",
   "metadata": {},
   "outputs": [
    {
     "name": "stdout",
     "output_type": "stream",
     "text": [
      "sizes of the original data: (4, 100, 100, 3) (40, 100, 100, 3)\n"
     ]
    }
   ],
   "source": [
    "concat_sample_1 = tf.random.normal([4,100,100,3])\n",
    "concat_sample_2 = tf.random.normal([40,100,100,3])\n",
    "\n",
    "print(\"sizes of the original data:\",concat_sample_1.shape,concat_sample_2.shape)"
   ]
  },
  {
   "cell_type": "code",
   "execution_count": 46,
   "id": "231ec731",
   "metadata": {},
   "outputs": [
    {
     "name": "stdout",
     "output_type": "stream",
     "text": [
      "size of the concatenated data: (44, 100, 100, 3)\n"
     ]
    }
   ],
   "source": [
    "concated_sample_1 = tf.concat([concat_sample_1,concat_sample_2],axis=0)\n",
    "print(\"size of the concatenated data:\",concated_sample_1.shape)"
   ]
  },
  {
   "cell_type": "markdown",
   "id": "293a1279",
   "metadata": {},
   "source": [
    "### B. tf.stack()"
   ]
  },
  {
   "cell_type": "code",
   "execution_count": 47,
   "id": "e45ba6dc",
   "metadata": {},
   "outputs": [
    {
     "name": "stdout",
     "output_type": "stream",
     "text": [
      "sizes of the original data:  (100, 100, 3) (100, 100, 3)\n"
     ]
    }
   ],
   "source": [
    "stack_sample_1 = tf.random.normal([100,100,3])\n",
    "stack_sample_2 = tf.random.normal([100,100,3])\n",
    "\n",
    "print(\"sizes of the original data: \",stack_sample_1.shape, stack_sample_2.shape)"
   ]
  },
  {
   "cell_type": "code",
   "execution_count": 48,
   "id": "0729a345",
   "metadata": {},
   "outputs": [
    {
     "name": "stdout",
     "output_type": "stream",
     "text": [
      "size of the concatenated data: (2, 100, 100, 3)\n"
     ]
    }
   ],
   "source": [
    "#Dimensions increase after the concatenation. If axis is set to 0, a dimension is added before the first dimension.\n",
    "stacked_sample_1 = tf.stack([stack_sample_1, stack_sample_2],axis=0)\n",
    "print(\"size of the concatenated data:\",stacked_sample_1.shape)"
   ]
  },
  {
   "cell_type": "markdown",
   "id": "6065bde8",
   "metadata": {},
   "source": [
    "## 2. Tensor Splitting"
   ]
  },
  {
   "cell_type": "markdown",
   "id": "ba0af1b2",
   "metadata": {},
   "source": [
    "### A. tf.unstack()"
   ]
  },
  {
   "cell_type": "code",
   "execution_count": 49,
   "id": "6ba44fa3",
   "metadata": {},
   "outputs": [
    {
     "data": {
      "text/plain": [
       "<tf.Tensor: shape=(2, 100, 100, 3), dtype=float32, numpy=\n",
       "array([[[[ 0.6576195 ,  0.07932098, -1.1089883 ],\n",
       "         [ 0.07782976,  0.9218807 ,  2.3473675 ],\n",
       "         [-0.10120712,  1.5385984 ,  0.4512329 ],\n",
       "         ...,\n",
       "         [-1.397655  , -2.4247398 ,  1.7411453 ],\n",
       "         [ 0.8035761 , -0.3491095 ,  0.92885995],\n",
       "         [ 0.4303339 ,  0.13628943,  0.55226564]],\n",
       "\n",
       "        [[ 0.11145635,  0.844165  , -1.1218385 ],\n",
       "         [-0.16975294,  1.36005   , -0.38845164],\n",
       "         [ 1.3549651 ,  0.54522765,  0.5239222 ],\n",
       "         ...,\n",
       "         [ 1.6977696 ,  0.22981228,  0.7785153 ],\n",
       "         [-0.2648718 ,  0.78247917,  1.3294774 ],\n",
       "         [ 1.5072243 ,  1.5358534 , -1.3209047 ]],\n",
       "\n",
       "        [[ 1.4648411 ,  0.17290102,  0.95785445],\n",
       "         [-0.87882924,  0.1265074 , -1.0407317 ],\n",
       "         [ 0.7936584 , -0.46237314, -0.17765994],\n",
       "         ...,\n",
       "         [ 0.5341402 ,  2.078449  , -0.20528145],\n",
       "         [-0.20558454, -0.7124669 ,  0.074076  ],\n",
       "         [-0.06849395, -0.20276679,  1.7478627 ]],\n",
       "\n",
       "        ...,\n",
       "\n",
       "        [[ 0.58404857, -0.04189992,  0.14324135],\n",
       "         [-0.99824655, -0.9211962 ,  0.4410255 ],\n",
       "         [-0.72729784,  1.4860736 ,  0.86404437],\n",
       "         ...,\n",
       "         [ 0.3418913 , -1.8665105 , -1.2259492 ],\n",
       "         [ 0.6709153 ,  0.17797707, -0.54219234],\n",
       "         [ 0.6920321 ,  0.14721717, -0.00260028]],\n",
       "\n",
       "        [[-0.81306404,  0.55674964,  0.70969146],\n",
       "         [-0.504138  ,  0.6352598 , -1.9978552 ],\n",
       "         [ 0.9253174 ,  1.5512516 , -1.1984982 ],\n",
       "         ...,\n",
       "         [ 1.108704  , -0.13377823, -0.18982571],\n",
       "         [ 0.94507706, -1.2775235 , -0.02449214],\n",
       "         [ 1.4270412 ,  0.5271086 , -0.3894801 ]],\n",
       "\n",
       "        [[ 0.05867849,  0.14882746,  0.21772441],\n",
       "         [ 1.2284582 ,  1.2587508 ,  1.768015  ],\n",
       "         [ 1.6814486 ,  1.1609644 ,  0.26029015],\n",
       "         ...,\n",
       "         [ 1.0460981 ,  0.3499466 ,  1.2033207 ],\n",
       "         [ 0.35213006,  0.43717408,  0.14497726],\n",
       "         [-0.3897153 ,  0.8695346 ,  0.9994385 ]]],\n",
       "\n",
       "\n",
       "       [[[-1.2126403 , -0.5695699 , -1.3493748 ],\n",
       "         [ 0.34615967,  0.1644597 ,  0.16213596],\n",
       "         [ 1.030683  , -0.42993328,  1.3855788 ],\n",
       "         ...,\n",
       "         [-0.0201719 ,  0.15859313, -1.1742313 ],\n",
       "         [ 0.24351643, -1.1622202 ,  0.94972384],\n",
       "         [ 1.5444081 , -1.2663242 ,  0.9842106 ]],\n",
       "\n",
       "        [[ 1.2304852 , -0.715487  ,  0.4637535 ],\n",
       "         [ 0.63318   ,  0.501474  , -1.2087955 ],\n",
       "         [ 0.8274409 ,  0.71076447,  0.3227863 ],\n",
       "         ...,\n",
       "         [-0.18879919, -1.1680561 , -0.7476357 ],\n",
       "         [-0.4175307 ,  2.0247362 ,  0.00630901],\n",
       "         [ 0.37564337,  0.9892552 , -2.3820138 ]],\n",
       "\n",
       "        [[ 0.3914276 ,  0.28233835, -1.4085774 ],\n",
       "         [ 0.61906874, -0.44943362,  0.80362844],\n",
       "         [-1.7987216 , -0.1925814 ,  1.8890857 ],\n",
       "         ...,\n",
       "         [-0.26225403,  0.49810928, -0.88102823],\n",
       "         [-0.83765084,  1.0653011 ,  0.14260046],\n",
       "         [-1.6586366 , -0.34608153,  0.93043095]],\n",
       "\n",
       "        ...,\n",
       "\n",
       "        [[ 1.7303731 ,  1.8639516 , -0.5410777 ],\n",
       "         [-0.45361054, -0.94896466, -0.3598613 ],\n",
       "         [-0.19437963,  0.04370873, -0.21152885],\n",
       "         ...,\n",
       "         [-0.7316662 , -1.2823132 , -0.1288592 ],\n",
       "         [-0.99086106,  0.33264333, -1.0469475 ],\n",
       "         [-2.0367222 , -0.05138254, -0.24278669]],\n",
       "\n",
       "        [[-0.02398684, -0.8006761 , -0.60437673],\n",
       "         [ 1.4195747 ,  0.13797872,  0.04272151],\n",
       "         [ 2.0107303 , -1.089788  , -0.02367709],\n",
       "         ...,\n",
       "         [ 0.71677667, -0.72766286,  0.24160597],\n",
       "         [-0.00815505, -0.7492468 , -0.8113133 ],\n",
       "         [ 0.95228714,  1.289991  ,  1.7137138 ]],\n",
       "\n",
       "        [[-0.41108772, -0.18860315,  2.52551   ],\n",
       "         [ 2.5866287 , -0.18628393,  2.1340096 ],\n",
       "         [-1.4330542 ,  1.7456678 ,  0.9774211 ],\n",
       "         ...,\n",
       "         [ 0.30607083,  2.2851636 ,  1.2215247 ],\n",
       "         [ 0.34076154, -0.72954977, -1.3344791 ],\n",
       "         [ 1.0768342 , -1.3174187 , -0.68203205]]]], dtype=float32)>"
      ]
     },
     "execution_count": 49,
     "metadata": {},
     "output_type": "execute_result"
    }
   ],
   "source": [
    "stacked_sample_1"
   ]
  },
  {
   "cell_type": "code",
   "execution_count": 50,
   "id": "5f3eb764",
   "metadata": {},
   "outputs": [
    {
     "data": {
      "text/plain": [
       "[<tf.Tensor: shape=(100, 100, 3), dtype=float32, numpy=\n",
       " array([[[ 0.6576195 ,  0.07932098, -1.1089883 ],\n",
       "         [ 0.07782976,  0.9218807 ,  2.3473675 ],\n",
       "         [-0.10120712,  1.5385984 ,  0.4512329 ],\n",
       "         ...,\n",
       "         [-1.397655  , -2.4247398 ,  1.7411453 ],\n",
       "         [ 0.8035761 , -0.3491095 ,  0.92885995],\n",
       "         [ 0.4303339 ,  0.13628943,  0.55226564]],\n",
       " \n",
       "        [[ 0.11145635,  0.844165  , -1.1218385 ],\n",
       "         [-0.16975294,  1.36005   , -0.38845164],\n",
       "         [ 1.3549651 ,  0.54522765,  0.5239222 ],\n",
       "         ...,\n",
       "         [ 1.6977696 ,  0.22981228,  0.7785153 ],\n",
       "         [-0.2648718 ,  0.78247917,  1.3294774 ],\n",
       "         [ 1.5072243 ,  1.5358534 , -1.3209047 ]],\n",
       " \n",
       "        [[ 1.4648411 ,  0.17290102,  0.95785445],\n",
       "         [-0.87882924,  0.1265074 , -1.0407317 ],\n",
       "         [ 0.7936584 , -0.46237314, -0.17765994],\n",
       "         ...,\n",
       "         [ 0.5341402 ,  2.078449  , -0.20528145],\n",
       "         [-0.20558454, -0.7124669 ,  0.074076  ],\n",
       "         [-0.06849395, -0.20276679,  1.7478627 ]],\n",
       " \n",
       "        ...,\n",
       " \n",
       "        [[ 0.58404857, -0.04189992,  0.14324135],\n",
       "         [-0.99824655, -0.9211962 ,  0.4410255 ],\n",
       "         [-0.72729784,  1.4860736 ,  0.86404437],\n",
       "         ...,\n",
       "         [ 0.3418913 , -1.8665105 , -1.2259492 ],\n",
       "         [ 0.6709153 ,  0.17797707, -0.54219234],\n",
       "         [ 0.6920321 ,  0.14721717, -0.00260028]],\n",
       " \n",
       "        [[-0.81306404,  0.55674964,  0.70969146],\n",
       "         [-0.504138  ,  0.6352598 , -1.9978552 ],\n",
       "         [ 0.9253174 ,  1.5512516 , -1.1984982 ],\n",
       "         ...,\n",
       "         [ 1.108704  , -0.13377823, -0.18982571],\n",
       "         [ 0.94507706, -1.2775235 , -0.02449214],\n",
       "         [ 1.4270412 ,  0.5271086 , -0.3894801 ]],\n",
       " \n",
       "        [[ 0.05867849,  0.14882746,  0.21772441],\n",
       "         [ 1.2284582 ,  1.2587508 ,  1.768015  ],\n",
       "         [ 1.6814486 ,  1.1609644 ,  0.26029015],\n",
       "         ...,\n",
       "         [ 1.0460981 ,  0.3499466 ,  1.2033207 ],\n",
       "         [ 0.35213006,  0.43717408,  0.14497726],\n",
       "         [-0.3897153 ,  0.8695346 ,  0.9994385 ]]], dtype=float32)>,\n",
       " <tf.Tensor: shape=(100, 100, 3), dtype=float32, numpy=\n",
       " array([[[-1.2126403 , -0.5695699 , -1.3493748 ],\n",
       "         [ 0.34615967,  0.1644597 ,  0.16213596],\n",
       "         [ 1.030683  , -0.42993328,  1.3855788 ],\n",
       "         ...,\n",
       "         [-0.0201719 ,  0.15859313, -1.1742313 ],\n",
       "         [ 0.24351643, -1.1622202 ,  0.94972384],\n",
       "         [ 1.5444081 , -1.2663242 ,  0.9842106 ]],\n",
       " \n",
       "        [[ 1.2304852 , -0.715487  ,  0.4637535 ],\n",
       "         [ 0.63318   ,  0.501474  , -1.2087955 ],\n",
       "         [ 0.8274409 ,  0.71076447,  0.3227863 ],\n",
       "         ...,\n",
       "         [-0.18879919, -1.1680561 , -0.7476357 ],\n",
       "         [-0.4175307 ,  2.0247362 ,  0.00630901],\n",
       "         [ 0.37564337,  0.9892552 , -2.3820138 ]],\n",
       " \n",
       "        [[ 0.3914276 ,  0.28233835, -1.4085774 ],\n",
       "         [ 0.61906874, -0.44943362,  0.80362844],\n",
       "         [-1.7987216 , -0.1925814 ,  1.8890857 ],\n",
       "         ...,\n",
       "         [-0.26225403,  0.49810928, -0.88102823],\n",
       "         [-0.83765084,  1.0653011 ,  0.14260046],\n",
       "         [-1.6586366 , -0.34608153,  0.93043095]],\n",
       " \n",
       "        ...,\n",
       " \n",
       "        [[ 1.7303731 ,  1.8639516 , -0.5410777 ],\n",
       "         [-0.45361054, -0.94896466, -0.3598613 ],\n",
       "         [-0.19437963,  0.04370873, -0.21152885],\n",
       "         ...,\n",
       "         [-0.7316662 , -1.2823132 , -0.1288592 ],\n",
       "         [-0.99086106,  0.33264333, -1.0469475 ],\n",
       "         [-2.0367222 , -0.05138254, -0.24278669]],\n",
       " \n",
       "        [[-0.02398684, -0.8006761 , -0.60437673],\n",
       "         [ 1.4195747 ,  0.13797872,  0.04272151],\n",
       "         [ 2.0107303 , -1.089788  , -0.02367709],\n",
       "         ...,\n",
       "         [ 0.71677667, -0.72766286,  0.24160597],\n",
       "         [-0.00815505, -0.7492468 , -0.8113133 ],\n",
       "         [ 0.95228714,  1.289991  ,  1.7137138 ]],\n",
       " \n",
       "        [[-0.41108772, -0.18860315,  2.52551   ],\n",
       "         [ 2.5866287 , -0.18628393,  2.1340096 ],\n",
       "         [-1.4330542 ,  1.7456678 ,  0.9774211 ],\n",
       "         ...,\n",
       "         [ 0.30607083,  2.2851636 ,  1.2215247 ],\n",
       "         [ 0.34076154, -0.72954977, -1.3344791 ],\n",
       "         [ 1.0768342 , -1.3174187 , -0.68203205]]], dtype=float32)>]"
      ]
     },
     "execution_count": 50,
     "metadata": {},
     "output_type": "execute_result"
    }
   ],
   "source": [
    "#Split data based on the first dimension and output the split data in a list.\n",
    "tf.unstack(stacked_sample_1)"
   ]
  },
  {
   "cell_type": "markdown",
   "id": "7f868371",
   "metadata": {},
   "source": [
    "### B. tf.split()\n",
    "\n",
    "tf.split(value, num_or_size_splits, axis=0, num=None, name='split'):\n",
    "    - value: The Tensor to split.\n",
    "    - num_or_size_splits:\tEither an integer indicating the number of splits along axis or a 1-D integer Tensor or Python list containing the sizes of each output tensor along axis. If a scalar, then it must evenly divide value.shape[axis]; otherwise the sum of sizes along the split axis must match that of the value.\n",
    "    - axis: An integer or scalar int32 Tensor. The dimension along which to split. Must be in the range [-rank(value), rank(value)). Defaults to 0.\n",
    "    - num: Optional, used to specify the number of outputs when it cannot be inferred from the shape of size_splits.\n",
    "    - name:\tA name for the operation (optional).\n",
    "tf.split() splits a tensor in either of the following ways:\n",
    "    - If the value of num_or_size_splits is an integer, the tensor is evenly split into sub tensors in the specified dimension (axis = D).\n",
    "    - If the value of num_or_size_splits is a vector, the tensor is split into sub tensors based on the element value of the vector in the specified dimension (axis = D).\n"
   ]
  },
  {
   "cell_type": "code",
   "execution_count": 51,
   "id": "7e9ed51d",
   "metadata": {},
   "outputs": [
    {
     "name": "stdout",
     "output_type": "stream",
     "text": [
      "size of the original data: (10, 100, 100, 3)\n"
     ]
    }
   ],
   "source": [
    "import numpy as np\n",
    "split_sample_1 = tf.random.normal([10,100,100,3])\n",
    "print(\"size of the original data:\",split_sample_1.shape)"
   ]
  },
  {
   "cell_type": "code",
   "execution_count": 52,
   "id": "2aed5746",
   "metadata": {},
   "outputs": [
    {
     "name": "stdout",
     "output_type": "stream",
     "text": [
      "size of the split data when m_or_size_splits is set to 10:  (5, 2, 100, 100, 3)\n"
     ]
    }
   ],
   "source": [
    "splited_sample_1 = tf.split(split_sample_1, num_or_size_splits=5,axis=0)\n",
    "print(\"size of the split data when m_or_size_splits is set to 10: \",np.shape(splited_sample_1))"
   ]
  },
  {
   "cell_type": "code",
   "execution_count": 53,
   "id": "dd6fb433",
   "metadata": {},
   "outputs": [
    {
     "name": "stdout",
     "output_type": "stream",
     "text": [
      "sizes of the split data when num_or_size_splits is set to [3,5,2]: (3, 100, 100, 3) (5, 100, 100, 3) (2, 100, 100, 3)\n"
     ]
    }
   ],
   "source": [
    "splited_sample_2 = tf.split(split_sample_1, num_or_size_splits=[3,5,2],axis=0)\n",
    "print(\"sizes of the split data when num_or_size_splits is set to [3,5,2]:\",\n",
    "np.shape(splited_sample_2[0]),\n",
    "np.shape(splited_sample_2[1]),\n",
    "np.shape(splited_sample_2[2]))"
   ]
  },
  {
   "cell_type": "markdown",
   "id": "4e7641a7",
   "metadata": {},
   "source": [
    "# Tensor Sorting Methods"
   ]
  },
  {
   "cell_type": "markdown",
   "id": "0f13bd68",
   "metadata": {},
   "source": [
    "## 1. tf.sort() & tf.argsort()"
   ]
  },
  {
   "cell_type": "code",
   "execution_count": 54,
   "id": "04c69e9f",
   "metadata": {},
   "outputs": [
    {
     "name": "stdout",
     "output_type": "stream",
     "text": [
      "input tensor: [1 4 0 3 6 2 8 9 7 5]\n"
     ]
    }
   ],
   "source": [
    "sort_sample_1 = tf.random.shuffle(tf.range(10))\n",
    "print(\"input tensor:\",sort_sample_1.numpy())"
   ]
  },
  {
   "cell_type": "code",
   "execution_count": 55,
   "id": "9165134f",
   "metadata": {},
   "outputs": [
    {
     "name": "stdout",
     "output_type": "stream",
     "text": [
      "tensor sorted in ascending order: [0 1 2 3 4 5 6 7 8 9]\n"
     ]
    }
   ],
   "source": [
    "sorted_sample_1 = tf.sort(sort_sample_1, direction=\"ASCENDING\")\n",
    "print(\"tensor sorted in ascending order:\",sorted_sample_1.numpy())"
   ]
  },
  {
   "cell_type": "code",
   "execution_count": 56,
   "id": "5598ff1c",
   "metadata": {},
   "outputs": [
    {
     "name": "stdout",
     "output_type": "stream",
     "text": [
      "indexes of elements in ascending order: [2 0 5 3 1 9 4 8 6 7]\n"
     ]
    }
   ],
   "source": [
    "sorted_sample_2 = tf.argsort(sort_sample_1,direction=\"ASCENDING\")\n",
    "print(\"indexes of elements in ascending order:\",sorted_sample_2.numpy())"
   ]
  },
  {
   "cell_type": "markdown",
   "id": "ca9798c7",
   "metadata": {},
   "source": [
    "## 2. tf.nn.tpp_k()"
   ]
  },
  {
   "cell_type": "code",
   "execution_count": 57,
   "id": "9ae4927c",
   "metadata": {},
   "outputs": [
    {
     "name": "stdout",
     "output_type": "stream",
     "text": [
      "input tensor: [1 4 0 3 6 2 8 9 7 5]\n"
     ]
    }
   ],
   "source": [
    "values, index = tf.nn.top_k(sort_sample_1,5)\n",
    "print(\"input tensor:\",sort_sample_1.numpy())"
   ]
  },
  {
   "cell_type": "code",
   "execution_count": 58,
   "id": "7bf3aa6a",
   "metadata": {},
   "outputs": [
    {
     "name": "stdout",
     "output_type": "stream",
     "text": [
      "first five values in ascending order: [9 8 7 6 5]\n"
     ]
    }
   ],
   "source": [
    "print(\"first five values in ascending order:\", values.numpy())"
   ]
  },
  {
   "cell_type": "code",
   "execution_count": 59,
   "id": "8aaa2c0f",
   "metadata": {},
   "outputs": [
    {
     "name": "stdout",
     "output_type": "stream",
     "text": [
      "indexes of the first five values in ascending order: [7 6 8 4 9]\n"
     ]
    }
   ],
   "source": [
    "print(\"indexes of the first five values in ascending order:\", index.numpy())"
   ]
  },
  {
   "cell_type": "markdown",
   "id": "cfde8448",
   "metadata": {},
   "source": [
    "# Eager Execution"
   ]
  },
  {
   "cell_type": "code",
   "execution_count": 65,
   "id": "839aa627",
   "metadata": {},
   "outputs": [
    {
     "name": "stdout",
     "output_type": "stream",
     "text": [
      "[[4. 6.]\n",
      " [4. 6.]]\n"
     ]
    }
   ],
   "source": [
    "#Use the syntax of TensorFlow 1.x in TensorFlow 2.x. You can install the v1 compatibility package in TensorFlow 2.0 to inherit the TensorFlow 1.x code and disable the eager execution mode.\n",
    "import tensorflow.compat.v1 as tf2\n",
    "tf2.disable_eager_execution()\n",
    "#Create a graph and define it as a computational graph.\n",
    "a = tf2.ones((2, 2), dtype=tf2.dtypes.float32)\n",
    "b = tf2.constant([[1, 2],\n",
    "[3, 4]], dtype=tf2.dtypes.float32)\n",
    "c = tf2.matmul(a, b)\n",
    "#Enable the drawing function, and perform the multiplication operation to obtain data.\n",
    "with tf2.Session() as sess:\n",
    "    print(sess.run(c))"
   ]
  },
  {
   "cell_type": "code",
   "execution_count": 66,
   "id": "8ca101f0",
   "metadata": {},
   "outputs": [
    {
     "name": "stdout",
     "output_type": "stream",
     "text": [
      "Tensor(\"random_uniform_3/RandomUniform:0\", shape=(), dtype=float32)\n"
     ]
    },
    {
     "ename": "AttributeError",
     "evalue": "'Tensor' object has no attribute 'numpy'",
     "output_type": "error",
     "traceback": [
      "\u001b[1;31m---------------------------------------------------------------------------\u001b[0m",
      "\u001b[1;31mAttributeError\u001b[0m                            Traceback (most recent call last)",
      "\u001b[1;32m~\\AppData\\Local\\Temp/ipykernel_19524/3471536162.py\u001b[0m in \u001b[0;36m<module>\u001b[1;34m\u001b[0m\n\u001b[0;32m      3\u001b[0m \u001b[0mx\u001b[0m \u001b[1;33m=\u001b[0m \u001b[0mtf\u001b[0m\u001b[1;33m.\u001b[0m\u001b[0mreshape\u001b[0m\u001b[1;33m(\u001b[0m\u001b[0mtf\u001b[0m\u001b[1;33m.\u001b[0m\u001b[0mrange\u001b[0m\u001b[1;33m(\u001b[0m\u001b[1;36m0\u001b[0m\u001b[1;33m,\u001b[0m \u001b[1;36m4\u001b[0m\u001b[1;33m)\u001b[0m\u001b[1;33m,\u001b[0m \u001b[1;33m[\u001b[0m\u001b[1;36m2\u001b[0m\u001b[1;33m,\u001b[0m \u001b[1;36m2\u001b[0m\u001b[1;33m]\u001b[0m\u001b[1;33m)\u001b[0m\u001b[1;33m\u001b[0m\u001b[1;33m\u001b[0m\u001b[0m\n\u001b[0;32m      4\u001b[0m \u001b[0mprint\u001b[0m\u001b[1;33m(\u001b[0m\u001b[0mthre_1\u001b[0m\u001b[1;33m)\u001b[0m\u001b[1;33m\u001b[0m\u001b[1;33m\u001b[0m\u001b[0m\n\u001b[1;32m----> 5\u001b[1;33m \u001b[1;32mif\u001b[0m \u001b[0mthre_1\u001b[0m\u001b[1;33m.\u001b[0m\u001b[0mnumpy\u001b[0m\u001b[1;33m(\u001b[0m\u001b[1;33m)\u001b[0m \u001b[1;33m>\u001b[0m \u001b[1;36m0.5\u001b[0m\u001b[1;33m:\u001b[0m\u001b[1;33m\u001b[0m\u001b[1;33m\u001b[0m\u001b[0m\n\u001b[0m\u001b[0;32m      6\u001b[0m     \u001b[0my\u001b[0m \u001b[1;33m=\u001b[0m \u001b[0mtf\u001b[0m\u001b[1;33m.\u001b[0m\u001b[0mmatmul\u001b[0m\u001b[1;33m(\u001b[0m\u001b[0mx\u001b[0m\u001b[1;33m,\u001b[0m \u001b[0mx\u001b[0m\u001b[1;33m)\u001b[0m\u001b[1;33m\u001b[0m\u001b[1;33m\u001b[0m\u001b[0m\n\u001b[0;32m      7\u001b[0m \u001b[1;32melse\u001b[0m\u001b[1;33m:\u001b[0m\u001b[1;33m\u001b[0m\u001b[1;33m\u001b[0m\u001b[0m\n",
      "\u001b[1;32mc:\\Users\\USER\\AppData\\Local\\Programs\\Python\\Python39\\lib\\site-packages\\tensorflow\\python\\framework\\ops.py\u001b[0m in \u001b[0;36m__getattr__\u001b[1;34m(self, name)\u001b[0m\n\u001b[0;32m    444\u001b[0m         \u001b[0mnp_config\u001b[0m\u001b[1;33m.\u001b[0m\u001b[0menable_numpy_behavior\u001b[0m\u001b[1;33m(\u001b[0m\u001b[1;33m)\u001b[0m\u001b[1;33m\u001b[0m\u001b[1;33m\u001b[0m\u001b[0m\n\u001b[0;32m    445\u001b[0m       \"\"\")\n\u001b[1;32m--> 446\u001b[1;33m     \u001b[0mself\u001b[0m\u001b[1;33m.\u001b[0m\u001b[0m__getattribute__\u001b[0m\u001b[1;33m(\u001b[0m\u001b[0mname\u001b[0m\u001b[1;33m)\u001b[0m\u001b[1;33m\u001b[0m\u001b[1;33m\u001b[0m\u001b[0m\n\u001b[0m\u001b[0;32m    447\u001b[0m \u001b[1;33m\u001b[0m\u001b[0m\n\u001b[0;32m    448\u001b[0m   \u001b[1;33m@\u001b[0m\u001b[0mstaticmethod\u001b[0m\u001b[1;33m\u001b[0m\u001b[1;33m\u001b[0m\u001b[0m\n",
      "\u001b[1;31mAttributeError\u001b[0m: 'Tensor' object has no attribute 'numpy'"
     ]
    }
   ],
   "source": [
    "import tensorflow as tf\n",
    "thre_1 = tf.random.uniform([], 0, 1)\n",
    "x = tf.reshape(tf.range(0, 4), [2, 2])\n",
    "print(thre_1)\n",
    "if thre_1.numpy() > 0.5:\n",
    "    y = tf.matmul(x, x)\n",
    "else:\n",
    "    y = tf.add(x, x)"
   ]
  },
  {
   "cell_type": "markdown",
   "id": "b3295f51",
   "metadata": {},
   "source": [
    "# AutoGraph of TensorFlow 2.x"
   ]
  },
  {
   "cell_type": "code",
   "execution_count": null,
   "id": "321584a0",
   "metadata": {},
   "outputs": [
    {
     "name": "stdout",
     "output_type": "stream",
     "text": [
      "Tensor(\"b:0\", shape=(), dtype=float32)\n"
     ]
    },
    {
     "data": {
      "text/plain": [
       "<tf.Tensor: shape=(3, 3), dtype=float32, numpy=\n",
       "array([[1.1920661 , 1.191967  , 1.2391963 ],\n",
       "       [1.4967974 , 1.1712788 , 1.279865  ],\n",
       "       [0.86344826, 0.63646233, 0.7125404 ]], dtype=float32)>"
      ]
     },
     "execution_count": 175,
     "metadata": {},
     "output_type": "execute_result"
    }
   ],
   "source": [
    "@tf.function\n",
    "def simple_nn_layer(w,x,b):\n",
    "    print(b)\n",
    "    return tf.nn.relu(tf.matmul(w, x)+b)\n",
    "    \n",
    "w = tf.random.uniform((3, 3))\n",
    "x = tf.random.uniform((3, 3))\n",
    "b = tf.constant(0.5, dtype='float32')\n",
    "simple_nn_layer(w,x,b)"
   ]
  },
  {
   "cell_type": "code",
   "execution_count": null,
   "id": "f86cc160",
   "metadata": {},
   "outputs": [],
   "source": [
    "#Use the timeit module to measure the execution time of a small code segment.\n",
    "import timeit\n",
    "\n",
    "#Create a convolutional layer.\n",
    "CNN_cell = tf.keras.layers.Conv2D(filters=100,kernel_size=2,strides=(1,1))"
   ]
  },
  {
   "cell_type": "code",
   "execution_count": null,
   "id": "bc87bb0d",
   "metadata": {},
   "outputs": [],
   "source": [
    "#Use @tf.function to convert the operation into a graph.\n",
    "@tf.function\n",
    "def CNN_fn(image):\n",
    "    return CNN_cell(image)\n",
    "\n",
    "image = tf.zeros([100, 200, 200, 3])"
   ]
  },
  {
   "cell_type": "code",
   "execution_count": null,
   "id": "ae0dbbe5",
   "metadata": {},
   "outputs": [
    {
     "data": {
      "text/plain": [
       "<tf.Tensor: shape=(100, 199, 199, 100), dtype=float32, numpy=\n",
       "array([[[[0., 0., 0., ..., 0., 0., 0.],\n",
       "         [0., 0., 0., ..., 0., 0., 0.],\n",
       "         [0., 0., 0., ..., 0., 0., 0.],\n",
       "         ...,\n",
       "         [0., 0., 0., ..., 0., 0., 0.],\n",
       "         [0., 0., 0., ..., 0., 0., 0.],\n",
       "         [0., 0., 0., ..., 0., 0., 0.]],\n",
       "\n",
       "        [[0., 0., 0., ..., 0., 0., 0.],\n",
       "         [0., 0., 0., ..., 0., 0., 0.],\n",
       "         [0., 0., 0., ..., 0., 0., 0.],\n",
       "         ...,\n",
       "         [0., 0., 0., ..., 0., 0., 0.],\n",
       "         [0., 0., 0., ..., 0., 0., 0.],\n",
       "         [0., 0., 0., ..., 0., 0., 0.]],\n",
       "\n",
       "        [[0., 0., 0., ..., 0., 0., 0.],\n",
       "         [0., 0., 0., ..., 0., 0., 0.],\n",
       "         [0., 0., 0., ..., 0., 0., 0.],\n",
       "         ...,\n",
       "         [0., 0., 0., ..., 0., 0., 0.],\n",
       "         [0., 0., 0., ..., 0., 0., 0.],\n",
       "         [0., 0., 0., ..., 0., 0., 0.]],\n",
       "\n",
       "        ...,\n",
       "\n",
       "        [[0., 0., 0., ..., 0., 0., 0.],\n",
       "         [0., 0., 0., ..., 0., 0., 0.],\n",
       "         [0., 0., 0., ..., 0., 0., 0.],\n",
       "         ...,\n",
       "         [0., 0., 0., ..., 0., 0., 0.],\n",
       "         [0., 0., 0., ..., 0., 0., 0.],\n",
       "         [0., 0., 0., ..., 0., 0., 0.]],\n",
       "\n",
       "        [[0., 0., 0., ..., 0., 0., 0.],\n",
       "         [0., 0., 0., ..., 0., 0., 0.],\n",
       "         [0., 0., 0., ..., 0., 0., 0.],\n",
       "         ...,\n",
       "         [0., 0., 0., ..., 0., 0., 0.],\n",
       "         [0., 0., 0., ..., 0., 0., 0.],\n",
       "         [0., 0., 0., ..., 0., 0., 0.]],\n",
       "\n",
       "        [[0., 0., 0., ..., 0., 0., 0.],\n",
       "         [0., 0., 0., ..., 0., 0., 0.],\n",
       "         [0., 0., 0., ..., 0., 0., 0.],\n",
       "         ...,\n",
       "         [0., 0., 0., ..., 0., 0., 0.],\n",
       "         [0., 0., 0., ..., 0., 0., 0.],\n",
       "         [0., 0., 0., ..., 0., 0., 0.]]],\n",
       "\n",
       "\n",
       "       [[[0., 0., 0., ..., 0., 0., 0.],\n",
       "         [0., 0., 0., ..., 0., 0., 0.],\n",
       "         [0., 0., 0., ..., 0., 0., 0.],\n",
       "         ...,\n",
       "         [0., 0., 0., ..., 0., 0., 0.],\n",
       "         [0., 0., 0., ..., 0., 0., 0.],\n",
       "         [0., 0., 0., ..., 0., 0., 0.]],\n",
       "\n",
       "        [[0., 0., 0., ..., 0., 0., 0.],\n",
       "         [0., 0., 0., ..., 0., 0., 0.],\n",
       "         [0., 0., 0., ..., 0., 0., 0.],\n",
       "         ...,\n",
       "         [0., 0., 0., ..., 0., 0., 0.],\n",
       "         [0., 0., 0., ..., 0., 0., 0.],\n",
       "         [0., 0., 0., ..., 0., 0., 0.]],\n",
       "\n",
       "        [[0., 0., 0., ..., 0., 0., 0.],\n",
       "         [0., 0., 0., ..., 0., 0., 0.],\n",
       "         [0., 0., 0., ..., 0., 0., 0.],\n",
       "         ...,\n",
       "         [0., 0., 0., ..., 0., 0., 0.],\n",
       "         [0., 0., 0., ..., 0., 0., 0.],\n",
       "         [0., 0., 0., ..., 0., 0., 0.]],\n",
       "\n",
       "        ...,\n",
       "\n",
       "        [[0., 0., 0., ..., 0., 0., 0.],\n",
       "         [0., 0., 0., ..., 0., 0., 0.],\n",
       "         [0., 0., 0., ..., 0., 0., 0.],\n",
       "         ...,\n",
       "         [0., 0., 0., ..., 0., 0., 0.],\n",
       "         [0., 0., 0., ..., 0., 0., 0.],\n",
       "         [0., 0., 0., ..., 0., 0., 0.]],\n",
       "\n",
       "        [[0., 0., 0., ..., 0., 0., 0.],\n",
       "         [0., 0., 0., ..., 0., 0., 0.],\n",
       "         [0., 0., 0., ..., 0., 0., 0.],\n",
       "         ...,\n",
       "         [0., 0., 0., ..., 0., 0., 0.],\n",
       "         [0., 0., 0., ..., 0., 0., 0.],\n",
       "         [0., 0., 0., ..., 0., 0., 0.]],\n",
       "\n",
       "        [[0., 0., 0., ..., 0., 0., 0.],\n",
       "         [0., 0., 0., ..., 0., 0., 0.],\n",
       "         [0., 0., 0., ..., 0., 0., 0.],\n",
       "         ...,\n",
       "         [0., 0., 0., ..., 0., 0., 0.],\n",
       "         [0., 0., 0., ..., 0., 0., 0.],\n",
       "         [0., 0., 0., ..., 0., 0., 0.]]],\n",
       "\n",
       "\n",
       "       [[[0., 0., 0., ..., 0., 0., 0.],\n",
       "         [0., 0., 0., ..., 0., 0., 0.],\n",
       "         [0., 0., 0., ..., 0., 0., 0.],\n",
       "         ...,\n",
       "         [0., 0., 0., ..., 0., 0., 0.],\n",
       "         [0., 0., 0., ..., 0., 0., 0.],\n",
       "         [0., 0., 0., ..., 0., 0., 0.]],\n",
       "\n",
       "        [[0., 0., 0., ..., 0., 0., 0.],\n",
       "         [0., 0., 0., ..., 0., 0., 0.],\n",
       "         [0., 0., 0., ..., 0., 0., 0.],\n",
       "         ...,\n",
       "         [0., 0., 0., ..., 0., 0., 0.],\n",
       "         [0., 0., 0., ..., 0., 0., 0.],\n",
       "         [0., 0., 0., ..., 0., 0., 0.]],\n",
       "\n",
       "        [[0., 0., 0., ..., 0., 0., 0.],\n",
       "         [0., 0., 0., ..., 0., 0., 0.],\n",
       "         [0., 0., 0., ..., 0., 0., 0.],\n",
       "         ...,\n",
       "         [0., 0., 0., ..., 0., 0., 0.],\n",
       "         [0., 0., 0., ..., 0., 0., 0.],\n",
       "         [0., 0., 0., ..., 0., 0., 0.]],\n",
       "\n",
       "        ...,\n",
       "\n",
       "        [[0., 0., 0., ..., 0., 0., 0.],\n",
       "         [0., 0., 0., ..., 0., 0., 0.],\n",
       "         [0., 0., 0., ..., 0., 0., 0.],\n",
       "         ...,\n",
       "         [0., 0., 0., ..., 0., 0., 0.],\n",
       "         [0., 0., 0., ..., 0., 0., 0.],\n",
       "         [0., 0., 0., ..., 0., 0., 0.]],\n",
       "\n",
       "        [[0., 0., 0., ..., 0., 0., 0.],\n",
       "         [0., 0., 0., ..., 0., 0., 0.],\n",
       "         [0., 0., 0., ..., 0., 0., 0.],\n",
       "         ...,\n",
       "         [0., 0., 0., ..., 0., 0., 0.],\n",
       "         [0., 0., 0., ..., 0., 0., 0.],\n",
       "         [0., 0., 0., ..., 0., 0., 0.]],\n",
       "\n",
       "        [[0., 0., 0., ..., 0., 0., 0.],\n",
       "         [0., 0., 0., ..., 0., 0., 0.],\n",
       "         [0., 0., 0., ..., 0., 0., 0.],\n",
       "         ...,\n",
       "         [0., 0., 0., ..., 0., 0., 0.],\n",
       "         [0., 0., 0., ..., 0., 0., 0.],\n",
       "         [0., 0., 0., ..., 0., 0., 0.]]],\n",
       "\n",
       "\n",
       "       ...,\n",
       "\n",
       "\n",
       "       [[[0., 0., 0., ..., 0., 0., 0.],\n",
       "         [0., 0., 0., ..., 0., 0., 0.],\n",
       "         [0., 0., 0., ..., 0., 0., 0.],\n",
       "         ...,\n",
       "         [0., 0., 0., ..., 0., 0., 0.],\n",
       "         [0., 0., 0., ..., 0., 0., 0.],\n",
       "         [0., 0., 0., ..., 0., 0., 0.]],\n",
       "\n",
       "        [[0., 0., 0., ..., 0., 0., 0.],\n",
       "         [0., 0., 0., ..., 0., 0., 0.],\n",
       "         [0., 0., 0., ..., 0., 0., 0.],\n",
       "         ...,\n",
       "         [0., 0., 0., ..., 0., 0., 0.],\n",
       "         [0., 0., 0., ..., 0., 0., 0.],\n",
       "         [0., 0., 0., ..., 0., 0., 0.]],\n",
       "\n",
       "        [[0., 0., 0., ..., 0., 0., 0.],\n",
       "         [0., 0., 0., ..., 0., 0., 0.],\n",
       "         [0., 0., 0., ..., 0., 0., 0.],\n",
       "         ...,\n",
       "         [0., 0., 0., ..., 0., 0., 0.],\n",
       "         [0., 0., 0., ..., 0., 0., 0.],\n",
       "         [0., 0., 0., ..., 0., 0., 0.]],\n",
       "\n",
       "        ...,\n",
       "\n",
       "        [[0., 0., 0., ..., 0., 0., 0.],\n",
       "         [0., 0., 0., ..., 0., 0., 0.],\n",
       "         [0., 0., 0., ..., 0., 0., 0.],\n",
       "         ...,\n",
       "         [0., 0., 0., ..., 0., 0., 0.],\n",
       "         [0., 0., 0., ..., 0., 0., 0.],\n",
       "         [0., 0., 0., ..., 0., 0., 0.]],\n",
       "\n",
       "        [[0., 0., 0., ..., 0., 0., 0.],\n",
       "         [0., 0., 0., ..., 0., 0., 0.],\n",
       "         [0., 0., 0., ..., 0., 0., 0.],\n",
       "         ...,\n",
       "         [0., 0., 0., ..., 0., 0., 0.],\n",
       "         [0., 0., 0., ..., 0., 0., 0.],\n",
       "         [0., 0., 0., ..., 0., 0., 0.]],\n",
       "\n",
       "        [[0., 0., 0., ..., 0., 0., 0.],\n",
       "         [0., 0., 0., ..., 0., 0., 0.],\n",
       "         [0., 0., 0., ..., 0., 0., 0.],\n",
       "         ...,\n",
       "         [0., 0., 0., ..., 0., 0., 0.],\n",
       "         [0., 0., 0., ..., 0., 0., 0.],\n",
       "         [0., 0., 0., ..., 0., 0., 0.]]],\n",
       "\n",
       "\n",
       "       [[[0., 0., 0., ..., 0., 0., 0.],\n",
       "         [0., 0., 0., ..., 0., 0., 0.],\n",
       "         [0., 0., 0., ..., 0., 0., 0.],\n",
       "         ...,\n",
       "         [0., 0., 0., ..., 0., 0., 0.],\n",
       "         [0., 0., 0., ..., 0., 0., 0.],\n",
       "         [0., 0., 0., ..., 0., 0., 0.]],\n",
       "\n",
       "        [[0., 0., 0., ..., 0., 0., 0.],\n",
       "         [0., 0., 0., ..., 0., 0., 0.],\n",
       "         [0., 0., 0., ..., 0., 0., 0.],\n",
       "         ...,\n",
       "         [0., 0., 0., ..., 0., 0., 0.],\n",
       "         [0., 0., 0., ..., 0., 0., 0.],\n",
       "         [0., 0., 0., ..., 0., 0., 0.]],\n",
       "\n",
       "        [[0., 0., 0., ..., 0., 0., 0.],\n",
       "         [0., 0., 0., ..., 0., 0., 0.],\n",
       "         [0., 0., 0., ..., 0., 0., 0.],\n",
       "         ...,\n",
       "         [0., 0., 0., ..., 0., 0., 0.],\n",
       "         [0., 0., 0., ..., 0., 0., 0.],\n",
       "         [0., 0., 0., ..., 0., 0., 0.]],\n",
       "\n",
       "        ...,\n",
       "\n",
       "        [[0., 0., 0., ..., 0., 0., 0.],\n",
       "         [0., 0., 0., ..., 0., 0., 0.],\n",
       "         [0., 0., 0., ..., 0., 0., 0.],\n",
       "         ...,\n",
       "         [0., 0., 0., ..., 0., 0., 0.],\n",
       "         [0., 0., 0., ..., 0., 0., 0.],\n",
       "         [0., 0., 0., ..., 0., 0., 0.]],\n",
       "\n",
       "        [[0., 0., 0., ..., 0., 0., 0.],\n",
       "         [0., 0., 0., ..., 0., 0., 0.],\n",
       "         [0., 0., 0., ..., 0., 0., 0.],\n",
       "         ...,\n",
       "         [0., 0., 0., ..., 0., 0., 0.],\n",
       "         [0., 0., 0., ..., 0., 0., 0.],\n",
       "         [0., 0., 0., ..., 0., 0., 0.]],\n",
       "\n",
       "        [[0., 0., 0., ..., 0., 0., 0.],\n",
       "         [0., 0., 0., ..., 0., 0., 0.],\n",
       "         [0., 0., 0., ..., 0., 0., 0.],\n",
       "         ...,\n",
       "         [0., 0., 0., ..., 0., 0., 0.],\n",
       "         [0., 0., 0., ..., 0., 0., 0.],\n",
       "         [0., 0., 0., ..., 0., 0., 0.]]],\n",
       "\n",
       "\n",
       "       [[[0., 0., 0., ..., 0., 0., 0.],\n",
       "         [0., 0., 0., ..., 0., 0., 0.],\n",
       "         [0., 0., 0., ..., 0., 0., 0.],\n",
       "         ...,\n",
       "         [0., 0., 0., ..., 0., 0., 0.],\n",
       "         [0., 0., 0., ..., 0., 0., 0.],\n",
       "         [0., 0., 0., ..., 0., 0., 0.]],\n",
       "\n",
       "        [[0., 0., 0., ..., 0., 0., 0.],\n",
       "         [0., 0., 0., ..., 0., 0., 0.],\n",
       "         [0., 0., 0., ..., 0., 0., 0.],\n",
       "         ...,\n",
       "         [0., 0., 0., ..., 0., 0., 0.],\n",
       "         [0., 0., 0., ..., 0., 0., 0.],\n",
       "         [0., 0., 0., ..., 0., 0., 0.]],\n",
       "\n",
       "        [[0., 0., 0., ..., 0., 0., 0.],\n",
       "         [0., 0., 0., ..., 0., 0., 0.],\n",
       "         [0., 0., 0., ..., 0., 0., 0.],\n",
       "         ...,\n",
       "         [0., 0., 0., ..., 0., 0., 0.],\n",
       "         [0., 0., 0., ..., 0., 0., 0.],\n",
       "         [0., 0., 0., ..., 0., 0., 0.]],\n",
       "\n",
       "        ...,\n",
       "\n",
       "        [[0., 0., 0., ..., 0., 0., 0.],\n",
       "         [0., 0., 0., ..., 0., 0., 0.],\n",
       "         [0., 0., 0., ..., 0., 0., 0.],\n",
       "         ...,\n",
       "         [0., 0., 0., ..., 0., 0., 0.],\n",
       "         [0., 0., 0., ..., 0., 0., 0.],\n",
       "         [0., 0., 0., ..., 0., 0., 0.]],\n",
       "\n",
       "        [[0., 0., 0., ..., 0., 0., 0.],\n",
       "         [0., 0., 0., ..., 0., 0., 0.],\n",
       "         [0., 0., 0., ..., 0., 0., 0.],\n",
       "         ...,\n",
       "         [0., 0., 0., ..., 0., 0., 0.],\n",
       "         [0., 0., 0., ..., 0., 0., 0.],\n",
       "         [0., 0., 0., ..., 0., 0., 0.]],\n",
       "\n",
       "        [[0., 0., 0., ..., 0., 0., 0.],\n",
       "         [0., 0., 0., ..., 0., 0., 0.],\n",
       "         [0., 0., 0., ..., 0., 0., 0.],\n",
       "         ...,\n",
       "         [0., 0., 0., ..., 0., 0., 0.],\n",
       "         [0., 0., 0., ..., 0., 0., 0.],\n",
       "         [0., 0., 0., ..., 0., 0., 0.]]]], dtype=float32)>"
      ]
     },
     "execution_count": 178,
     "metadata": {},
     "output_type": "execute_result"
    }
   ],
   "source": [
    "#Compare the execution time of the two modes.\n",
    "CNN_cell(image)\n",
    "CNN_fn(image)"
   ]
  },
  {
   "cell_type": "code",
   "execution_count": null,
   "id": "96b18b43",
   "metadata": {},
   "outputs": [
    {
     "name": "stdout",
     "output_type": "stream",
     "text": [
      "Computation of one CNN layer in eager execution mode: 7.033313199994154\n",
      "Computation of one CNN layer in graph mode: 3.6503439999651164\n"
     ]
    }
   ],
   "source": [
    "#Call timeit.timeit to measure the time required for executing the code 10 times.\n",
    "print(\"Computation of one CNN layer in eager execution mode:\", timeit.timeit(lambda: CNN_cell(image), number=10))\n",
    "print(\"Computation of one CNN layer in graph mode:\", timeit.timeit(lambda: CNN_fn(image), number=10))"
   ]
  }
 ],
 "metadata": {
  "kernelspec": {
   "display_name": "Python 3.9.7 64-bit",
   "language": "python",
   "name": "python3"
  },
  "language_info": {
   "codemirror_mode": {
    "name": "ipython",
    "version": 3
   },
   "file_extension": ".py",
   "mimetype": "text/x-python",
   "name": "python",
   "nbconvert_exporter": "python",
   "pygments_lexer": "ipython3",
   "version": "3.9.7"
  },
  "vscode": {
   "interpreter": {
    "hash": "1d5c1156327dacead463cc502c55ebae8ce9c8c01979cf154173ff808e75bf55"
   }
  }
 },
 "nbformat": 4,
 "nbformat_minor": 5
}
